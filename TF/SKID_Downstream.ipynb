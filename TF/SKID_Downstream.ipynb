{
 "cells": [
  {
   "cell_type": "code",
   "execution_count": 1,
   "metadata": {
    "colab": {
     "base_uri": "https://localhost:8080/",
     "height": 353
    },
    "colab_type": "code",
    "id": "SDe5C8jwk5e3",
    "outputId": "6e08b567-9339-4a01-85ef-49aa4ff6b907"
   },
   "outputs": [
    {
     "name": "stdout",
     "output_type": "stream",
     "text": [
      "Tue Sep 29 21:59:36 2020       \n",
      "+-----------------------------------------------------------------------------+\n",
      "| NVIDIA-SMI 451.67       Driver Version: 451.67       CUDA Version: 11.0     |\n",
      "|-------------------------------+----------------------+----------------------+\n",
      "| GPU  Name            TCC/WDDM | Bus-Id        Disp.A | Volatile Uncorr. ECC |\n",
      "| Fan  Temp  Perf  Pwr:Usage/Cap|         Memory-Usage | GPU-Util  Compute M. |\n",
      "|===============================+======================+======================|\n",
      "|   0  GeForce RTX 2080   WDDM  | 00000000:01:00.0  On |                  N/A |\n",
      "| 33%   40C    P8    21W / 225W |    401MiB /  8192MiB |      1%      Default |\n",
      "+-------------------------------+----------------------+----------------------+\n",
      "                                                                               \n",
      "+-----------------------------------------------------------------------------+\n",
      "| Processes:                                                                  |\n",
      "|  GPU   GI   CI        PID   Type   Process name                  GPU Memory |\n",
      "|        ID   ID                                                   Usage      |\n",
      "|=============================================================================|\n",
      "|    0   N/A  N/A       464    C+G   ...es.TextInput.InputApp.exe    N/A      |\n",
      "|    0   N/A  N/A      1076    C+G   Insufficient Permissions        N/A      |\n",
      "|    0   N/A  N/A      3280    C+G   ...me\\Application\\chrome.exe    N/A      |\n",
      "|    0   N/A  N/A      5140    C+G   Insufficient Permissions        N/A      |\n",
      "|    0   N/A  N/A      5856    C+G   ...y\\ShellExperienceHost.exe    N/A      |\n",
      "|    0   N/A  N/A      6244    C+G   C:\\Windows\\explorer.exe         N/A      |\n",
      "|    0   N/A  N/A      7124    C+G   ...artMenuExperienceHost.exe    N/A      |\n",
      "|    0   N/A  N/A      7336    C+G   ...w5n1h2txyewy\\SearchUI.exe    N/A      |\n",
      "|    0   N/A  N/A      7840    C+G   ...lPanel\\SystemSettings.exe    N/A      |\n",
      "|    0   N/A  N/A      8172    C+G   ...cw5n1h2txyewy\\LockApp.exe    N/A      |\n",
      "|    0   N/A  N/A      8780    C+G   ...wekyb3d8bbwe\\Video.UI.exe    N/A      |\n",
      "|    0   N/A  N/A      8936    C+G   ...bbwe\\Microsoft.Photos.exe    N/A      |\n",
      "|    0   N/A  N/A      9376    C+G   ...qxf38zg5c\\Skype\\Skype.exe    N/A      |\n",
      "|    0   N/A  N/A     11092    C+G   ...ekyb3d8bbwe\\YourPhone.exe    N/A      |\n",
      "+-----------------------------------------------------------------------------+\n"
     ]
    }
   ],
   "source": [
    "!nvidia-smi"
   ]
  },
  {
   "cell_type": "markdown",
   "metadata": {
    "colab_type": "text",
    "id": "4DW6a6Y8hWtT"
   },
   "source": [
    "# Imports and Utility functions"
   ]
  },
  {
   "cell_type": "markdown",
   "metadata": {
    "colab_type": "text",
    "id": "AYyIZ6dphbN8"
   },
   "source": [
    "## <font color='orange'>Imports</font>"
   ]
  },
  {
   "cell_type": "code",
   "execution_count": 1,
   "metadata": {
    "ExecuteTime": {
     "end_time": "2020-09-29T21:37:28.527788Z",
     "start_time": "2020-09-29T21:37:26.271215Z"
    },
    "colab": {
     "base_uri": "https://localhost:8080/",
     "height": 70
    },
    "colab_type": "code",
    "id": "yQrK-eB3mBAC",
    "outputId": "287ca646-7dff-4f35-c0a8-3527e79009e3"
   },
   "outputs": [],
   "source": [
    "import numpy as np\n",
    "import pandas as pd\n",
    "import shutil, time, os, requests, random, copy, pickle\n",
    "from itertools import permutations \n",
    "import seaborn as sns\n",
    "import imageio\n",
    "from skimage.transform import rotate, AffineTransform, warp, resize\n",
    "#from google.colab.patches import cv2_imshow\n",
    "from IPython.display import clear_output, Image, SVG\n",
    "import h5py\n",
    "\n",
    "#%tensorflow_version 2.x\n",
    "%load_ext tensorboard\n",
    "import tensorflow as tf\n",
    "from tensorflow.keras import backend as K\n",
    "from tensorflow.keras.preprocessing.image import ImageDataGenerator, load_img, img_to_array\n",
    "\n",
    "from tensorflow.keras.layers import Input, Conv2D, MaxPool2D, GlobalAveragePooling2D, AveragePooling2D, BatchNormalization, Reshape\n",
    "\n",
    "#from tensorflow.keras.layers import Conv3D, MaxPooling3D, GlobalAveragePooling3D, AveragePooling3D\n",
    "\n",
    "from tensorflow.keras.layers import Dense, Dropout, Flatten, Activation, Concatenate, Lambda, LeakyReLU, ConvLSTM2D\n",
    "\n",
    "from tensorflow.keras.models import Model, Sequential\n",
    "from tensorflow.keras.callbacks import EarlyStopping, ReduceLROnPlateau, ModelCheckpoint\n",
    "from tensorflow.keras.optimizers import Adam, SGD\n",
    "from tensorflow.keras import regularizers, activations\n",
    "from tensorflow.keras.utils import to_categorical, Sequence\n",
    "\n",
    "from tensorflow.keras.utils import plot_model\n",
    "#from tensorflow.keras.utils import model_to_dot\n",
    "#from tensorflow.keras.applications.inception_resnet_v2 import preprocess_input\n",
    "#from tensorflow.keras.applications.vgg16 import VGG16, preprocess_input\n",
    "\n",
    "from sklearn.utils import shuffle\n",
    "from sklearn.metrics import classification_report, confusion_matrix, roc_curve, auc, f1_score\n",
    "from sklearn.metrics import average_precision_score, precision_recall_curve, roc_auc_score\n",
    "from sklearn.utils.class_weight import compute_class_weight\n",
    "from sklearn.model_selection import train_test_split\n",
    "\n",
    "\n",
    "import matplotlib.pyplot as plt\n",
    "#import matplotlib.animation as animation\n",
    "%matplotlib inline"
   ]
  },
  {
   "cell_type": "code",
   "execution_count": 3,
   "metadata": {
    "ExecuteTime": {
     "end_time": "2020-09-29T21:37:28.600590Z",
     "start_time": "2020-09-29T21:37:28.592607Z"
    },
    "colab": {},
    "colab_type": "code",
    "id": "TpMRrcKfXsbj"
   },
   "outputs": [],
   "source": [
    "#from tensorflow.keras.applications.inception_resnet_v2 import InceptionResNetV2\n",
    "from tensorflow.keras.applications.inception_resnet_v2 import preprocess_input as ppi_irv2"
   ]
  },
  {
   "cell_type": "code",
   "execution_count": null,
   "metadata": {
    "ExecuteTime": {
     "end_time": "2020-09-29T21:37:28.702295Z",
     "start_time": "2020-09-29T21:37:28.631483Z"
    }
   },
   "outputs": [],
   "source": [
    "!nvidia-smi"
   ]
  },
  {
   "cell_type": "markdown",
   "metadata": {
    "colab_type": "text",
    "id": "za2dO2s5kUGd"
   },
   "source": [
    "## <font color='orange'>Analysing and Cleaning Data</font>"
   ]
  },
  {
   "cell_type": "markdown",
   "metadata": {
    "colab_type": "text",
    "id": "OSgqPrYakUGd"
   },
   "source": [
    "### Files"
   ]
  },
  {
   "cell_type": "code",
   "execution_count": 5,
   "metadata": {
    "ExecuteTime": {
     "end_time": "2020-09-29T21:37:30.353821Z",
     "start_time": "2020-09-29T21:37:30.348811Z"
    },
    "colab": {
     "base_uri": "https://localhost:8080/",
     "height": 104
    },
    "colab_type": "code",
    "id": "vGFn5npjkUGe",
    "outputId": "65d993b8-579a-4701-9920-eaeb46f3c58f"
   },
   "outputs": [
    {
     "name": "stdout",
     "output_type": "stream",
     "text": [
      "['.DS_Store', 'train', 'train-abnormal.csv', 'train-acl.csv', 'train-meniscus.csv', 'valid', 'valid-abnormal.csv', 'valid-acl.csv', 'valid-meniscus.csv']\n",
      "\n",
      "Label Files...\n",
      "['train-abnormal.csv', 'train-acl.csv', 'train-meniscus.csv', 'valid-abnormal.csv', 'valid-acl.csv', 'valid-meniscus.csv']\n"
     ]
    }
   ],
   "source": [
    "mrnet_path = '.\\Datasets\\MRNet\\MRNet-v1.0'\n",
    "contents = os.listdir(mrnet_path)\n",
    "print(contents)\n",
    "print('\\nLabel Files...')\n",
    "label_files = [x for x in contents if x.endswith('.csv')]\n",
    "print(label_files)"
   ]
  },
  {
   "cell_type": "markdown",
   "metadata": {
    "colab_type": "text",
    "id": "mhLpiTOxpabA"
   },
   "source": [
    "### Real Labels"
   ]
  },
  {
   "cell_type": "code",
   "execution_count": 6,
   "metadata": {
    "ExecuteTime": {
     "end_time": "2020-09-29T21:37:31.857105Z",
     "start_time": "2020-09-29T21:37:31.848129Z"
    },
    "colab": {},
    "colab_type": "code",
    "id": "anVc7J0EpVTe"
   },
   "outputs": [],
   "source": [
    "#For Colab /root/MRNet/MRNet-v1.0/\n",
    "trabn = pd.read_csv(mrnet_path+'\\\\train-abnormal.csv',header=None)\n",
    "#trabn.head()\n",
    "tracl = pd.read_csv(mrnet_path+'\\\\train-acl.csv',header=None)\n",
    "#tracl.head()\n",
    "trmen = pd.read_csv(mrnet_path+'\\\\train-meniscus.csv',header=None)\n",
    "#trmen.head()"
   ]
  },
  {
   "cell_type": "code",
   "execution_count": 7,
   "metadata": {
    "ExecuteTime": {
     "end_time": "2020-09-29T21:37:34.709964Z",
     "start_time": "2020-09-29T21:37:34.706952Z"
    },
    "colab": {},
    "colab_type": "code",
    "id": "w_h49rgokUGr"
   },
   "outputs": [],
   "source": [
    "trabn.columns = ['patient_id','label']\n",
    "tracl.columns = ['patient_id','label']\n",
    "trmen.columns = ['patient_id','label']"
   ]
  },
  {
   "cell_type": "code",
   "execution_count": 8,
   "metadata": {
    "ExecuteTime": {
     "end_time": "2020-09-29T21:37:35.346741Z",
     "start_time": "2020-09-29T21:37:35.333776Z"
    },
    "colab": {
     "base_uri": "https://localhost:8080/",
     "height": 195
    },
    "colab_type": "code",
    "id": "LFLSUNlfkUGt",
    "outputId": "09bb652c-ca37-4b2c-dc4e-b530c9feecb1"
   },
   "outputs": [
    {
     "data": {
      "text/html": [
       "<div>\n",
       "<style scoped>\n",
       "    .dataframe tbody tr th:only-of-type {\n",
       "        vertical-align: middle;\n",
       "    }\n",
       "\n",
       "    .dataframe tbody tr th {\n",
       "        vertical-align: top;\n",
       "    }\n",
       "\n",
       "    .dataframe thead th {\n",
       "        text-align: right;\n",
       "    }\n",
       "</style>\n",
       "<table border=\"1\" class=\"dataframe\">\n",
       "  <thead>\n",
       "    <tr style=\"text-align: right;\">\n",
       "      <th></th>\n",
       "      <th>patient_id</th>\n",
       "      <th>abn</th>\n",
       "      <th>acl</th>\n",
       "      <th>men</th>\n",
       "    </tr>\n",
       "  </thead>\n",
       "  <tbody>\n",
       "    <tr>\n",
       "      <th>0</th>\n",
       "      <td>0</td>\n",
       "      <td>1</td>\n",
       "      <td>0</td>\n",
       "      <td>0</td>\n",
       "    </tr>\n",
       "    <tr>\n",
       "      <th>1</th>\n",
       "      <td>1</td>\n",
       "      <td>1</td>\n",
       "      <td>1</td>\n",
       "      <td>1</td>\n",
       "    </tr>\n",
       "    <tr>\n",
       "      <th>2</th>\n",
       "      <td>2</td>\n",
       "      <td>1</td>\n",
       "      <td>0</td>\n",
       "      <td>0</td>\n",
       "    </tr>\n",
       "    <tr>\n",
       "      <th>3</th>\n",
       "      <td>3</td>\n",
       "      <td>1</td>\n",
       "      <td>0</td>\n",
       "      <td>1</td>\n",
       "    </tr>\n",
       "    <tr>\n",
       "      <th>4</th>\n",
       "      <td>4</td>\n",
       "      <td>1</td>\n",
       "      <td>0</td>\n",
       "      <td>0</td>\n",
       "    </tr>\n",
       "  </tbody>\n",
       "</table>\n",
       "</div>"
      ],
      "text/plain": [
       "   patient_id  abn  acl  men\n",
       "0           0    1    0    0\n",
       "1           1    1    1    1\n",
       "2           2    1    0    0\n",
       "3           3    1    0    1\n",
       "4           4    1    0    0"
      ]
     },
     "execution_count": 8,
     "metadata": {},
     "output_type": "execute_result"
    }
   ],
   "source": [
    "tr_multilabel = trabn.merge(tracl,on='patient_id').merge(trmen,on='patient_id')\n",
    "tr_multilabel.columns = ['patient_id','abn','acl','men']\n",
    "tr_multilabel.head()"
   ]
  },
  {
   "cell_type": "code",
   "execution_count": 9,
   "metadata": {
    "ExecuteTime": {
     "end_time": "2020-09-29T21:37:36.079968Z",
     "start_time": "2020-09-29T21:37:36.071990Z"
    },
    "colab": {},
    "colab_type": "code",
    "id": "qcBYWgQXpeOh"
   },
   "outputs": [],
   "source": [
    "#For Colab /root/MRNet/MRNet-v1.0/\n",
    "valabn = pd.read_csv(mrnet_path+'\\\\valid-abnormal.csv',header=None)\n",
    "valacl = pd.read_csv(mrnet_path+'\\\\valid-acl.csv',header=None)\n",
    "valmen = pd.read_csv(mrnet_path+'\\\\valid-meniscus.csv',header=None)"
   ]
  },
  {
   "cell_type": "code",
   "execution_count": 10,
   "metadata": {
    "ExecuteTime": {
     "end_time": "2020-09-29T21:37:36.641105Z",
     "start_time": "2020-09-29T21:37:36.637115Z"
    },
    "colab": {},
    "colab_type": "code",
    "id": "HCFB7iPtxFkB"
   },
   "outputs": [],
   "source": [
    "valabn.columns = ['patient_id','label']\n",
    "valacl.columns = ['patient_id','label']\n",
    "valmen.columns = ['patient_id','label']"
   ]
  },
  {
   "cell_type": "code",
   "execution_count": 11,
   "metadata": {
    "ExecuteTime": {
     "end_time": "2020-09-29T21:37:37.250898Z",
     "start_time": "2020-09-29T21:37:37.239904Z"
    },
    "colab": {
     "base_uri": "https://localhost:8080/",
     "height": 402
    },
    "colab_type": "code",
    "id": "7VkI9BLokcZn",
    "outputId": "f8ca7b9a-c7f8-4f93-eed7-11897154d0bb"
   },
   "outputs": [
    {
     "data": {
      "text/html": [
       "<div>\n",
       "<style scoped>\n",
       "    .dataframe tbody tr th:only-of-type {\n",
       "        vertical-align: middle;\n",
       "    }\n",
       "\n",
       "    .dataframe tbody tr th {\n",
       "        vertical-align: top;\n",
       "    }\n",
       "\n",
       "    .dataframe thead th {\n",
       "        text-align: right;\n",
       "    }\n",
       "</style>\n",
       "<table border=\"1\" class=\"dataframe\">\n",
       "  <thead>\n",
       "    <tr style=\"text-align: right;\">\n",
       "      <th></th>\n",
       "      <th>patient_id</th>\n",
       "      <th>abn</th>\n",
       "      <th>acl</th>\n",
       "      <th>men</th>\n",
       "    </tr>\n",
       "  </thead>\n",
       "  <tbody>\n",
       "    <tr>\n",
       "      <th>0</th>\n",
       "      <td>1130</td>\n",
       "      <td>0</td>\n",
       "      <td>0</td>\n",
       "      <td>0</td>\n",
       "    </tr>\n",
       "    <tr>\n",
       "      <th>1</th>\n",
       "      <td>1131</td>\n",
       "      <td>0</td>\n",
       "      <td>0</td>\n",
       "      <td>0</td>\n",
       "    </tr>\n",
       "    <tr>\n",
       "      <th>2</th>\n",
       "      <td>1132</td>\n",
       "      <td>0</td>\n",
       "      <td>0</td>\n",
       "      <td>0</td>\n",
       "    </tr>\n",
       "    <tr>\n",
       "      <th>3</th>\n",
       "      <td>1133</td>\n",
       "      <td>0</td>\n",
       "      <td>0</td>\n",
       "      <td>0</td>\n",
       "    </tr>\n",
       "    <tr>\n",
       "      <th>4</th>\n",
       "      <td>1134</td>\n",
       "      <td>0</td>\n",
       "      <td>0</td>\n",
       "      <td>0</td>\n",
       "    </tr>\n",
       "    <tr>\n",
       "      <th>...</th>\n",
       "      <td>...</td>\n",
       "      <td>...</td>\n",
       "      <td>...</td>\n",
       "      <td>...</td>\n",
       "    </tr>\n",
       "    <tr>\n",
       "      <th>115</th>\n",
       "      <td>1245</td>\n",
       "      <td>1</td>\n",
       "      <td>1</td>\n",
       "      <td>1</td>\n",
       "    </tr>\n",
       "    <tr>\n",
       "      <th>116</th>\n",
       "      <td>1246</td>\n",
       "      <td>1</td>\n",
       "      <td>1</td>\n",
       "      <td>1</td>\n",
       "    </tr>\n",
       "    <tr>\n",
       "      <th>117</th>\n",
       "      <td>1247</td>\n",
       "      <td>1</td>\n",
       "      <td>0</td>\n",
       "      <td>1</td>\n",
       "    </tr>\n",
       "    <tr>\n",
       "      <th>118</th>\n",
       "      <td>1248</td>\n",
       "      <td>1</td>\n",
       "      <td>1</td>\n",
       "      <td>1</td>\n",
       "    </tr>\n",
       "    <tr>\n",
       "      <th>119</th>\n",
       "      <td>1249</td>\n",
       "      <td>1</td>\n",
       "      <td>0</td>\n",
       "      <td>1</td>\n",
       "    </tr>\n",
       "  </tbody>\n",
       "</table>\n",
       "<p>120 rows × 4 columns</p>\n",
       "</div>"
      ],
      "text/plain": [
       "     patient_id  abn  acl  men\n",
       "0          1130    0    0    0\n",
       "1          1131    0    0    0\n",
       "2          1132    0    0    0\n",
       "3          1133    0    0    0\n",
       "4          1134    0    0    0\n",
       "..          ...  ...  ...  ...\n",
       "115        1245    1    1    1\n",
       "116        1246    1    1    1\n",
       "117        1247    1    0    1\n",
       "118        1248    1    1    1\n",
       "119        1249    1    0    1\n",
       "\n",
       "[120 rows x 4 columns]"
      ]
     },
     "execution_count": 11,
     "metadata": {},
     "output_type": "execute_result"
    }
   ],
   "source": [
    "val_multilabel = valabn.merge(valacl,on='patient_id').merge(valmen,on='patient_id')\n",
    "val_multilabel.columns = ['patient_id','abn','acl','men']\n",
    "val_multilabel.head(120)"
   ]
  },
  {
   "cell_type": "markdown",
   "metadata": {
    "colab_type": "text",
    "id": "8Q4ocHEjkUGy"
   },
   "source": [
    "### <font color='blue'>Filename DataFrame</font>"
   ]
  },
  {
   "cell_type": "code",
   "execution_count": 12,
   "metadata": {
    "ExecuteTime": {
     "end_time": "2020-09-29T21:37:40.002592Z",
     "start_time": "2020-09-29T21:37:39.977631Z"
    },
    "colab": {
     "base_uri": "https://localhost:8080/",
     "height": 195
    },
    "colab_type": "code",
    "id": "KJ2-QRfnkUGy",
    "outputId": "f0c61d9e-81bd-40b8-92c1-7d0d9b2accb9",
    "scrolled": true
   },
   "outputs": [
    {
     "data": {
      "text/html": [
       "<div>\n",
       "<style scoped>\n",
       "    .dataframe tbody tr th:only-of-type {\n",
       "        vertical-align: middle;\n",
       "    }\n",
       "\n",
       "    .dataframe tbody tr th {\n",
       "        vertical-align: top;\n",
       "    }\n",
       "\n",
       "    .dataframe thead th {\n",
       "        text-align: right;\n",
       "    }\n",
       "</style>\n",
       "<table border=\"1\" class=\"dataframe\">\n",
       "  <thead>\n",
       "    <tr style=\"text-align: right;\">\n",
       "      <th></th>\n",
       "      <th>patient_id</th>\n",
       "      <th>filename</th>\n",
       "    </tr>\n",
       "  </thead>\n",
       "  <tbody>\n",
       "    <tr>\n",
       "      <th>0</th>\n",
       "      <td>0</td>\n",
       "      <td>0000.npy</td>\n",
       "    </tr>\n",
       "    <tr>\n",
       "      <th>1</th>\n",
       "      <td>1</td>\n",
       "      <td>0001.npy</td>\n",
       "    </tr>\n",
       "    <tr>\n",
       "      <th>2</th>\n",
       "      <td>2</td>\n",
       "      <td>0002.npy</td>\n",
       "    </tr>\n",
       "    <tr>\n",
       "      <th>3</th>\n",
       "      <td>3</td>\n",
       "      <td>0003.npy</td>\n",
       "    </tr>\n",
       "    <tr>\n",
       "      <th>4</th>\n",
       "      <td>4</td>\n",
       "      <td>0004.npy</td>\n",
       "    </tr>\n",
       "    <tr>\n",
       "      <th>...</th>\n",
       "      <td>...</td>\n",
       "      <td>...</td>\n",
       "    </tr>\n",
       "    <tr>\n",
       "      <th>1125</th>\n",
       "      <td>1125</td>\n",
       "      <td>1125.npy</td>\n",
       "    </tr>\n",
       "    <tr>\n",
       "      <th>1126</th>\n",
       "      <td>1126</td>\n",
       "      <td>1126.npy</td>\n",
       "    </tr>\n",
       "    <tr>\n",
       "      <th>1127</th>\n",
       "      <td>1127</td>\n",
       "      <td>1127.npy</td>\n",
       "    </tr>\n",
       "    <tr>\n",
       "      <th>1128</th>\n",
       "      <td>1128</td>\n",
       "      <td>1128.npy</td>\n",
       "    </tr>\n",
       "    <tr>\n",
       "      <th>1129</th>\n",
       "      <td>1129</td>\n",
       "      <td>1129.npy</td>\n",
       "    </tr>\n",
       "  </tbody>\n",
       "</table>\n",
       "<p>1130 rows × 2 columns</p>\n",
       "</div>"
      ],
      "text/plain": [
       "      patient_id  filename\n",
       "0              0  0000.npy\n",
       "1              1  0001.npy\n",
       "2              2  0002.npy\n",
       "3              3  0003.npy\n",
       "4              4  0004.npy\n",
       "...          ...       ...\n",
       "1125        1125  1125.npy\n",
       "1126        1126  1126.npy\n",
       "1127        1127  1127.npy\n",
       "1128        1128  1128.npy\n",
       "1129        1129  1129.npy\n",
       "\n",
       "[1130 rows x 2 columns]"
      ]
     },
     "execution_count": 12,
     "metadata": {},
     "output_type": "execute_result"
    }
   ],
   "source": [
    "tr_filenames_df = pd.DataFrame(columns=['filename'])\n",
    "tr_filenames_df['filename'] = os.listdir(mrnet_path+'\\\\train\\\\axial')\n",
    "tr_filenames_df['patient_id'] = tr_filenames_df.apply(lambda x : int(x['filename'][:-4]),axis=1)\n",
    "tr_filenames_df = tr_filenames_df[list(('patient_id','filename'))]\n",
    "tr_filenames_df.sort_values(by=['patient_id'],ascending=True,inplace=True,ignore_index=True)\n",
    "\n",
    "tr_filenames_df"
   ]
  },
  {
   "cell_type": "code",
   "execution_count": 13,
   "metadata": {
    "ExecuteTime": {
     "end_time": "2020-09-29T21:37:40.816058Z",
     "start_time": "2020-09-29T21:37:40.801121Z"
    },
    "colab": {
     "base_uri": "https://localhost:8080/",
     "height": 402
    },
    "colab_type": "code",
    "id": "xYkMwRwNqfe0",
    "outputId": "6dee82f0-ff2e-406d-de92-35233a4ab41a"
   },
   "outputs": [
    {
     "data": {
      "text/html": [
       "<div>\n",
       "<style scoped>\n",
       "    .dataframe tbody tr th:only-of-type {\n",
       "        vertical-align: middle;\n",
       "    }\n",
       "\n",
       "    .dataframe tbody tr th {\n",
       "        vertical-align: top;\n",
       "    }\n",
       "\n",
       "    .dataframe thead th {\n",
       "        text-align: right;\n",
       "    }\n",
       "</style>\n",
       "<table border=\"1\" class=\"dataframe\">\n",
       "  <thead>\n",
       "    <tr style=\"text-align: right;\">\n",
       "      <th></th>\n",
       "      <th>patient_id</th>\n",
       "      <th>filename</th>\n",
       "    </tr>\n",
       "  </thead>\n",
       "  <tbody>\n",
       "    <tr>\n",
       "      <th>0</th>\n",
       "      <td>1130</td>\n",
       "      <td>1130.npy</td>\n",
       "    </tr>\n",
       "    <tr>\n",
       "      <th>1</th>\n",
       "      <td>1131</td>\n",
       "      <td>1131.npy</td>\n",
       "    </tr>\n",
       "    <tr>\n",
       "      <th>2</th>\n",
       "      <td>1132</td>\n",
       "      <td>1132.npy</td>\n",
       "    </tr>\n",
       "    <tr>\n",
       "      <th>3</th>\n",
       "      <td>1133</td>\n",
       "      <td>1133.npy</td>\n",
       "    </tr>\n",
       "    <tr>\n",
       "      <th>4</th>\n",
       "      <td>1134</td>\n",
       "      <td>1134.npy</td>\n",
       "    </tr>\n",
       "    <tr>\n",
       "      <th>...</th>\n",
       "      <td>...</td>\n",
       "      <td>...</td>\n",
       "    </tr>\n",
       "    <tr>\n",
       "      <th>115</th>\n",
       "      <td>1245</td>\n",
       "      <td>1245.npy</td>\n",
       "    </tr>\n",
       "    <tr>\n",
       "      <th>116</th>\n",
       "      <td>1246</td>\n",
       "      <td>1246.npy</td>\n",
       "    </tr>\n",
       "    <tr>\n",
       "      <th>117</th>\n",
       "      <td>1247</td>\n",
       "      <td>1247.npy</td>\n",
       "    </tr>\n",
       "    <tr>\n",
       "      <th>118</th>\n",
       "      <td>1248</td>\n",
       "      <td>1248.npy</td>\n",
       "    </tr>\n",
       "    <tr>\n",
       "      <th>119</th>\n",
       "      <td>1249</td>\n",
       "      <td>1249.npy</td>\n",
       "    </tr>\n",
       "  </tbody>\n",
       "</table>\n",
       "<p>120 rows × 2 columns</p>\n",
       "</div>"
      ],
      "text/plain": [
       "     patient_id  filename\n",
       "0          1130  1130.npy\n",
       "1          1131  1131.npy\n",
       "2          1132  1132.npy\n",
       "3          1133  1133.npy\n",
       "4          1134  1134.npy\n",
       "..          ...       ...\n",
       "115        1245  1245.npy\n",
       "116        1246  1246.npy\n",
       "117        1247  1247.npy\n",
       "118        1248  1248.npy\n",
       "119        1249  1249.npy\n",
       "\n",
       "[120 rows x 2 columns]"
      ]
     },
     "execution_count": 13,
     "metadata": {},
     "output_type": "execute_result"
    }
   ],
   "source": [
    "val_filenames_df = pd.DataFrame(columns=['filename'])\n",
    "val_filenames_df['filename'] = os.listdir(mrnet_path+'\\\\valid\\\\axial')\n",
    "val_filenames_df['patient_id'] = val_filenames_df.apply(lambda x : int(x['filename'][:-4]),axis=1)\n",
    "val_filenames_df = val_filenames_df[list(('patient_id','filename'))]\n",
    "val_filenames_df.sort_values(by=['patient_id'],ascending=True,inplace=True,ignore_index=True)\n",
    "\n",
    "val_filenames_df"
   ]
  },
  {
   "cell_type": "markdown",
   "metadata": {
    "colab_type": "text",
    "id": "yzDaX73PhzXv"
   },
   "source": [
    "## <font color='orange'>Utility Functions</font>"
   ]
  },
  {
   "cell_type": "markdown",
   "metadata": {
    "colab_type": "text",
    "id": "8c44LNulTb8i"
   },
   "source": [
    "### <font color='blue'>Declaring the required PATH variables</font>"
   ]
  },
  {
   "cell_type": "code",
   "execution_count": 14,
   "metadata": {
    "ExecuteTime": {
     "end_time": "2020-09-29T21:37:44.104861Z",
     "start_time": "2020-09-29T21:37:44.098887Z"
    },
    "colab": {},
    "colab_type": "code",
    "id": "x6u18pYcWtfw"
   },
   "outputs": [],
   "source": [
    "#For Colab '/root/MRNet/MRNet-v1.0/'\n",
    "\n",
    "train_dir = mrnet_path+'\\\\train'\n",
    "valid_dir = mrnet_path+'\\\\valid'\n",
    "axial_mode= 'axial'\n",
    "sagit_mode='sagittal'\n",
    "coron_mode='coronal'\n",
    "base_dir = mrnet_path\n",
    "\n",
    "NUM_FRAMES = 16\n",
    "batch_size = 1 #32\n",
    "NUM_CLASSES = 3\n",
    "NUM_PATCHES = 9"
   ]
  },
  {
   "cell_type": "markdown",
   "metadata": {},
   "source": [
    "## Callback"
   ]
  },
  {
   "cell_type": "code",
   "execution_count": 15,
   "metadata": {
    "ExecuteTime": {
     "end_time": "2020-09-29T21:37:49.923084Z",
     "start_time": "2020-09-29T21:37:49.920073Z"
    },
    "colab": {},
    "colab_type": "code",
    "id": "Klg4fy0cMW_U"
   },
   "outputs": [],
   "source": [
    "#os.makedirs('saved_models/')\n",
    "\n",
    "def get_callbacks():\n",
    "    save_dir = './saved_model/'\n",
    "    model_name = '/path/to/best/model.h5'\n",
    "\n",
    "    checkpoint = tf.keras.callbacks.ModelCheckpoint(save_dir+model_name, monitor='val_binary_accuracy', verbose=1, \n",
    "                             save_best_only=True, mode='max')\n",
    "\n",
    "    '''reduce_lr = tf.keras.callbacks.ReduceLROnPlateau(monitor='val_accuracy', factor=0.5, patience=4, \n",
    "                                   verbose=1, mode='max', min_lr=0.00001)'''\n",
    "                              \n",
    "    early = tf.keras.callbacks.EarlyStopping(monitor=\"val_loss\", mode=\"min\", patience=10)\n",
    "\n",
    "    callbacks_list = [checkpoint, early]\n",
    "\n",
    "    return callbacks_list"
   ]
  },
  {
   "cell_type": "markdown",
   "metadata": {
    "colab_type": "text",
    "heading_collapsed": true,
    "id": "42RiWwJZkUH5"
   },
   "source": [
    "### <font color='blue'>Performance Metrics</font>"
   ]
  },
  {
   "cell_type": "code",
   "execution_count": 16,
   "metadata": {
    "ExecuteTime": {
     "end_time": "2020-09-29T21:37:53.274147Z",
     "start_time": "2020-09-29T21:37:53.249214Z"
    },
    "colab": {},
    "colab_type": "code",
    "hidden": true,
    "id": "kpT8np6skUH5"
   },
   "outputs": [],
   "source": [
    "#util_wk2\n",
    "def TP(y, pred, th=0.5):\n",
    "    pred_t = (pred > th)\n",
    "    return np.sum((pred_t == True) & (y == 1))\n",
    "\n",
    "\n",
    "def TN(y, pred, th=0.5):\n",
    "    pred_t = (pred > th)\n",
    "    return np.sum((pred_t == False) & (y == 0))\n",
    "\n",
    "\n",
    "def FN(y, pred, th=0.5):\n",
    "    pred_t = (pred > th)\n",
    "    return np.sum((pred_t == False) & (y == 1))\n",
    "\n",
    "\n",
    "def FP(y, pred, th=0.5):\n",
    "    pred_t = (pred > th)\n",
    "    return np.sum((pred_t == True) & (y == 0))\n",
    "\n",
    "def get_accuracy(y, pred, th=0.5):\n",
    "    tp = TP(y,pred,th)\n",
    "    fp = FP(y,pred,th)\n",
    "    tn = TN(y,pred,th)\n",
    "    fn = FN(y,pred,th)\n",
    "    \n",
    "    return (tp+tn)/(tp+fp+tn+fn)\n",
    "\n",
    "def get_prevalence(y):\n",
    "    return np.sum(y)/y.shape[0]\n",
    "\n",
    "def sensitivity(y, pred, th=0.5):\n",
    "    tp = TP(y,pred,th)\n",
    "    fn = FN(y,pred,th)\n",
    "    \n",
    "    return tp/(tp+fn)\n",
    "\n",
    "def specificity(y, pred, th=0.5):\n",
    "    tn = TN(y,pred,th)\n",
    "    fp = FP(y,pred,th)\n",
    "    \n",
    "    return tn/(tn+fp)\n",
    "\n",
    "def get_ppv(y, pred, th=0.5):\n",
    "    tp = TP(y,pred,th)\n",
    "    fp = FP(y,pred,th)\n",
    "    \n",
    "    return tp/(tp+fp)\n",
    "\n",
    "def get_npv(y, pred, th=0.5):\n",
    "    tn = TN(y,pred,th)\n",
    "    fn = FN(y,pred,th)\n",
    "    \n",
    "    return tn/(tn+fn)\n",
    "\n",
    "\n",
    "def get_performance_metrics(y, pred, class_labels, tp=TP,\n",
    "                            tn=TN, fp=FP,\n",
    "                            fn=FN,\n",
    "                            acc=get_accuracy, prevalence=get_prevalence, \n",
    "                            spec=specificity,sens=sensitivity, ppv=get_ppv, \n",
    "                            npv=get_npv, auc=roc_auc_score, f1=f1_score,\n",
    "                            thresholds=[]):\n",
    "    if len(thresholds) != len(class_labels):\n",
    "        thresholds = [.5] * len(class_labels)\n",
    "\n",
    "    columns = [\"\", \"TP\", \"TN\", \"FP\", \"FN\", \"Accuracy\", \"Prevalence\",\n",
    "               \"Sensitivity\",\n",
    "               \"Specificity\", \"PPV\", \"NPV\", \"AUC\", \"F1\", \"Threshold\"]\n",
    "    df = pd.DataFrame(columns=columns)\n",
    "    for i in range(len(class_labels)):\n",
    "        df.loc[i] = [\"\"] + [0] * (len(columns) - 1)\n",
    "        df.loc[i][0] = class_labels[i]\n",
    "        df.loc[i][1] = round(tp(y[:, i], pred[:, i]),\n",
    "                             3) if tp != None else \"Not Defined\"\n",
    "        df.loc[i][2] = round(tn(y[:, i], pred[:, i]),\n",
    "                             3) if tn != None else \"Not Defined\"\n",
    "        df.loc[i][3] = round(fp(y[:, i], pred[:, i]),\n",
    "                             3) if fp != None else \"Not Defined\"\n",
    "        df.loc[i][4] = round(fn(y[:, i], pred[:, i]),\n",
    "                             3) if fn != None else \"Not Defined\"\n",
    "        df.loc[i][5] = round(acc(y[:, i], pred[:, i], thresholds[i]),\n",
    "                             3) if acc != None else \"Not Defined\"\n",
    "        df.loc[i][6] = round(prevalence(y[:, i]),\n",
    "                             3) if prevalence != None else \"Not Defined\"\n",
    "        df.loc[i][7] = round(sens(y[:, i], pred[:, i], thresholds[i]),\n",
    "                             3) if sens != None else \"Not Defined\"\n",
    "        df.loc[i][8] = round(spec(y[:, i], pred[:, i], thresholds[i]),\n",
    "                             3) if spec != None else \"Not Defined\"\n",
    "        df.loc[i][9] = round(ppv(y[:, i], pred[:, i], thresholds[i]),\n",
    "                             3) if ppv != None else \"Not Defined\"\n",
    "        df.loc[i][10] = round(npv(y[:, i], pred[:, i], thresholds[i]),\n",
    "                              3) if npv != None else \"Not Defined\"\n",
    "        df.loc[i][11] = round(auc(y[:, i], pred[:, i]),\n",
    "                              3) if auc != None else \"Not Defined\"\n",
    "        df.loc[i][12] = round(f1(y[:, i], pred[:, i] > thresholds[i]),\n",
    "                              3) if f1 != None else \"Not Defined\"\n",
    "        df.loc[i][13] = round(thresholds[i], 3)\n",
    "\n",
    "    df = df.set_index(\"\")\n",
    "    return df\n",
    "\n",
    "def bootstrap_metric(y, pred, classes, metric='AUC',bootstraps = 100, fold_size = 1000):\n",
    "    statistics = np.zeros((len(classes), bootstraps))\n",
    "    if metric=='AUC':\n",
    "        metric_func = roc_auc_score\n",
    "    if metric=='Sensitivity':\n",
    "        metric_func = sensitivity\n",
    "    if metric=='Specificity':\n",
    "        metric_func = specificity\n",
    "    if metric=='Accuracy':\n",
    "        metric_func = get_accuracy\n",
    "    for c in range(len(classes)):\n",
    "        df = pd.DataFrame(columns=['y', 'pred'])\n",
    "        df.loc[:, 'y'] = y[:, c]\n",
    "        df.loc[:, 'pred'] = pred[:, c]\n",
    "        # get positive examples for stratified sampling\n",
    "        df_pos = df[df.y == 1]\n",
    "        df_neg = df[df.y == 0]\n",
    "        prevalence = len(df_pos) / len(df)\n",
    "        for i in range(bootstraps):\n",
    "            # stratified sampling of positive and negative examples\n",
    "            pos_sample = df_pos.sample(n = int(fold_size * prevalence), replace=True)\n",
    "            neg_sample = df_neg.sample(n = int(fold_size * (1-prevalence)), replace=True)\n",
    "\n",
    "            y_sample = np.concatenate([pos_sample.y.values, neg_sample.y.values])\n",
    "            pred_sample = np.concatenate([pos_sample.pred.values, neg_sample.pred.values])\n",
    "            score = metric_func(y_sample, pred_sample)\n",
    "            statistics[c][i] = score\n",
    "    return statistics\n",
    "\n",
    "def get_confidence_intervals(y,pred,class_labels):\n",
    "    \n",
    "    metric_dfs = {}\n",
    "    for metric in ['AUC','Sensitivity','Specificity','Accuracy']:\n",
    "        statistics = bootstrap_metric(y,pred,class_labels,metric)\n",
    "        df = pd.DataFrame(columns=[\"Mean \"+metric+\" (CI 5%-95%)\"])\n",
    "        for i in range(len(class_labels)):\n",
    "            mean = statistics.mean(axis=1)[i]\n",
    "            max_ = np.quantile(statistics, .95, axis=1)[i]\n",
    "            min_ = np.quantile(statistics, .05, axis=1)[i]\n",
    "            df.loc[class_labels[i]] = [\"%.4f (%.4f-%.4f)\" % (mean, min_, max_)]\n",
    "        metric_dfs[metric] = df\n",
    "    return metric_dfs\n"
   ]
  },
  {
   "cell_type": "markdown",
   "metadata": {
    "colab_type": "text",
    "id": "qQJUoL4zuNYJ"
   },
   "source": [
    "### <font color='blue'>Plotting Metrics</font>"
   ]
  },
  {
   "cell_type": "markdown",
   "metadata": {
    "colab_type": "text",
    "id": "wkLyllF2kUH8"
   },
   "source": [
    "#### <font color='red'>Accuracy</font>"
   ]
  },
  {
   "cell_type": "code",
   "execution_count": 18,
   "metadata": {
    "colab": {},
    "colab_type": "code",
    "id": "8c0xP0kZNN84"
   },
   "outputs": [],
   "source": [
    "def plot_accuracy(tr_acc,val_acc):\n",
    "    # Plot training & validation accuracy values\n",
    "    plt.plot(tr_acc)\n",
    "    plt.plot(val_acc)\n",
    "    plt.title('Model accuracy',fontsize=10)\n",
    "    plt.ylabel('Accuracy',fontsize=10)\n",
    "    plt.xlabel('Epoch',fontsize=10)\n",
    "    plt.tick_params(axis='both', which='major', labelsize=10)\n",
    "    plt.legend(['Train', 'Validation'], loc='upper left',prop={'size': 10})\n",
    "    plt.savefig('accuracy_plot.png')\n",
    "    plt.show()"
   ]
  },
  {
   "cell_type": "markdown",
   "metadata": {
    "colab_type": "text",
    "id": "aI_hg4wXkUH-"
   },
   "source": [
    "#### <font color='red'>Loss</font>"
   ]
  },
  {
   "cell_type": "code",
   "execution_count": 19,
   "metadata": {
    "colab": {},
    "colab_type": "code",
    "id": "pOhp8lNpNOsb"
   },
   "outputs": [],
   "source": [
    "def plot_loss(tr_loss,val_loss):\n",
    "    # Plot training & validation loss values\n",
    "    plt.plot(tr_loss)\n",
    "    plt.plot(val_loss)\n",
    "    plt.title('Model loss',fontsize=10)\n",
    "    plt.ylabel('Loss',fontsize=10)\n",
    "    plt.xlabel('Epoch',fontsize=10)\n",
    "    plt.tick_params(axis='both', which='major', labelsize=10)\n",
    "    plt.legend(['Train', 'Validation'], loc='upper left',prop={'size': 10})\n",
    "    plt.savefig('loss_plot.png')\n",
    "    plt.show()"
   ]
  },
  {
   "cell_type": "markdown",
   "metadata": {
    "colab_type": "text",
    "id": "Bopi6WMmkUIA"
   },
   "source": [
    "\n",
    "#### <font color='red'>ROC</font>"
   ]
  },
  {
   "cell_type": "code",
   "execution_count": 20,
   "metadata": {
    "colab": {},
    "colab_type": "code",
    "id": "TRMFODDikUIB"
   },
   "outputs": [],
   "source": [
    "def get_roc_curve(gt, pred, target_names):\n",
    "    for i in range(len(target_names)):\n",
    "        curve_function = roc_curve\n",
    "        auc_roc = roc_auc_score(gt[:, i], pred[:, i])\n",
    "        label = str(target_names[i]) + \" AUC: %.3f \" % auc_roc\n",
    "        xlabel = \"False positive rate\"\n",
    "        ylabel = \"True positive rate\"\n",
    "        a, b, _ = curve_function(gt[:, i], pred[:, i])\n",
    "        plt.figure(1, figsize=(7, 7))\n",
    "        plt.plot([0, 1], [0, 1], 'k--')\n",
    "        plt.plot(a, b, label=label)\n",
    "        plt.xlabel(xlabel)\n",
    "        plt.ylabel(ylabel)\n",
    "        plt.legend(loc='upper center', bbox_to_anchor=(1.3, 1),\n",
    "                       fancybox=True, ncol=1)\n",
    "        plt.savefig('ROC_Curve.png')\n",
    "        plt.show()"
   ]
  },
  {
   "cell_type": "markdown",
   "metadata": {
    "colab_type": "text",
    "id": "DBxj7WvNkUIC"
   },
   "source": [
    "#### <font color='red'>Precision and Recall</font>"
   ]
  },
  {
   "cell_type": "code",
   "execution_count": 21,
   "metadata": {
    "colab": {},
    "colab_type": "code",
    "id": "Inw3SVknkUID"
   },
   "outputs": [],
   "source": [
    "def get_PR_curve(gt, pred, target_names):\n",
    "    for i in range(len(target_names)):\n",
    "        precision, recall, _ = precision_recall_curve(gt[:, i], pred[:, i])\n",
    "        average_precision = average_precision_score(gt[:, i], pred[:, i])\n",
    "        label = str(target_names[i]) + \" Avg.: %.3f \" % average_precision\n",
    "        plt.figure(1, figsize=(7, 7))\n",
    "        plt.step(recall, precision, where='post', label=label)\n",
    "        plt.xlabel('Recall')\n",
    "        plt.ylabel('Precision')\n",
    "        plt.ylim([0.0, 1.05])\n",
    "        plt.xlim([0.0, 1.0])\n",
    "        plt.legend(loc='upper center', bbox_to_anchor=(1.3, 1),\n",
    "                       fancybox=True, ncol=1)\n",
    "        plt.savefig('Precision_and_Recall_curve.png')\n",
    "        plt.show()"
   ]
  },
  {
   "cell_type": "markdown",
   "metadata": {
    "colab_type": "text",
    "id": "sz7kNHQxkUIE"
   },
   "source": [
    "#### <font color='red'>Confusion Matrix</font>  "
   ]
  },
  {
   "cell_type": "code",
   "execution_count": 22,
   "metadata": {
    "colab": {},
    "colab_type": "code",
    "id": "mviMdmIlkUIG"
   },
   "outputs": [],
   "source": [
    "def plot_confusion_matrix(y_true,y_pred,class_labels):\n",
    "    cm = confusion_matrix(y_true, y_pred, labels=class_labels)\n",
    "    cm_sum = np.sum(cm, axis=1, keepdims=True)\n",
    "    cm_perc = cm / cm_sum.astype(float) * 100\n",
    "    annot = np.empty_like(cm).astype(str)\n",
    "    nrows, ncols = cm.shape\n",
    "    for i in range(nrows):\n",
    "        for j in range(ncols):\n",
    "            c = cm[i, j]\n",
    "            p = cm_perc[i, j]\n",
    "            if i == j:\n",
    "                s = cm_sum[i]\n",
    "                annot[i, j] = '%.1f%%\\n%d/%d' % (p, c, s)\n",
    "            elif c == 0:\n",
    "                annot[i, j] = ''\n",
    "            else:\n",
    "                annot[i, j] = '%.1f%%\\n%d' % (p, c)\n",
    "    cm = pd.DataFrame(cm, index=class_labels, columns=class_labels)\n",
    "    cm.index.name = 'Actual'\n",
    "    cm.columns.name = 'Predicted'\n",
    "    fig, ax = plt.subplots(figsize=(60,60))\n",
    "    sns.set(font_scale=3.0) # Adjust to fit\n",
    "    sns.heatmap(cm, cmap= \"YlGnBu\", annot=annot, fmt='', ax=ax)\n",
    "    ax.tick_params(axis='both', which='major', labelsize=10)  # Adjust to fit\n",
    "    ax.xaxis.set_ticklabels(class_labels)\n",
    "    ax.yaxis.set_ticklabels(class_labels)\n",
    "    fig.savefig('Confusion_Matrix.png')\n",
    "    plt.show()"
   ]
  },
  {
   "cell_type": "markdown",
   "metadata": {
    "colab_type": "text",
    "id": "AZTz4lvkkUII"
   },
   "source": [
    "#### <font color='red'>Performance Metrics with Errorbars</font>"
   ]
  },
  {
   "cell_type": "code",
   "execution_count": 23,
   "metadata": {
    "colab": {},
    "colab_type": "code",
    "id": "i611AmBdkUII"
   },
   "outputs": [],
   "source": [
    "#04_03_Errorbar.ipynb\n",
    "def plot_perf_metrics_errbars(y,pred,class_labels):\n",
    "    metric_dfs = get_confidence_intervals(y,pred,class_labels)\n",
    "    metrics = list(metric_dfs.keys())\n",
    "    fig,axs = plt.subplots(len(metrics),1,sharey=True,figsize=(10,40))\n",
    "    for i in range(len(metrics)):\n",
    "        ci = metric_dfs[metrics[i]][['Mean '+metrics[i]+' (CI 5%-95%)']].values[0][0]\n",
    "        print(ci)\n",
    "        ci_mean,ci_ints = ci.split(' ')\n",
    "        ci_mean = float(ci_mean)\n",
    "        print(ci_mean,ci_ints)\n",
    "        ci_min,ci_max = list(map(float,ci_ints.strip('()').split('-')))\n",
    "        ci_err = (ci_max-ci_min)/2\n",
    "        \n",
    "        axs[i].errorbar(class_labels,ci_mean,yerr=ci_err,capsize=5,fmt='dk')\n",
    "        axs[i].set_ylabel(metrics[i])\n",
    "        axs[i].set_ylim([ci_min-0.05,ci_max+0.05])\n",
    "    fig.savefig('Performance_Metrics_95percentCI.png')\n",
    "    plt.show()"
   ]
  },
  {
   "cell_type": "markdown",
   "metadata": {
    "colab_type": "text",
    "id": "7Lh3FgHeN4A5"
   },
   "source": [
    "## Downstream Task Multi-Label Classification (Use Binary Crossentropy)"
   ]
  },
  {
   "cell_type": "markdown",
   "metadata": {
    "colab_type": "text",
    "id": "DYPEjTOTOCxc"
   },
   "source": [
    "### Load Models"
   ]
  },
  {
   "cell_type": "code",
   "execution_count": 17,
   "metadata": {
    "ExecuteTime": {
     "end_time": "2020-09-29T21:37:56.882845Z",
     "start_time": "2020-09-29T21:37:56.878856Z"
    }
   },
   "outputs": [],
   "source": [
    "model_path = 'D:\\\\SiladittyaJRF\\\\saved_models\\\\'"
   ]
  },
  {
   "cell_type": "markdown",
   "metadata": {},
   "source": [
    "### Class weights"
   ]
  },
  {
   "cell_type": "code",
   "execution_count": 19,
   "metadata": {
    "ExecuteTime": {
     "end_time": "2020-09-29T21:38:00.324073Z",
     "start_time": "2020-09-29T21:38:00.318093Z"
    }
   },
   "outputs": [
    {
     "name": "stdout",
     "output_type": "stream",
     "text": [
      "913 217\n",
      "208 922\n",
      "397 733\n"
     ]
    }
   ],
   "source": [
    "abnNUM_1 = np.count_nonzero(tr_multilabel['abn']==1)\n",
    "abnNUM_0 = np.count_nonzero(tr_multilabel['abn']==0)\n",
    "print(abnNUM_1,abnNUM_0)\n",
    "aclNUM_1 = np.count_nonzero(tr_multilabel['acl']==1)\n",
    "aclNUM_0 = np.count_nonzero(tr_multilabel['acl']==0)\n",
    "print(aclNUM_1,aclNUM_0)\n",
    "menNUM_1 = np.count_nonzero(tr_multilabel['men']==1)\n",
    "menNUM_0 = np.count_nonzero(tr_multilabel['men']==0)\n",
    "print(menNUM_1,menNUM_0)"
   ]
  },
  {
   "cell_type": "code",
   "execution_count": 20,
   "metadata": {
    "ExecuteTime": {
     "end_time": "2020-09-29T21:38:00.667132Z",
     "start_time": "2020-09-29T21:38:00.662145Z"
    }
   },
   "outputs": [
    {
     "name": "stdout",
     "output_type": "stream",
     "text": [
      "[[1.         4.20737327]\n",
      " [4.43269231 1.        ]\n",
      " [1.84634761 1.        ]]\n"
     ]
    }
   ],
   "source": [
    "cw = np.array([[abnNUM_1,abnNUM_0],[aclNUM_1,aclNUM_0],[menNUM_1,menNUM_0]])\n",
    "cw = cw/np.sum(cw,axis=1,keepdims=True)\n",
    "cw = 1/cw\n",
    "cw = cw/np.min(cw,axis=1,keepdims=True)\n",
    "print(cw)"
   ]
  },
  {
   "cell_type": "code",
   "execution_count": 21,
   "metadata": {
    "ExecuteTime": {
     "end_time": "2020-09-29T21:38:00.921468Z",
     "start_time": "2020-09-29T21:38:00.755923Z"
    }
   },
   "outputs": [
    {
     "name": "stdout",
     "output_type": "stream",
     "text": [
      "0.1\n"
     ]
    },
    {
     "data": {
      "text/plain": [
       "<matplotlib.legend.Legend at 0x13c0f011340>"
      ]
     },
     "execution_count": 21,
     "metadata": {},
     "output_type": "execute_result"
    },
    {
     "data": {
      "image/png": "[encoded data removed]",
      "text/plain": [
       "<Figure size 432x288 with 1 Axes>"
      ]
     },
     "metadata": {
      "needs_background": "light"
     },
     "output_type": "display_data"
    }
   ],
   "source": [
    "fig, ax = plt.subplots()\n",
    "\n",
    "abn_heights, abn_bins = np.histogram(tr_multilabel['abn'],bins=[-0.5,0.5,1.5])\n",
    "acl_heights, acl_bins = np.histogram(tr_multilabel['acl'], bins=abn_bins)\n",
    "men_heights, men_bins = np.histogram(tr_multilabel['men'], bins=acl_bins)\n",
    "\n",
    "width = (abn_bins[1] - abn_bins[0])/10.0\n",
    "print(width)\n",
    "\n",
    "ax.bar(abn_bins[:-1]-width+0.5, abn_heights, width=width, facecolor='red')\n",
    "ax.bar(acl_bins[:-1]+0.5, acl_heights, width=width, facecolor='blue')\n",
    "ax.bar(men_bins[:-1]+width+0.5, men_heights, width=width, facecolor='yellow')\n",
    "\n",
    "ax.legend(['Abnormality','ACL Tear','Meniscus Tear'])"
   ]
  },
  {
   "cell_type": "markdown",
   "metadata": {
    "colab_type": "text",
    "id": "PsQLZf1imxiD"
   },
   "source": [
    "### Data Generator for Downstream Task\n",
    "\n",
    "1. Outputs batches of all 3 modes of MRI \n",
    "2. Output size (3, batch_size, num_frames , 256, 256, 3)\n",
    "3. Labels (batch_size, 3)\n",
    "\n",
    "Since since max batch size = 32, hence, not all frames can be accomodated. So need to sample frames at a fixed interval, so as to include all three modes in a single batch. So, max 10 frames from each mode, with batch-size = 1"
   ]
  },
  {
   "cell_type": "code",
   "execution_count": 22,
   "metadata": {
    "ExecuteTime": {
     "end_time": "2020-09-29T21:38:05.719548Z",
     "start_time": "2020-09-29T21:38:05.716533Z"
    }
   },
   "outputs": [],
   "source": [
    "NUM_FRAMES = 16\n",
    "NUM_CLASSES = 3"
   ]
  },
  {
   "cell_type": "code",
   "execution_count": 23,
   "metadata": {
    "ExecuteTime": {
     "end_time": "2020-09-29T21:38:05.972912Z",
     "start_time": "2020-09-29T21:38:05.952902Z"
    },
    "colab": {},
    "colab_type": "code",
    "id": "G5WZEdA3nOOu"
   },
   "outputs": [],
   "source": [
    "class DSDataGen(Sequence):\n",
    "    def __init__(self, phase, injury, mode, base_dir, labs_df, filenames_df, pretext_model, preprocess_input = None, \n",
    "                 batch_size=1, data_aug = True, num_frames = NUM_FRAMES, num_classes=NUM_CLASSES):\n",
    "        self.base_dir = base_dir\n",
    "        self.ph_mode_dir = base_dir +'\\\\'+phase\n",
    "        self.filenames = os.listdir(self.ph_mode_dir)\n",
    "        self.phase = phase\n",
    "        self.batch_size = batch_size\n",
    "        self.num_frames = num_frames\n",
    "        self.num_classes = num_classes\n",
    "        self.filenames_df = filenames_df\n",
    "        self.preprocess_input = preprocess_input\n",
    "        self.pretext_model = pretext_model\n",
    "        self.MAX_FRAMES = num_frames #NUM_FRAMES\n",
    "         \n",
    "        self.mode = mode #['sagittal','coronal','axial']\n",
    "        self.injury = injury\n",
    "\n",
    "        self.mllabs = labs_df\n",
    "\n",
    "        self.indices = list(range(self.filenames_df.shape[0]))\n",
    "        \n",
    "        self.data_aug = data_aug\n",
    "        \n",
    "        self.startind = 0\n",
    "        self.endind = self.startind + self.batch_size\n",
    "        \n",
    "        self.invGamma100 = 1.0 \n",
    "        self.invGamma115 = 1.0/1.15\n",
    "        self.invGamma085 = 1.0/0.85\n",
    "        self.table100 = np.array([((k / 255.0) ** self.invGamma100) * 255 for k in np.arange(0, 256)]).astype(\"uint8\")\n",
    "        self.table115 = np.array([((k / 255.0) ** self.invGamma115) * 255 for k in np.arange(0, 256)]).astype(\"uint8\")\n",
    "        self.table085 = np.array([((k / 255.0) ** self.invGamma085) * 255 for k in np.arange(0, 256)]).astype(\"uint8\")\n",
    "        self.gamma_dict100 = dict(zip(range(256),self.table100))\n",
    "        self.gamma_dict115 = dict(zip(range(256),self.table115))\n",
    "        self.gamma_dict085 = dict(zip(range(256),self.table085))\n",
    "\n",
    "    def get_random_shuffle_order(self,batch_sz):\n",
    "        blist = list(range(batch_sz))\n",
    "        random.shuffle(blist)\n",
    "        #print(blist)\n",
    "        return blist\n",
    "    \n",
    "    def load_volume(self,mode,file_idx):\n",
    "        filePoolLen = self.filenames_df.shape[0]\n",
    "        #print(file_idx)\n",
    "        #file_idx = file_idx%filePoolLen \n",
    "        npy_file = np.load(self.ph_mode_dir+'\\\\'+mode+'\\\\'+self.filenames_df['filename'].iloc[file_idx])\n",
    "        return npy_file\n",
    "    \n",
    "    def get_frames(self,mode,idx):\n",
    "        image_volume = self.load_volume(mode,idx)\n",
    "        tot_frames = image_volume.shape[0]\n",
    "        \n",
    "        self.num_frames = np.min([tot_frames,self.MAX_FRAMES])\n",
    "        #self.num_frames = 9*int(np.floor(self.num_frames/9.))\n",
    "        #print(frame_idxs.shape)\n",
    "\n",
    "        #ONLY FOR STANFORD MODEL\n",
    "        frame_idxs = np.array(sorted(random.sample(list(range(tot_frames)),self.num_frames)))\n",
    "\n",
    "        frames = np.array([]).reshape((0,256,256,3))\n",
    "        for n in range(self.num_frames):\n",
    "            frame_idx = frame_idxs[n]\n",
    "            frame = np.array(image_volume[frame_idx,:,:])\n",
    "            frame = np.expand_dims(frame,axis=2)\n",
    "            frame = np.append(frame,np.append(frame,frame,axis=2),axis=2)\n",
    "            \n",
    "            frames = np.append(frames,np.expand_dims(frame,axis=0),axis=0)\n",
    "        #print(frames.shape)\n",
    "        return frames\n",
    "    \n",
    "    def __len__(self):\n",
    "        return len(self.filenames_df)\n",
    "    \n",
    "    def __getitem__(self,idx):\n",
    "        \n",
    "        self.startind = idx*self.batch_size\n",
    "        self.endind = self.startind + self.batch_size\n",
    "        \n",
    "        #DECLARE VARIABLES\n",
    "        batch_imgs = np.array([]).reshape((0,256,256,3))\n",
    "        \n",
    "        ds_batch_labs = ds_batch_labs = self.mllabs[['abn','acl','men']].iloc[idx].values.reshape((1,-1))\n",
    "        \n",
    "        #GET CLIP FRAMES\n",
    "        batch_imgs = np.append(batch_imgs,self.get_frames(self.mode,idx),axis=0)\n",
    "\n",
    "        sind = 0\n",
    "        eind = 0\n",
    "        tot_frames = batch_imgs.shape[0]\n",
    "\n",
    "        #AUGMENT FRAMES\n",
    "        if self.data_aug and self.phase == 'train':\n",
    "            batch_imgs = self.__augment(batch_imgs)\n",
    "\n",
    "        #PREPROCESS FRAMES\n",
    "        batch_imgs = self.preprocess_input(batch_imgs)\n",
    "        #sagittal_rocket_imgs[i] = np.clip(sagittal_rocket_imgs[i] + np.random.normal(0,0.01,sagittal_rocket_imgs[i].shape),0,1.0)\n",
    "        pre_inputs = [batch_imgs]*9\n",
    "        inputs = self.pretext_model(pre_inputs)\n",
    "        #inputs = tf.reshape(inputs,(1,16,16,16,256))\n",
    "            \n",
    "        \n",
    "        return inputs, ds_batch_labs \n",
    "    \n",
    "    def on_epoch_end(self):\n",
    "        idx = np.random.permutation(self.filenames_df.index.values)\n",
    "        self.mllabs = self.mllabs.reindex(idx)\n",
    "        self.filenames_df = self.filenames_df.reindex(idx)\n",
    "        self.mllabs = self.mllabs.reset_index(drop=True)\n",
    "        self.filenames_df = self.filenames_df.reset_index(drop=True)\n",
    "        \n",
    "    def gamma_correction(self,temp_patch):\n",
    "        \n",
    "        gamma_val = np.random.choice([0,1,2])\n",
    "        if gamma_val == 0:\n",
    "            temp_patch = np.vectorize(self.gamma_dict100.get)(temp_patch.astype('int'))\n",
    "        if gamma_val == 1:\n",
    "            temp_patch = np.vectorize(self.gamma_dict115.get)(temp_patch.astype('int'))\n",
    "        if gamma_val == 2:\n",
    "            temp_patch = np.vectorize(self.gamma_dict085.get)(temp_patch.astype('int'))\n",
    "\n",
    "        return temp_patch\n",
    "    \n",
    "    def __augment(self,batch_imgs):\n",
    "        num_imgs = batch_imgs.shape[0]\n",
    "        rotang = np.random.choice([-20,0,20])\n",
    "        scale = np.random.choice([1,1.15])\n",
    "        transformation_matrix=np.array([[scale,           0,             np.random.choice([-15,0,15])],\n",
    "                                        [0,               scale,         np.random.choice([-15,0,15])],\n",
    "                                        [0,               0,                       1                 ]])\n",
    "        for i in range(num_imgs):\n",
    "            batch_imgs[i] = rotate(batch_imgs[i],rotang,preserve_range=True)\n",
    "            batch_imgs[i] = warp(batch_imgs[i], AffineTransform(matrix=transformation_matrix).inverse, preserve_range=True)\n",
    "            #print(batch_labs)\n",
    "                \n",
    "        return batch_imgs"
   ]
  },
  {
   "cell_type": "markdown",
   "metadata": {},
   "source": [
    "## LOADING THE PRETEXT MODEL"
   ]
  },
  {
   "cell_type": "markdown",
   "metadata": {},
   "source": [
    "### Full model"
   ]
  },
  {
   "cell_type": "code",
   "execution_count": 24,
   "metadata": {
    "ExecuteTime": {
     "end_time": "2020-09-29T21:38:11.356463Z",
     "start_time": "2020-09-29T21:38:11.350484Z"
    }
   },
   "outputs": [],
   "source": [
    "def conv_block(inp):\n",
    "    out = Conv2D(filters = 256, kernel_size = 3, strides = 1, padding = 'same', activation = None, \n",
    "                 kernel_initializer = tf.keras.initializers.he_normal(seed=SEED))(inp)\n",
    "    #,kernel_regularizer =regularizers.l2(0.00001)\n",
    "    out = BatchNormalization()(out)\n",
    "    out = Activation('relu')(out)\n",
    "    \n",
    "    out = Conv2D(filters = 256, kernel_size = 3, strides = 1, padding = 'same', activation = None, \n",
    "                 kernel_initializer = tf.keras.initializers.he_normal(seed=SEED))(out)\n",
    "    out = BatchNormalization()(out)\n",
    "    out = Activation('relu')(out)\n",
    "    \n",
    "    out = MaxPool2D(pool_size = (2,2),strides=2)(out)\n",
    "    \n",
    "    out = Conv2D(filters = 256, kernel_size = 3, strides = 1, padding = 'same', activation = None,\n",
    "                 kernel_initializer = tf.keras.initializers.he_normal(seed=SEED))(out)\n",
    "    out = BatchNormalization()(out)\n",
    "    out = Activation('relu')(out)\n",
    "    \n",
    "    out = Conv2D(filters = 256, kernel_size = 3, strides = 1, padding = 'same', activation = None,\n",
    "                 kernel_initializer = tf.keras.initializers.he_normal(seed=SEED))(out)\n",
    "    out = BatchNormalization()(out)\n",
    "    out = Activation('relu')(out)\n",
    "    \n",
    "    out = MaxPool2D(pool_size = (2,2),strides=2)(out)\n",
    "    \n",
    "    return out"
   ]
  },
  {
   "cell_type": "code",
   "execution_count": 25,
   "metadata": {
    "ExecuteTime": {
     "end_time": "2020-09-29T21:38:11.718945Z",
     "start_time": "2020-09-29T21:38:11.712961Z"
    }
   },
   "outputs": [],
   "source": [
    "def dim_red_block(inp,numfilts):\n",
    "    out1 = Conv2D(filters = numfilts, kernel_size = 3, strides = 1, padding = 'same', activation = None ,\n",
    "                  kernel_initializer = tf.keras.initializers.he_normal(seed=SEED))(inp)\n",
    "    out1 = BatchNormalization()(out1)\n",
    "    out1 = Activation('relu')(out1)\n",
    "    \n",
    "    out1 = Conv2D(filters = numfilts, kernel_size = 3, strides = 2, padding = 'same', activation = None ,\n",
    "                  kernel_initializer = tf.keras.initializers.he_normal(seed=SEED))(out1)\n",
    "    out1 = BatchNormalization()(out1)\n",
    "    out1 = Activation('relu')(out1)\n",
    "    \n",
    "    out2 = AveragePooling2D(pool_size=(2,2),strides=2)(inp)\n",
    "    \n",
    "    out2 = Conv2D(filters = numfilts, kernel_size = 1, strides = 1, padding = 'same', activation = None ,\n",
    "                  kernel_initializer = tf.keras.initializers.he_normal(seed=SEED))(out2)\n",
    "    out2 = BatchNormalization()(out2)\n",
    "    out2 = Activation('relu')(out2)\n",
    "    \n",
    "    out = Concatenate()([out1,out2])\n",
    "    \n",
    "    return out"
   ]
  },
  {
   "cell_type": "code",
   "execution_count": 26,
   "metadata": {
    "ExecuteTime": {
     "end_time": "2020-09-29T21:38:12.063822Z",
     "start_time": "2020-09-29T21:38:12.055843Z"
    }
   },
   "outputs": [],
   "source": [
    "def skip_block(inp,numfilts,scale = 1.0):\n",
    "    out1 = Conv2D(filters = numfilts//2, kernel_size = 3, strides = 1, padding = 'same', activation = None ,\n",
    "                  kernel_initializer = tf.keras.initializers.he_normal(seed=SEED))(inp)\n",
    "    out1 = BatchNormalization()(out1)\n",
    "    out1 = Activation('relu')(out1)\n",
    "    \n",
    "    out1 = Conv2D(filters = numfilts, kernel_size = 3, strides = 1, padding = 'same', activation = None ,\n",
    "                  kernel_initializer = tf.keras.initializers.he_normal(seed=SEED))(out1)\n",
    "    out1 = BatchNormalization()(out1)\n",
    "    out1 = Activation('relu')(out1)\n",
    "    \n",
    "    final_out = scale*out1 + inp\n",
    "    \n",
    "    return final_out\n",
    "\n",
    "def skip_block2(inp,numfilts,scale = 1.0):\n",
    "    out1 = Conv2D(filters = numfilts, kernel_size = 3, strides = 1, padding = 'same', activation = None ,\n",
    "                  kernel_initializer = tf.keras.initializers.he_normal(seed=SEED))(inp)\n",
    "    out1 = BatchNormalization()(out1)\n",
    "    out1 = Activation('relu')(out1)\n",
    "    \n",
    "    out1 = Conv2D(filters = numfilts, kernel_size = 3, strides = 1, padding = 'same', activation = None ,\n",
    "                  kernel_initializer = tf.keras.initializers.he_normal(seed=SEED))(out1)\n",
    "    out1 = BatchNormalization()(out1)\n",
    "    out1 = Activation('relu')(out1)\n",
    "    \n",
    "    final_out = scale*out1 + inp\n",
    "    \n",
    "    return final_out"
   ]
  },
  {
   "cell_type": "code",
   "execution_count": null,
   "metadata": {
    "ExecuteTime": {
     "end_time": "2020-09-29T21:38:13.782398Z",
     "start_time": "2020-09-29T21:38:13.774436Z"
    }
   },
   "outputs": [],
   "source": [
    "def skid_model_branch(input_shape,num):\n",
    "    branch_inp = Input(shape=input_shape)\n",
    "    branch = conv_block(branch_inp)\n",
    "    \n",
    "    model = Model(inputs = branch_inp, outputs = branch, name = 'branch'+str(num))\n",
    "    \n",
    "    return model\n",
    "\n",
    "def conv1x1_part(input_shape):\n",
    "\n",
    "    conv1x1_inp = Input(shape=input_shape)\n",
    "    \n",
    "    model_stem = Conv2D(filters = 1024, kernel_size = 1, strides = 1, padding = 'same', activation = None, \n",
    "                        kernel_initializer = tf.keras.initializers.he_normal(seed=SEED),\n",
    "                        kernel_regularizer =regularizers.l2(0.0001))(conv1x1_inp)\n",
    "    model_stem = BatchNormalization()(model_stem)\n",
    "    model_stem = Activation('relu')(model_stem)\n",
    "    \n",
    "    model = Model(inputs=conv1x1_inp,\n",
    "                  outputs = model_stem, name = 'conv1x1_part')\n",
    "    \n",
    "    return model\n",
    "\n",
    "def skid_model_part2(input_shape):\n",
    "\n",
    "    model_stem_inp = Input(shape=input_shape)\n",
    "    \n",
    "    model_stem = skip_block2(model_stem_inp,1024,scale=0.25)\n",
    "    model_stem = dim_red_block(model_stem,1024)\n",
    "    \n",
    "    model = Model(inputs = model_stem_inp, outputs = model_stem, name = 'skid_model_part2')\n",
    "    \n",
    "    return model\n",
    "\n",
    "def skid_model_part3(input_shape):\n",
    "\n",
    "    model_stem_inp = Input(shape=input_shape)\n",
    "    \n",
    "    model_stem = skip_block2(model_stem_inp,2048,scale=0.25)\n",
    "    model_stem = dim_red_block(model_stem,2048)\n",
    "    \n",
    "    model = Model(inputs = model_stem_inp, outputs = model_stem, name = 'skid_model_part3')\n",
    "    \n",
    "    return model\n",
    "\n"
   ]
  },
  {
   "cell_type": "code",
   "execution_count": 28,
   "metadata": {
    "ExecuteTime": {
     "end_time": "2020-09-29T21:38:15.471836Z",
     "start_time": "2020-09-29T21:38:15.467872Z"
    }
   },
   "outputs": [],
   "source": [
    "def total_memory(model):\n",
    "    shapes_count = int(np.sum([np.prod(np.array([s if isinstance(s, int) else 1 for s in l.output_shape])) for l in model.layers]))\n",
    "\n",
    "    memory = shapes_count * 4\n",
    "    \n",
    "    return memory"
   ]
  },
  {
   "cell_type": "code",
   "execution_count": 29,
   "metadata": {
    "ExecuteTime": {
     "end_time": "2020-09-29T21:38:16.535255Z",
     "start_time": "2020-09-29T21:38:16.483397Z"
    }
   },
   "outputs": [
    {
     "name": "stdout",
     "output_type": "stream",
     "text": [
      "Wed Sep 30 03:08:16 2020       \n",
      "+-----------------------------------------------------------------------------+\n",
      "| NVIDIA-SMI 451.67       Driver Version: 451.67       CUDA Version: 11.0     |\n",
      "|-------------------------------+----------------------+----------------------+\n",
      "| GPU  Name            TCC/WDDM | Bus-Id        Disp.A | Volatile Uncorr. ECC |\n",
      "| Fan  Temp  Perf  Pwr:Usage/Cap|         Memory-Usage | GPU-Util  Compute M. |\n",
      "|===============================+======================+======================|\n",
      "|   0  GeForce RTX 2080   WDDM  | 00000000:01:00.0  On |                  N/A |\n",
      "| 33%   39C    P8    21W / 225W |    436MiB /  8192MiB |      2%      Default |\n",
      "+-------------------------------+----------------------+----------------------+\n",
      "                                                                               \n",
      "+-----------------------------------------------------------------------------+\n",
      "| Processes:                                                                  |\n",
      "|  GPU   GI   CI        PID   Type   Process name                  GPU Memory |\n",
      "|        ID   ID                                                   Usage      |\n",
      "|=============================================================================|\n",
      "|    0   N/A  N/A       464    C+G   ...es.TextInput.InputApp.exe    N/A      |\n",
      "|    0   N/A  N/A      1076    C+G   Insufficient Permissions        N/A      |\n",
      "|    0   N/A  N/A      5140    C+G   Insufficient Permissions        N/A      |\n",
      "|    0   N/A  N/A      5856    C+G   ...y\\ShellExperienceHost.exe    N/A      |\n",
      "|    0   N/A  N/A      6244    C+G   C:\\Windows\\explorer.exe         N/A      |\n",
      "|    0   N/A  N/A      7124    C+G   ...artMenuExperienceHost.exe    N/A      |\n",
      "|    0   N/A  N/A      7336    C+G   ...w5n1h2txyewy\\SearchUI.exe    N/A      |\n",
      "|    0   N/A  N/A      7840    C+G   ...lPanel\\SystemSettings.exe    N/A      |\n",
      "|    0   N/A  N/A      8172    C+G   ...cw5n1h2txyewy\\LockApp.exe    N/A      |\n",
      "|    0   N/A  N/A      8264    C+G   ...me\\Application\\chrome.exe    N/A      |\n",
      "|    0   N/A  N/A      8780    C+G   ...wekyb3d8bbwe\\Video.UI.exe    N/A      |\n",
      "|    0   N/A  N/A      8936    C+G   ...bbwe\\Microsoft.Photos.exe    N/A      |\n",
      "|    0   N/A  N/A      9376    C+G   ...qxf38zg5c\\Skype\\Skype.exe    N/A      |\n",
      "|    0   N/A  N/A     11092    C+G   ...ekyb3d8bbwe\\YourPhone.exe    N/A      |\n",
      "+-----------------------------------------------------------------------------+\n"
     ]
    }
   ],
   "source": [
    "!nvidia-smi"
   ]
  },
  {
   "cell_type": "code",
   "execution_count": 30,
   "metadata": {
    "ExecuteTime": {
     "end_time": "2020-09-29T21:38:17.885175Z",
     "start_time": "2020-09-29T21:38:17.881186Z"
    }
   },
   "outputs": [],
   "source": [
    "SEED = 16"
   ]
  },
  {
   "cell_type": "code",
   "execution_count": 31,
   "metadata": {
    "ExecuteTime": {
     "end_time": "2020-09-29T21:38:21.399614Z",
     "start_time": "2020-09-29T21:38:18.671787Z"
    }
   },
   "outputs": [],
   "source": [
    "branch1 = skid_model_branch((256,256,3),1)\n",
    "branch2 = skid_model_branch((256,256,3),2)\n",
    "branch3 = skid_model_branch((256,256,3),3)\n",
    "branch4 = skid_model_branch((256,256,3),4)\n",
    "branch5 = skid_model_branch((256,256,3),5)\n",
    "branch6 = skid_model_branch((256,256,3),6)\n",
    "branch7 = skid_model_branch((256,256,3),7)\n",
    "branch8 = skid_model_branch((256,256,3),8)\n",
    "branch9 = skid_model_branch((256,256,3),9)\n",
    "conv1x1 = conv1x1_part((64,64,2304))\n",
    "pretext_part2 = skid_model_part2((64,64,1024))\n",
    "pretext_part3 = skid_model_part3((32,32,2048))"
   ]
  },
  {
   "cell_type": "code",
   "execution_count": 32,
   "metadata": {
    "ExecuteTime": {
     "end_time": "2020-09-29T21:38:21.605059Z",
     "start_time": "2020-09-29T21:38:21.601047Z"
    }
   },
   "outputs": [
    {
     "data": {
      "text/plain": [
       "500.00000381469727"
      ]
     },
     "execution_count": 32,
     "metadata": {},
     "output_type": "execute_result"
    }
   ],
   "source": [
    "(total_memory(branch1)/1024)/1024"
   ]
  },
  {
   "cell_type": "markdown",
   "metadata": {},
   "source": [
    "### Pre-trained weight Initialization"
   ]
  },
  {
   "cell_type": "code",
   "execution_count": 35,
   "metadata": {
    "ExecuteTime": {
     "end_time": "2020-09-29T21:38:30.071691Z",
     "start_time": "2020-09-29T21:38:24.679756Z"
    }
   },
   "outputs": [],
   "source": [
    "branch1.load_weights(model_path + \"best_model.h5\",by_name=True)\n",
    "branch2.load_weights(model_path + \"best_model.h5\",by_name=True)\n",
    "branch3.load_weights(model_path + \"best_model.h5\",by_name=True)\n",
    "branch4.load_weights(model_path + \"best_model.h5\",by_name=True)\n",
    "branch5.load_weights(model_path + \"best_model.h5\",by_name=True)\n",
    "branch6.load_weights(model_path + \"best_model.h5\",by_name=True)\n",
    "branch7.load_weights(model_path + \"best_model.h5\",by_name=True)\n",
    "branch8.load_weights(model_path + \"best_model.h5\",by_name=True)\n",
    "branch9.load_weights(model_path + \"best_model.h5\",by_name=True)"
   ]
  },
  {
   "cell_type": "code",
   "execution_count": 36,
   "metadata": {
    "ExecuteTime": {
     "end_time": "2020-09-29T21:38:30.851502Z",
     "start_time": "2020-09-29T21:38:30.261082Z"
    }
   },
   "outputs": [],
   "source": [
    "conv1x1.load_weights(model_path + \"best_model.h5\",by_name=True)"
   ]
  },
  {
   "cell_type": "code",
   "execution_count": 37,
   "metadata": {
    "ExecuteTime": {
     "end_time": "2020-09-29T21:38:31.705602Z",
     "start_time": "2020-09-29T21:38:31.054958Z"
    }
   },
   "outputs": [],
   "source": [
    "pretext_part2.load_weights(model_path + \"best_model.h5\",by_name=True)"
   ]
  },
  {
   "cell_type": "code",
   "execution_count": 38,
   "metadata": {
    "ExecuteTime": {
     "end_time": "2020-09-29T21:38:32.671937Z",
     "start_time": "2020-09-29T21:38:31.901079Z"
    }
   },
   "outputs": [],
   "source": [
    "pretext_part3.load_weights(model_path + \"best_model.h5\",by_name=True)"
   ]
  },
  {
   "cell_type": "code",
   "execution_count": null,
   "metadata": {},
   "outputs": [],
   "source": []
  },
  {
   "cell_type": "markdown",
   "metadata": {},
   "source": [
    "## DS MODEL"
   ]
  },
  {
   "cell_type": "code",
   "execution_count": 39,
   "metadata": {
    "ExecuteTime": {
     "end_time": "2020-09-29T21:38:34.596348Z",
     "start_time": "2020-09-29T21:38:34.593356Z"
    }
   },
   "outputs": [],
   "source": [
    "NUM_FRAMES = 16"
   ]
  },
  {
   "cell_type": "code",
   "execution_count": 40,
   "metadata": {
    "ExecuteTime": {
     "end_time": "2020-09-29T21:38:37.155201Z",
     "start_time": "2020-09-29T21:38:37.106336Z"
    }
   },
   "outputs": [],
   "source": [
    "inp = Input(shape = (16,16,4096))\n",
    "out = Conv2D(filters = 512, kernel_size = 1, strides = 1, padding = 'same', activation = None, \n",
    "             kernel_initializer = tf.keras.initializers.he_normal(seed=SEED),kernel_regularizer =regularizers.l2(0.0001))(inp)\n",
    "out = BatchNormalization()(out)\n",
    "out = Activation('relu')(out)"
   ]
  },
  {
   "cell_type": "code",
   "execution_count": 41,
   "metadata": {
    "ExecuteTime": {
     "end_time": "2020-09-29T21:38:38.562142Z",
     "start_time": "2020-09-29T21:38:38.558147Z"
    }
   },
   "outputs": [],
   "source": [
    "from tensorflow.keras.layers import Layer\n",
    "class TemporalReshape(Layer):\n",
    "    def call(self, inputs):\n",
    "        #print(inputs.get_shape())\n",
    "        nshape = (1,NUM_FRAMES) + inputs.shape[1:]\n",
    "        return tf.reshape(inputs, nshape)"
   ]
  },
  {
   "cell_type": "code",
   "execution_count": 42,
   "metadata": {
    "ExecuteTime": {
     "end_time": "2020-09-29T21:38:39.687383Z",
     "start_time": "2020-09-29T21:38:39.647514Z"
    }
   },
   "outputs": [],
   "source": [
    "out = TemporalReshape()(out)"
   ]
  },
  {
   "cell_type": "code",
   "execution_count": 43,
   "metadata": {
    "ExecuteTime": {
     "end_time": "2020-09-29T21:38:40.093446Z",
     "start_time": "2020-09-29T21:38:40.089437Z"
    }
   },
   "outputs": [
    {
     "data": {
      "text/plain": [
       "TensorShape([1, 12, 16, 16, 512])"
      ]
     },
     "execution_count": 43,
     "metadata": {},
     "output_type": "execute_result"
    }
   ],
   "source": [
    "out.shape"
   ]
  },
  {
   "cell_type": "code",
   "execution_count": 44,
   "metadata": {
    "ExecuteTime": {
     "end_time": "2020-09-29T21:38:42.080659Z",
     "start_time": "2020-09-29T21:38:41.484243Z"
    }
   },
   "outputs": [],
   "source": [
    "out = ConvLSTM2D(512,512,strides = (2,2), padding = 'valid',\n",
    "                 data_format = 'channels_last', kernel_initializer = tf.keras.initializers.he_normal(seed=16),\n",
    "                 return_sequences = True)(inp)\n",
    "out = ConvLSTM2D(512,3,strides = (1,1), padding = 'valid',\n",
    "                 data_format = 'channels_last', kernel_initializer = tf.keras.initializers.he_normal(seed=16),\n",
    "                 return_sequences = False)(out)"
   ]
  },
  {
   "cell_type": "code",
   "execution_count": 45,
   "metadata": {
    "ExecuteTime": {
     "end_time": "2020-09-29T21:38:42.396064Z",
     "start_time": "2020-09-29T21:38:42.390053Z"
    }
   },
   "outputs": [],
   "source": [
    "out = GlobalAveragePooling2D()(out)"
   ]
  },
  {
   "cell_type": "code",
   "execution_count": 46,
   "metadata": {
    "ExecuteTime": {
     "end_time": "2020-09-29T21:38:42.742138Z",
     "start_time": "2020-09-29T21:38:42.730142Z"
    }
   },
   "outputs": [],
   "source": [
    "out = Dense(3,activation='sigmoid',kernel_initializer = tf.keras.initializers.he_normal(seed=16))(out)"
   ]
  },
  {
   "cell_type": "code",
   "execution_count": 47,
   "metadata": {
    "ExecuteTime": {
     "end_time": "2020-09-29T21:38:43.642450Z",
     "start_time": "2020-09-29T21:38:43.637437Z"
    }
   },
   "outputs": [],
   "source": [
    "dsmodel = Model(inp,out)"
   ]
  },
  {
   "cell_type": "code",
   "execution_count": 49,
   "metadata": {
    "ExecuteTime": {
     "end_time": "2020-09-29T21:38:44.383465Z",
     "start_time": "2020-09-29T21:38:44.379475Z"
    },
    "scrolled": true
   },
   "outputs": [
    {
     "name": "stdout",
     "output_type": "stream",
     "text": [
      "Model: \"model\"\n",
      "_________________________________________________________________\n",
      "Layer (type)                 Output Shape              Param #   \n",
      "=================================================================\n",
      "input_13 (InputLayer)        [(None, 16, 16, 4096)]    0         \n",
      "_________________________________________________________________\n",
      "conv2d_47 (Conv2D)           (None, 16, 16, 512)       2097664   \n",
      "_________________________________________________________________\n",
      "batch_normalization_47 (Batc (None, 16, 16, 512)       2048      \n",
      "_________________________________________________________________\n",
      "activation_47 (Activation)   (None, 16, 16, 512)       0         \n",
      "_________________________________________________________________\n",
      "temporal_reshape (TemporalRe (1, 12, 16, 16, 512)      0         \n",
      "_________________________________________________________________\n",
      "conv_lst_m2d (ConvLSTM2D)    (1, 14, 14, 256)          7078912   \n",
      "_________________________________________________________________\n",
      "global_average_pooling2d (Gl (1, 256)                  0         \n",
      "_________________________________________________________________\n",
      "dense (Dense)                (1, 3)                    771       \n",
      "=================================================================\n",
      "Total params: 9,179,395\n",
      "Trainable params: 9,178,371\n",
      "Non-trainable params: 1,024\n",
      "_________________________________________________________________\n"
     ]
    }
   ],
   "source": [
    "dsmodel.summary()"
   ]
  },
  {
   "cell_type": "code",
   "execution_count": 47,
   "metadata": {},
   "outputs": [
    {
     "data": {
      "image/png": "[encoded data removed]",
      "text/plain": [
       "<IPython.core.display.Image object>"
      ]
     },
     "execution_count": 47,
     "metadata": {},
     "output_type": "execute_result"
    }
   ],
   "source": [
    "plot_model(dsmodel,show_shapes = True)"
   ]
  },
  {
   "cell_type": "code",
   "execution_count": 50,
   "metadata": {
    "ExecuteTime": {
     "end_time": "2020-09-29T21:38:49.083377Z",
     "start_time": "2020-09-29T21:38:49.080408Z"
    }
   },
   "outputs": [],
   "source": [
    "NUM_CLASSES = 3"
   ]
  },
  {
   "cell_type": "code",
   "execution_count": 51,
   "metadata": {
    "ExecuteTime": {
     "end_time": "2020-09-29T21:38:49.877382Z",
     "start_time": "2020-09-29T21:38:49.854464Z"
    }
   },
   "outputs": [],
   "source": [
    "class DSDataGen(Sequence):\n",
    "    def __init__(self, phase, injury, mode, base_dir, labs_df, filenames_df, pretext_model, preprocess_input = None, \n",
    "                 batch_size=1, data_aug = True, num_frames = NUM_FRAMES, num_classes=NUM_CLASSES):\n",
    "        self.base_dir = base_dir\n",
    "        self.ph_mode_dir = base_dir +'\\\\'+phase\n",
    "        self.filenames = os.listdir(self.ph_mode_dir)\n",
    "        self.phase = phase\n",
    "        self.batch_size = batch_size\n",
    "        self.num_frames = num_frames\n",
    "        self.num_classes = num_classes\n",
    "        self.filenames_df = filenames_df\n",
    "        self.preprocess_input = preprocess_input\n",
    "        self.pretext_model = pretext_model\n",
    "        self.MAX_FRAMES = num_frames #NUM_FRAMES\n",
    "         \n",
    "        self.mode = mode #['sagittal','coronal','axial']\n",
    "        self.injury = injury\n",
    "\n",
    "        self.mllabs = labs_df\n",
    "\n",
    "        self.indices = list(range(self.filenames_df.shape[0]))\n",
    "        \n",
    "        self.data_aug = data_aug\n",
    "        \n",
    "        self.startind = 0\n",
    "        self.endind = self.startind + self.batch_size\n",
    "        \n",
    "        self.invGamma100 = 1.0 \n",
    "        self.invGamma115 = 1.0/1.15\n",
    "        self.invGamma085 = 1.0/0.85\n",
    "        self.table100 = np.array([((k / 255.0) ** self.invGamma100) * 255 for k in np.arange(0, 256)]).astype(\"uint8\")\n",
    "        self.table115 = np.array([((k / 255.0) ** self.invGamma115) * 255 for k in np.arange(0, 256)]).astype(\"uint8\")\n",
    "        self.table085 = np.array([((k / 255.0) ** self.invGamma085) * 255 for k in np.arange(0, 256)]).astype(\"uint8\")\n",
    "        self.gamma_dict100 = dict(zip(range(256),self.table100))\n",
    "        self.gamma_dict115 = dict(zip(range(256),self.table115))\n",
    "        self.gamma_dict085 = dict(zip(range(256),self.table085))\n",
    "\n",
    "    def get_random_shuffle_order(self,batch_sz):\n",
    "        blist = list(range(batch_sz))\n",
    "        random.shuffle(blist)\n",
    "        #print(blist)\n",
    "        return blist\n",
    "    \n",
    "    def load_volume(self,mode,file_idx):\n",
    "        filePoolLen = self.filenames_df.shape[0]\n",
    "        #print(file_idx)\n",
    "        #file_idx = file_idx%filePoolLen \n",
    "        npy_file = np.load(self.ph_mode_dir+'\\\\'+mode+'\\\\'+self.filenames_df['filename'].iloc[file_idx])\n",
    "        return npy_file\n",
    "    \n",
    "    def get_frames(self,mode,idx):\n",
    "        image_volume = self.load_volume(mode,idx)\n",
    "        tot_frames = image_volume.shape[0]\n",
    "        \n",
    "        self.num_frames = np.min([tot_frames,self.MAX_FRAMES])\n",
    "        #self.num_frames = 9*int(np.floor(self.num_frames/9.))\n",
    "        #print(frame_idxs.shape)\n",
    "\n",
    "        #ONLY FOR MRNet MODEL\n",
    "        frame_idxs = np.array(sorted(random.sample(list(range(tot_frames)),self.num_frames)))\n",
    "\n",
    "        frames = np.array([]).reshape((0,256,256,3))\n",
    "        for n in range(self.num_frames):\n",
    "            frame_idx = frame_idxs[n]\n",
    "            frame = np.array(image_volume[frame_idx,:,:])\n",
    "            frame = np.expand_dims(frame,axis=2)\n",
    "            frame = np.append(frame,np.append(frame,frame,axis=2),axis=2)\n",
    "            \n",
    "            frames = np.append(frames,np.expand_dims(frame,axis=0),axis=0)\n",
    "        #print(frames.shape)\n",
    "        return frames\n",
    "    \n",
    "    def __len__(self):\n",
    "        return len(self.filenames_df)\n",
    "    \n",
    "    def __getitem__(self,idx):\n",
    "        \n",
    "        self.startind = idx*self.batch_size\n",
    "        self.endind = self.startind + self.batch_size\n",
    "        \n",
    "        #DECLARE VARIABLES\n",
    "        batch_imgs = np.array([]).reshape((0,256,256,3))\n",
    "        \n",
    "        ds_batch_labs = ds_batch_labs = self.mllabs[['abn','acl','men']].iloc[idx].values.reshape((1,-1))\n",
    "        \n",
    "        #GET CLIP FRAMES\n",
    "        batch_imgs = np.append(batch_imgs,self.get_frames(self.mode,idx),axis=0)\n",
    "\n",
    "        sind = 0\n",
    "        eind = 0\n",
    "        tot_frames = batch_imgs.shape[0]\n",
    "\n",
    "        #AUGMENT FRAMES\n",
    "        if self.data_aug and self.phase == 'train':\n",
    "            batch_imgs = self.__augment(batch_imgs)\n",
    "\n",
    "        #PREPROCESS FRAMES\n",
    "        batch_imgs = self.preprocess_input(batch_imgs)\n",
    "        b1out = branch1(batch_imgs)\n",
    "        b2out = branch2(batch_imgs)\n",
    "        b3out = branch3(batch_imgs)\n",
    "        b4out = branch4(batch_imgs)\n",
    "        b5out = branch5(batch_imgs)\n",
    "        b6out = branch6(batch_imgs)\n",
    "        b7out = branch7(batch_imgs)\n",
    "        b8out = branch8(batch_imgs)\n",
    "        b9out = branch9(batch_imgs)\n",
    "        \n",
    "        bouts = np.concatenate([b1out,b2out,b3out,b4out,b5out,b6out,b7out,b8out,b9out],axis=3)\n",
    "        \n",
    "        b1out,b2out,b3out,b4out,b5out,b6out,b7out,b8out,b9out = [None]*9\n",
    "        \n",
    "        bouts = conv1x1(bouts)\n",
    "        \n",
    "        bouts = pretext_part2(bouts)\n",
    "        \n",
    "        bouts = pretext_part3(bouts)\n",
    "        \n",
    "        return bouts, ds_batch_labs \n",
    "    \n",
    "    def on_epoch_end(self):\n",
    "        idx = np.random.permutation(self.filenames_df.index.values)\n",
    "        self.mllabs = self.mllabs.reindex(idx)\n",
    "        self.filenames_df = self.filenames_df.reindex(idx)\n",
    "        self.mllabs = self.mllabs.reset_index(drop=True)\n",
    "        self.filenames_df = self.filenames_df.reset_index(drop=True)\n",
    "        \n",
    "    def gamma_correction(self,temp_patch):\n",
    "        \n",
    "        gamma_val = np.random.choice([0,1,2])\n",
    "        if gamma_val == 0:\n",
    "            temp_patch = np.vectorize(self.gamma_dict100.get)(temp_patch.astype('int'))\n",
    "        if gamma_val == 1:\n",
    "            temp_patch = np.vectorize(self.gamma_dict115.get)(temp_patch.astype('int'))\n",
    "        if gamma_val == 2:\n",
    "            temp_patch = np.vectorize(self.gamma_dict085.get)(temp_patch.astype('int'))\n",
    "\n",
    "        return temp_patch\n",
    "    \n",
    "    def __augment(self,batch_imgs):\n",
    "        num_imgs = batch_imgs.shape[0]\n",
    "        rotang = np.random.choice([-20,0,20])\n",
    "        scale = np.random.choice([1,1.15])\n",
    "        transformation_matrix=np.array([[scale,           0,             np.random.choice([-15,0,15])],\n",
    "                                        [0,               scale,         np.random.choice([-15,0,15])],\n",
    "                                        [0,               0,                       1                 ]])\n",
    "        for i in range(num_imgs):\n",
    "            batch_imgs[i] = rotate(batch_imgs[i],rotang,preserve_range=True)\n",
    "            batch_imgs[i] = warp(batch_imgs[i], AffineTransform(matrix=transformation_matrix).inverse, preserve_range=True)\n",
    "            #print(batch_labs)\n",
    "                \n",
    "        return batch_imgs"
   ]
  },
  {
   "cell_type": "code",
   "execution_count": 52,
   "metadata": {
    "ExecuteTime": {
     "end_time": "2020-09-29T21:38:51.156862Z",
     "start_time": "2020-09-29T21:38:51.150873Z"
    }
   },
   "outputs": [],
   "source": [
    "tdg = DSDataGen('train', None, 'sagittal', mrnet_path, tr_multilabel, tr_filenames_df, None, preprocess_input = ppi_irv2, \n",
    "                 batch_size=1, data_aug = True, num_frames = NUM_FRAMES, num_classes=NUM_CLASSES)"
   ]
  },
  {
   "cell_type": "code",
   "execution_count": 53,
   "metadata": {
    "ExecuteTime": {
     "end_time": "2020-09-29T21:38:51.517889Z",
     "start_time": "2020-09-29T21:38:51.512885Z"
    }
   },
   "outputs": [
    {
     "name": "stdout",
     "output_type": "stream",
     "text": [
      "{'abn': 1.0, 'acl': 4.4326923076923075, 'men': 1.8463476070528968}\n",
      "{'abn': 4.207373271889401, 'acl': 1.0, 'men': 1.0}\n"
     ]
    }
   ],
   "source": [
    "positive_weights = {}\n",
    "negative_weights = {}\n",
    "class_names = ['abn','acl','men']\n",
    "for i in range(3):\n",
    "    positive_weights[class_names[i]] = cw[i,0]\n",
    "    negative_weights[class_names[i]] = cw[i,1]\n",
    "    \n",
    "print(positive_weights)\n",
    "print(negative_weights)"
   ]
  },
  {
   "cell_type": "code",
   "execution_count": 54,
   "metadata": {
    "ExecuteTime": {
     "end_time": "2020-09-29T21:38:51.860951Z",
     "start_time": "2020-09-29T21:38:51.854967Z"
    }
   },
   "outputs": [],
   "source": [
    "vdg = DSDataGen('valid',None,'sagittal',mrnet_path, val_multilabel, val_filenames_df, None,\n",
    "                preprocess_input = ppi_irv2, batch_size=1, num_frames = NUM_FRAMES,\n",
    "                data_aug = False, num_classes=NUM_CLASSES)"
   ]
  },
  {
   "cell_type": "markdown",
   "metadata": {},
   "source": [
    "### Weighted Binary Crossentropy Loss"
   ]
  },
  {
   "cell_type": "code",
   "execution_count": 60,
   "metadata": {},
   "outputs": [],
   "source": [
    "def loss_fn(y_true,y_pred):\n",
    "    #print(y_true.numpy(),y_pred)\n",
    "    loss = 0\n",
    "    loss -= (positive_weights['abn']*y_true[0]*K.log(y_pred[0]) + negative_weights['abn']*(1-y_true[0])*K.log(1-y_pred[0]))\n",
    "    loss -= (positive_weights['acl']*y_true[1]*K.log(y_pred[1]) + negative_weights['acl']*(1-y_true[1])*K.log(1-y_pred[1]))\n",
    "    loss -= (positive_weights['men']*y_true[2]*K.log(y_pred[2]) + negative_weights['men']*(1-y_true[2])*K.log(1-y_pred[2]))\n",
    "    \n",
    "    return loss"
   ]
  },
  {
   "cell_type": "code",
   "execution_count": 55,
   "metadata": {
    "ExecuteTime": {
     "end_time": "2020-09-29T21:38:56.156647Z",
     "start_time": "2020-09-29T21:38:56.151688Z"
    }
   },
   "outputs": [
    {
     "name": "stdout",
     "output_type": "stream",
     "text": [
      "[1.0, 4.4326923076923075, 1.8463476070528968] [4.207373271889401, 1.0, 1.0]\n"
     ]
    }
   ],
   "source": [
    "pos_wts = list(positive_weights.values())\n",
    "neg_wts = list(negative_weights.values())\n",
    "print(pos_wts,neg_wts)"
   ]
  },
  {
   "cell_type": "code",
   "execution_count": 56,
   "metadata": {
    "ExecuteTime": {
     "end_time": "2020-09-29T21:38:56.506615Z",
     "start_time": "2020-09-29T21:38:56.502626Z"
    }
   },
   "outputs": [],
   "source": [
    "def loss_fn2(y_true,y_pred):\n",
    "    loss = 0\n",
    "    loss -= K.sum(pos_wts*y_true*K.log(y_pred))\n",
    "    loss -= K.sum(neg_wts*(1-y_true)*K.log(1-y_pred))\n",
    "    \n",
    "    return loss"
   ]
  },
  {
   "cell_type": "markdown",
   "metadata": {},
   "source": [
    "### model.fit()"
   ]
  },
  {
   "cell_type": "code",
   "execution_count": 57,
   "metadata": {
    "ExecuteTime": {
     "end_time": "2020-09-29T21:39:00.678515Z",
     "start_time": "2020-09-29T21:39:00.639597Z"
    }
   },
   "outputs": [],
   "source": [
    "dsmodel.compile(optimizer=tf.keras.optimizers.RMSprop(learning_rate =tf.keras.optimizers.schedules.ExponentialDecay(initial_learning_rate=0.00001, decay_steps = 1130,decay_rate=0.95,staircase=True)),\n",
    "                         loss=loss_fn2,\n",
    "                         metrics=[tf.keras.metrics.BinaryAccuracy(),tf.keras.metrics.AUC()])"
   ]
  },
  {
   "cell_type": "code",
   "execution_count": 60,
   "metadata": {
    "ExecuteTime": {
     "end_time": "2020-10-01T02:56:24.087083Z",
     "start_time": "2020-09-30T07:41:05.644873Z"
    },
    "scrolled": false
   },
   "outputs": [
    {
     "name": "stdout",
     "output_type": "stream",
     "text": [
      "Epoch 11/30\n",
      "1130/1130 [==============================] - ETA: 0s - loss: 2.7749 - binary_accuracy: 0.7103 - auc: 0.7851\n",
      "Epoch 00011: val_binary_accuracy improved from -inf to 0.64167, saving model to D:\\SiladittyaJRF\\ds\\COnvLSTM2D primary model\\saved_models\\sagittal_best_modelX_3009200300.h5\n",
      "1130/1130 [==============================] - 3475s 3s/step - loss: 2.7749 - binary_accuracy: 0.7103 - auc: 0.7851 - val_loss: 3.8977 - val_binary_accuracy: 0.6417 - val_auc: 0.7503\n",
      "Epoch 12/30\n",
      "1130/1130 [==============================] - ETA: 0s - loss: 2.7076 - binary_accuracy: 0.7186 - auc: 0.7971\n",
      "Epoch 00012: val_binary_accuracy improved from 0.64167 to 0.68056, saving model to D:\\SiladittyaJRF\\ds\\COnvLSTM2D primary model\\saved_models\\sagittal_best_modelX_3009200300.h5\n",
      "1130/1130 [==============================] - 3473s 3s/step - loss: 2.7076 - binary_accuracy: 0.7186 - auc: 0.7971 - val_loss: 3.5488 - val_binary_accuracy: 0.6806 - val_auc: 0.7301\n",
      "Epoch 13/30\n",
      "1130/1130 [==============================] - ETA: 0s - loss: 2.6714 - binary_accuracy: 0.7271 - auc: 0.8028\n",
      "Epoch 00013: val_binary_accuracy improved from 0.68056 to 0.69722, saving model to D:\\SiladittyaJRF\\ds\\COnvLSTM2D primary model\\saved_models\\sagittal_best_modelX_3009200300.h5\n",
      "1130/1130 [==============================] - 3463s 3s/step - loss: 2.6714 - binary_accuracy: 0.7271 - auc: 0.8028 - val_loss: 3.9820 - val_binary_accuracy: 0.6972 - val_auc: 0.7682\n",
      "Epoch 14/30\n",
      "1130/1130 [==============================] - ETA: 0s - loss: 2.6750 - binary_accuracy: 0.7404 - auc: 0.8110\n",
      "Epoch 00014: val_binary_accuracy did not improve from 0.69722\n",
      "1130/1130 [==============================] - 3475s 3s/step - loss: 2.6750 - binary_accuracy: 0.7404 - auc: 0.8110 - val_loss: 3.6671 - val_binary_accuracy: 0.6694 - val_auc: 0.7358\n",
      "Epoch 15/30\n",
      "1130/1130 [==============================] - ETA: 0s - loss: 2.6243 - binary_accuracy: 0.7336 - auc: 0.8114\n",
      "Epoch 00015: val_binary_accuracy improved from 0.69722 to 0.70278, saving model to D:\\SiladittyaJRF\\ds\\COnvLSTM2D primary model\\saved_models\\sagittal_best_modelX_3009200300.h5\n",
      "1130/1130 [==============================] - 3464s 3s/step - loss: 2.6243 - binary_accuracy: 0.7336 - auc: 0.8114 - val_loss: 3.9373 - val_binary_accuracy: 0.7028 - val_auc: 0.7684\n",
      "Epoch 16/30\n",
      "1130/1130 [==============================] - ETA: 0s - loss: 2.6189 - binary_accuracy: 0.7407 - auc: 0.8127\n",
      "Epoch 00016: val_binary_accuracy did not improve from 0.70278\n",
      "1130/1130 [==============================] - 3455s 3s/step - loss: 2.6189 - binary_accuracy: 0.7407 - auc: 0.8127 - val_loss: 3.5251 - val_binary_accuracy: 0.6861 - val_auc: 0.7557\n",
      "Epoch 17/30\n",
      "1130/1130 [==============================] - ETA: 0s - loss: 2.5592 - binary_accuracy: 0.7466 - auc: 0.8227\n",
      "Epoch 00017: val_binary_accuracy improved from 0.70278 to 0.70833, saving model to D:\\SiladittyaJRF\\ds\\COnvLSTM2D primary model\\saved_models\\sagittal_best_modelX_3009200300.h5\n",
      "1130/1130 [==============================] - 3461s 3s/step - loss: 2.5592 - binary_accuracy: 0.7466 - auc: 0.8227 - val_loss: 3.8917 - val_binary_accuracy: 0.7083 - val_auc: 0.7889\n",
      "Epoch 18/30\n",
      "1130/1130 [==============================] - ETA: 0s - loss: 2.5674 - binary_accuracy: 0.7460 - auc: 0.8232\n",
      "Epoch 00018: val_binary_accuracy improved from 0.70833 to 0.73056, saving model to D:\\SiladittyaJRF\\ds\\COnvLSTM2D primary model\\saved_models\\sagittal_best_modelX_3009200300.h5\n",
      "1130/1130 [==============================] - 3467s 3s/step - loss: 2.5674 - binary_accuracy: 0.7460 - auc: 0.8232 - val_loss: 3.5222 - val_binary_accuracy: 0.7306 - val_auc: 0.8122\n",
      "Epoch 19/30\n",
      "1130/1130 [==============================] - ETA: 0s - loss: 2.5670 - binary_accuracy: 0.7457 - auc: 0.8225\n",
      "Epoch 00019: val_binary_accuracy did not improve from 0.73056\n",
      "1130/1130 [==============================] - 3464s 3s/step - loss: 2.5670 - binary_accuracy: 0.7457 - auc: 0.8225 - val_loss: 3.5592 - val_binary_accuracy: 0.7278 - val_auc: 0.8009\n",
      "Epoch 20/30\n",
      "1130/1130 [==============================] - ETA: 0s - loss: 2.5625 - binary_accuracy: 0.7401 - auc: 0.8224\n",
      "Epoch 00020: val_binary_accuracy improved from 0.73056 to 0.74167, saving model to D:\\SiladittyaJRF\\ds\\COnvLSTM2D primary model\\saved_models\\sagittal_best_modelX_3009200300.h5\n",
      "1130/1130 [==============================] - 3465s 3s/step - loss: 2.5625 - binary_accuracy: 0.7401 - auc: 0.8224 - val_loss: 3.6344 - val_binary_accuracy: 0.7417 - val_auc: 0.8086\n",
      "Epoch 21/30\n",
      "1130/1130 [==============================] - ETA: 0s - loss: 2.5463 - binary_accuracy: 0.7572 - auc: 0.8331\n",
      "Epoch 00021: val_binary_accuracy did not improve from 0.74167\n",
      "1130/1130 [==============================] - 3466s 3s/step - loss: 2.5463 - binary_accuracy: 0.7572 - auc: 0.8331 - val_loss: 3.5638 - val_binary_accuracy: 0.6833 - val_auc: 0.7941\n",
      "Epoch 22/30\n",
      "1130/1130 [==============================] - ETA: 0s - loss: 2.5003 - binary_accuracy: 0.7504 - auc: 0.8325\n",
      "Epoch 00022: val_binary_accuracy did not improve from 0.74167\n",
      "1130/1130 [==============================] - 3467s 3s/step - loss: 2.5003 - binary_accuracy: 0.7504 - auc: 0.8325 - val_loss: 3.6290 - val_binary_accuracy: 0.7111 - val_auc: 0.8023\n",
      "Epoch 23/30\n",
      "1130/1130 [==============================] - ETA: 0s - loss: 2.5263 - binary_accuracy: 0.7437 - auc: 0.8302\n",
      "Epoch 00023: val_binary_accuracy did not improve from 0.74167\n",
      "1130/1130 [==============================] - 3466s 3s/step - loss: 2.5263 - binary_accuracy: 0.7437 - auc: 0.8302 - val_loss: 3.6531 - val_binary_accuracy: 0.7306 - val_auc: 0.8106\n",
      "Epoch 24/30\n",
      "1130/1130 [==============================] - ETA: 0s - loss: 2.4745 - binary_accuracy: 0.7522 - auc: 0.8372\n",
      "Epoch 00024: val_binary_accuracy did not improve from 0.74167\n",
      "1130/1130 [==============================] - 3463s 3s/step - loss: 2.4745 - binary_accuracy: 0.7522 - auc: 0.8372 - val_loss: 3.6097 - val_binary_accuracy: 0.7250 - val_auc: 0.8008\n",
      "Epoch 25/30\n",
      "1130/1130 [==============================] - ETA: 0s - loss: 2.4591 - binary_accuracy: 0.7587 - auc: 0.8359\n",
      "Epoch 00025: val_binary_accuracy did not improve from 0.74167\n",
      "1130/1130 [==============================] - 3457s 3s/step - loss: 2.4591 - binary_accuracy: 0.7587 - auc: 0.8359 - val_loss: 3.8724 - val_binary_accuracy: 0.7222 - val_auc: 0.7991\n",
      "Epoch 26/30\n",
      "1130/1130 [==============================] - ETA: 0s - loss: 2.4409 - binary_accuracy: 0.7617 - auc: 0.8423\n",
      "Epoch 00026: val_binary_accuracy did not improve from 0.74167\n",
      "1130/1130 [==============================] - 3455s 3s/step - loss: 2.4409 - binary_accuracy: 0.7617 - auc: 0.8423 - val_loss: 3.7030 - val_binary_accuracy: 0.7306 - val_auc: 0.8172\n",
      "Epoch 27/30\n",
      "1130/1130 [==============================] - ETA: 0s - loss: 2.4432 - binary_accuracy: 0.7614 - auc: 0.8439\n",
      "Epoch 00027: val_binary_accuracy improved from 0.74167 to 0.74444, saving model to D:\\SiladittyaJRF\\ds\\COnvLSTM2D primary model\\saved_models\\sagittal_best_modelX_3009200300.h5\n",
      "1130/1130 [==============================] - 3455s 3s/step - loss: 2.4432 - binary_accuracy: 0.7614 - auc: 0.8439 - val_loss: 3.3592 - val_binary_accuracy: 0.7444 - val_auc: 0.8193\n",
      "Epoch 28/30\n",
      "1130/1130 [==============================] - ETA: 0s - loss: 2.4526 - binary_accuracy: 0.7584 - auc: 0.8434\n",
      "Epoch 00028: val_binary_accuracy did not improve from 0.74444\n",
      "1130/1130 [==============================] - 3455s 3s/step - loss: 2.4526 - binary_accuracy: 0.7584 - auc: 0.8434 - val_loss: 3.4992 - val_binary_accuracy: 0.7222 - val_auc: 0.7926\n",
      "Epoch 29/30\n",
      "1130/1130 [==============================] - ETA: 0s - loss: 2.4212 - binary_accuracy: 0.7625 - auc: 0.8457\n",
      "Epoch 00029: val_binary_accuracy did not improve from 0.74444\n",
      "1130/1130 [==============================] - 3456s 3s/step - loss: 2.4212 - binary_accuracy: 0.7625 - auc: 0.8457 - val_loss: 3.3695 - val_binary_accuracy: 0.7306 - val_auc: 0.8176\n",
      "Epoch 30/30\n",
      "1130/1130 [==============================] - ETA: 0s - loss: 2.4319 - binary_accuracy: 0.7605 - auc: 0.8445\n",
      "Epoch 00030: val_binary_accuracy did not improve from 0.74444\n",
      "1130/1130 [==============================] - 3457s 3s/step - loss: 2.4319 - binary_accuracy: 0.7605 - auc: 0.8445 - val_loss: 3.7496 - val_binary_accuracy: 0.7333 - val_auc: 0.8123\n"
     ]
    }
   ],
   "source": [
    "history = dsmodel.fit(tdg,epochs = 30,initial_epoch=10, shuffle=True, callbacks = get_callbacks(), validation_data=vdg)"
   ]
  },
  {
   "cell_type": "code",
   "execution_count": 61,
   "metadata": {
    "ExecuteTime": {
     "end_time": "2020-10-01T04:42:07.141616Z",
     "start_time": "2020-10-01T04:42:07.019919Z"
    }
   },
   "outputs": [
    {
     "data": {
      "text/plain": [
       "[<matplotlib.lines.Line2D at 0x13e3c45a0a0>]"
      ]
     },
     "execution_count": 61,
     "metadata": {},
     "output_type": "execute_result"
    },
    {
     "data": {
      "image/png": "[encoded data removed]",
      "text/plain": [
       "<Figure size 432x288 with 1 Axes>"
      ]
     },
     "metadata": {
      "needs_background": "light"
     },
     "output_type": "display_data"
    }
   ],
   "source": [
    "plt.plot(history.history['binary_accuracy']) #+history2.history['binary_accuracy'])\n",
    "plt.plot(history.history['val_binary_accuracy']) #+history2.history['val_binary_accuracy'])"
   ]
  },
  {
   "cell_type": "code",
   "execution_count": null,
   "metadata": {},
   "outputs": [],
   "source": []
  },
  {
   "cell_type": "markdown",
   "metadata": {},
   "source": [
    "## Metrics"
   ]
  },
  {
   "cell_type": "code",
   "execution_count": 65,
   "metadata": {
    "ExecuteTime": {
     "end_time": "2020-10-01T04:50:26.193599Z",
     "start_time": "2020-10-01T04:50:25.585218Z"
    }
   },
   "outputs": [],
   "source": [
    "dsmodel = tf.keras.models.load_model('path/to/best/model.h5',compile=False,custom_objects= {'TemporalReshape':TemporalReshape})"
   ]
  },
  {
   "cell_type": "code",
   "execution_count": 66,
   "metadata": {
    "ExecuteTime": {
     "end_time": "2020-10-01T04:55:34.740430Z",
     "start_time": "2020-10-01T04:50:30.616915Z"
    }
   },
   "outputs": [],
   "source": [
    "y = np.array([]).reshape((0,3))\n",
    "\n",
    "pred = np.array([]).reshape((0,3))\n",
    "\n",
    "for i in range(120):\n",
    "    i1,jpp_out_true = vdg.__getitem__(i)\n",
    "    #print(gtp_out_true.shape)\n",
    "    y = np.append(y,jpp_out_true,axis=0)\n",
    "    jpp_pred = dsmodel(i1)\n",
    "    \n",
    "    pred = np.append(pred,jpp_pred.numpy(),axis=0)\n",
    "    #menpred = np.append(menpred,gtp_pred.numpy()[0][2].reshape((1,1)),axis=0)\n",
    "\n",
    "class_labels = ['abnormality','acl tear','meniscus tear']"
   ]
  },
  {
   "cell_type": "code",
   "execution_count": 67,
   "metadata": {
    "ExecuteTime": {
     "end_time": "2020-10-01T04:55:35.096473Z",
     "start_time": "2020-10-01T04:55:35.069523Z"
    }
   },
   "outputs": [],
   "source": [
    "perf_metrics_df = get_performance_metrics(y, pred, class_labels, tp=TP,tn=TN, \n",
    "                                          fp=FP, fn=FN, acc=get_accuracy, \n",
    "                                          prevalence=get_prevalence, \n",
    "                                          spec=specificity,sens=sensitivity, \n",
    "                                          ppv=get_ppv, npv=get_npv, \n",
    "                                          auc=roc_auc_score, f1=f1_score,\n",
    "                                          thresholds=[])"
   ]
  },
  {
   "cell_type": "code",
   "execution_count": 68,
   "metadata": {
    "ExecuteTime": {
     "end_time": "2020-10-01T04:55:35.521611Z",
     "start_time": "2020-10-01T04:55:35.412628Z"
    }
   },
   "outputs": [
    {
     "data": {
      "text/html": [
       "<div>\n",
       "<style scoped>\n",
       "    .dataframe tbody tr th:only-of-type {\n",
       "        vertical-align: middle;\n",
       "    }\n",
       "\n",
       "    .dataframe tbody tr th {\n",
       "        vertical-align: top;\n",
       "    }\n",
       "\n",
       "    .dataframe thead th {\n",
       "        text-align: right;\n",
       "    }\n",
       "</style>\n",
       "<table border=\"1\" class=\"dataframe\">\n",
       "  <thead>\n",
       "    <tr style=\"text-align: right;\">\n",
       "      <th></th>\n",
       "      <th>TP</th>\n",
       "      <th>TN</th>\n",
       "      <th>FP</th>\n",
       "      <th>FN</th>\n",
       "      <th>Accuracy</th>\n",
       "      <th>Prevalence</th>\n",
       "      <th>Sensitivity</th>\n",
       "      <th>Specificity</th>\n",
       "      <th>PPV</th>\n",
       "      <th>NPV</th>\n",
       "      <th>AUC</th>\n",
       "      <th>F1</th>\n",
       "      <th>Threshold</th>\n",
       "    </tr>\n",
       "    <tr>\n",
       "      <th></th>\n",
       "      <th></th>\n",
       "      <th></th>\n",
       "      <th></th>\n",
       "      <th></th>\n",
       "      <th></th>\n",
       "      <th></th>\n",
       "      <th></th>\n",
       "      <th></th>\n",
       "      <th></th>\n",
       "      <th></th>\n",
       "      <th></th>\n",
       "      <th></th>\n",
       "      <th></th>\n",
       "    </tr>\n",
       "  </thead>\n",
       "  <tbody>\n",
       "    <tr>\n",
       "      <th>abnormality</th>\n",
       "      <td>85</td>\n",
       "      <td>14</td>\n",
       "      <td>11</td>\n",
       "      <td>10</td>\n",
       "      <td>0.825</td>\n",
       "      <td>0.792</td>\n",
       "      <td>0.895</td>\n",
       "      <td>0.56</td>\n",
       "      <td>0.885</td>\n",
       "      <td>0.583</td>\n",
       "      <td>0.8</td>\n",
       "      <td>0.89</td>\n",
       "      <td>0.5</td>\n",
       "    </tr>\n",
       "    <tr>\n",
       "      <th>acl tear</th>\n",
       "      <td>38</td>\n",
       "      <td>47</td>\n",
       "      <td>19</td>\n",
       "      <td>16</td>\n",
       "      <td>0.708</td>\n",
       "      <td>0.45</td>\n",
       "      <td>0.704</td>\n",
       "      <td>0.712</td>\n",
       "      <td>0.667</td>\n",
       "      <td>0.746</td>\n",
       "      <td>0.81</td>\n",
       "      <td>0.685</td>\n",
       "      <td>0.5</td>\n",
       "    </tr>\n",
       "    <tr>\n",
       "      <th>meniscus tear</th>\n",
       "      <td>40</td>\n",
       "      <td>40</td>\n",
       "      <td>28</td>\n",
       "      <td>12</td>\n",
       "      <td>0.667</td>\n",
       "      <td>0.433</td>\n",
       "      <td>0.769</td>\n",
       "      <td>0.588</td>\n",
       "      <td>0.588</td>\n",
       "      <td>0.769</td>\n",
       "      <td>0.726</td>\n",
       "      <td>0.667</td>\n",
       "      <td>0.5</td>\n",
       "    </tr>\n",
       "  </tbody>\n",
       "</table>\n",
       "</div>"
      ],
      "text/plain": [
       "               TP  TN  FP  FN Accuracy Prevalence Sensitivity Specificity  \\\n",
       "                                                                            \n",
       "abnormality    85  14  11  10    0.825      0.792       0.895        0.56   \n",
       "acl tear       38  47  19  16    0.708       0.45       0.704       0.712   \n",
       "meniscus tear  40  40  28  12    0.667      0.433       0.769       0.588   \n",
       "\n",
       "                 PPV    NPV    AUC     F1 Threshold  \n",
       "                                                     \n",
       "abnormality    0.885  0.583    0.8   0.89       0.5  \n",
       "acl tear       0.667  0.746   0.81  0.685       0.5  \n",
       "meniscus tear  0.588  0.769  0.726  0.667       0.5  "
      ]
     },
     "execution_count": 68,
     "metadata": {},
     "output_type": "execute_result"
    }
   ],
   "source": [
    "perf_metrics_df"
   ]
  },
  {
   "cell_type": "code",
   "execution_count": 77,
   "metadata": {},
   "outputs": [
    {
     "data": {
      "image/png": "[encoded data removed]",
      "text/plain": [
       "<Figure size 504x504 with 1 Axes>"
      ]
     },
     "metadata": {
      "needs_background": "light"
     },
     "output_type": "display_data"
    },
    {
     "data": {
      "image/png": "[encoded data removed]",
      "text/plain": [
       "<Figure size 504x504 with 1 Axes>"
      ]
     },
     "metadata": {
      "needs_background": "light"
     },
     "output_type": "display_data"
    },
    {
     "data": {
      "image/png": "[encoded data removed]",
      "text/plain": [
       "<Figure size 504x504 with 1 Axes>"
      ]
     },
     "metadata": {
      "needs_background": "light"
     },
     "output_type": "display_data"
    }
   ],
   "source": [
    "get_roc_curve(y,pred,class_labels)"
   ]
  },
  {
   "cell_type": "code",
   "execution_count": 72,
   "metadata": {},
   "outputs": [
    {
     "data": {
      "text/plain": [
       "{'AUC':        Mean AUC (CI 5%-95%)\n",
       " abn  0.8833 (0.8660-0.8990)\n",
       " acl  0.7647 (0.7398-0.7875)\n",
       " men  0.7497 (0.7268-0.7770),\n",
       " 'Sensitivity':     Mean Sensitivity (CI 5%-95%)\n",
       " abn       0.9686 (0.9595-0.9785)\n",
       " acl       0.5190 (0.4843-0.5534)\n",
       " men       0.4827 (0.4502-0.5128),\n",
       " 'Specificity':     Mean Specificity (CI 5%-95%)\n",
       " abn       0.3576 (0.3075-0.4137)\n",
       " acl       0.9091 (0.8889-0.9273)\n",
       " men       0.8084 (0.7878-0.8340),\n",
       " 'Accuracy':     Mean Accuracy (CI 5%-95%)\n",
       " abn    0.8424 (0.8297-0.8569)\n",
       " acl    0.7322 (0.7089-0.7501)\n",
       " men    0.6670 (0.6476-0.6868)}"
      ]
     },
     "execution_count": 72,
     "metadata": {},
     "output_type": "execute_result"
    }
   ],
   "source": [
    "get_confidence_intervals(y,pred,class_names)"
   ]
  },
  {
   "cell_type": "code",
   "execution_count": 1,
   "metadata": {
    "ExecuteTime": {
     "end_time": "2023-05-22T05:56:06.567785Z",
     "start_time": "2023-05-22T05:56:06.552782Z"
    }
   },
   "outputs": [],
   "source": [
    "# plot_perf_metrics_errbars(y,pred,class_names)"
   ]
  }
 ],
 "metadata": {
  "accelerator": "GPU",
  "colab": {
   "collapsed_sections": [
    "9Y2cdtkeps4I",
    "9E8t_MKiTlz6",
    "ZMBxyH8xiQLM",
    "odE4wSWawzrC",
    "flX-g831ijCK",
    "9XSAi9t4kUHj",
    "w2W1BmnmjfjZ",
    "RLjo17s2kUHx",
    "iNsgmvb3kyuQ",
    "qQJUoL4zuNYJ",
    "P3YXuO9PkUIa",
    "aHUjjDA9PDWi",
    "WPeQvoABkUIh",
    "vrRCO2yLkUIi",
    "qWlqgkNqdpOV",
    "K8Ot_HnjkUI7",
    "8iZOEKBNR47r",
    "K-6v-4P4R9KD",
    "F7Eq24j1R_LD",
    "2w2d34f2aieH",
    "Vfoe6-wZdGYr",
    "l0iA4BE9NecE",
    "pbhZ74ihv1tZ",
    "TpkiX2-NNne2",
    "HIK1G6Cyv_4A"
   ],
   "name": "Downstream task JPOP_Self_Supervised_Representation_Learning.ipynb",
   "provenance": []
  },
  "kernelspec": {
   "display_name": "Python 3",
   "language": "python",
   "name": "python3"
  },
  "language_info": {
   "codemirror_mode": {
    "name": "ipython",
    "version": 3
   },
   "file_extension": ".py",
   "mimetype": "text/x-python",
   "name": "python",
   "nbconvert_exporter": "python",
   "pygments_lexer": "ipython3",
   "version": "3.8.5"
  },
  "toc": {
   "base_numbering": 1,
   "nav_menu": {
    "height": "625px",
    "width": "382px"
   },
   "number_sections": true,
   "sideBar": true,
   "skip_h1_title": false,
   "title_cell": "Table of Contents",
   "title_sidebar": "Contents",
   "toc_cell": false,
   "toc_position": {},
   "toc_section_display": true,
   "toc_window_display": false
  },
  "varInspector": {
   "cols": {
    "lenName": 16,
    "lenType": 16,
    "lenVar": 40
   },
   "kernels_config": {
    "python": {
     "delete_cmd_postfix": "",
     "delete_cmd_prefix": "del ",
     "library": "var_list.py",
     "varRefreshCmd": "print(var_dic_list())"
    },
    "r": {
     "delete_cmd_postfix": ") ",
     "delete_cmd_prefix": "rm(",
     "library": "var_list.r",
     "varRefreshCmd": "cat(var_dic_list()) "
    }
   },
   "types_to_exclude": [
    "module",
    "function",
    "builtin_function_or_method",
    "instance",
    "_Feature"
   ],
   "window_display": false
  }
 },
 "nbformat": 4,
 "nbformat_minor": 1
}
