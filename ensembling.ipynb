{
 "cells": [
  {
   "cell_type": "code",
   "execution_count": 20,
   "metadata": {
    "ExecuteTime": {
     "end_time": "2021-09-14T12:39:37.042470Z",
     "start_time": "2021-09-14T12:39:36.921818Z"
    }
   },
   "outputs": [],
   "source": [
    "import numpy as np\n",
    "import pandas as pd"
   ]
  },
  {
   "cell_type": "code",
   "execution_count": 3,
   "metadata": {
    "ExecuteTime": {
     "end_time": "2021-09-14T12:22:23.703308Z",
     "start_time": "2021-09-14T12:22:23.700606Z"
    }
   },
   "outputs": [],
   "source": [
    "sagpred2 = np.load('sagittal_preds.npy')"
   ]
  },
  {
   "cell_type": "code",
   "execution_count": 4,
   "metadata": {
    "ExecuteTime": {
     "end_time": "2021-09-14T12:23:32.159456Z",
     "start_time": "2021-09-14T12:23:32.157020Z"
    }
   },
   "outputs": [],
   "source": [
    "corpred2 = np.load('coronal_preds.npy')"
   ]
  },
  {
   "cell_type": "code",
   "execution_count": 5,
   "metadata": {
    "ExecuteTime": {
     "end_time": "2021-09-14T12:23:41.899599Z",
     "start_time": "2021-09-14T12:23:41.897112Z"
    }
   },
   "outputs": [],
   "source": [
    "axipred2 = np.load('axial_preds.npy')"
   ]
  },
  {
   "cell_type": "code",
   "execution_count": 11,
   "metadata": {
    "ExecuteTime": {
     "end_time": "2021-09-14T12:37:40.650332Z",
     "start_time": "2021-09-14T12:37:40.647765Z"
    }
   },
   "outputs": [],
   "source": [
    "y = np.load('gt.npy')"
   ]
  },
  {
   "cell_type": "code",
   "execution_count": 6,
   "metadata": {
    "ExecuteTime": {
     "end_time": "2021-09-14T12:37:19.294603Z",
     "start_time": "2021-09-14T12:37:19.292204Z"
    }
   },
   "outputs": [],
   "source": [
    "sag_abn_acc = 0.783\n",
    "sag_acl_acc = 0.642\n",
    "sag_men_acc = 0.592\n",
    "\n",
    "cor_abn_acc = 0.792\n",
    "cor_acl_acc = 0.583\n",
    "cor_men_acc = 0.550\n",
    "\n",
    "axi_abn_acc = 0.817\n",
    "axi_acl_acc = 0.692\n",
    "axi_men_acc = 0.575"
   ]
  },
  {
   "cell_type": "code",
   "execution_count": 7,
   "metadata": {
    "ExecuteTime": {
     "end_time": "2021-09-14T12:37:19.673707Z",
     "start_time": "2021-09-14T12:37:19.670357Z"
    }
   },
   "outputs": [],
   "source": [
    "w_abn = [np.log(sag_abn_acc/(1-sag_abn_acc)),\n",
    "         np.log(cor_abn_acc/(1-cor_abn_acc)),\n",
    "         np.log(axi_abn_acc/(1-axi_abn_acc))]\n",
    "\n",
    "w_acl = [np.log(sag_acl_acc/(1-sag_acl_acc)),\n",
    "         np.log(cor_acl_acc/(1-cor_acl_acc)),\n",
    "         np.log(axi_acl_acc/(1-axi_acl_acc))]\n",
    "\n",
    "w_men = [np.log(sag_men_acc/(1-sag_men_acc)),\n",
    "         np.log(cor_men_acc/(1-cor_men_acc)),\n",
    "         np.log(axi_men_acc/(1-axi_men_acc))]"
   ]
  },
  {
   "cell_type": "code",
   "execution_count": 8,
   "metadata": {
    "ExecuteTime": {
     "end_time": "2021-09-14T12:37:21.318376Z",
     "start_time": "2021-09-14T12:37:21.315946Z"
    }
   },
   "outputs": [],
   "source": [
    "w_abn = w_abn / np.sum(w_abn)\n",
    "w_acl = w_acl / np.sum(w_acl)\n",
    "w_men = w_men / np.sum(w_men)"
   ]
  },
  {
   "cell_type": "code",
   "execution_count": 9,
   "metadata": {
    "ExecuteTime": {
     "end_time": "2021-09-14T12:37:23.804544Z",
     "start_time": "2021-09-14T12:37:23.800697Z"
    }
   },
   "outputs": [],
   "source": [
    "abn_pred = []\n",
    "acl_pred = []\n",
    "men_pred = []\n",
    "\n",
    "for i in range(120):\n",
    "    abn_pred.append(sagpred2[i,0]*w_abn[0]+corpred2[i,0]*w_abn[1]+axipred2[i,0]*w_abn[2])\n",
    "    acl_pred.append(sagpred2[i,1]*w_acl[0]+corpred2[i,1]*w_acl[1]+axipred2[i,1]*w_acl[2])\n",
    "    men_pred.append(sagpred2[i,2]*w_men[0]+corpred2[i,2]*w_men[1]+axipred2[i,2]*w_men[2])"
   ]
  },
  {
   "cell_type": "code",
   "execution_count": 10,
   "metadata": {
    "ExecuteTime": {
     "end_time": "2021-09-14T12:37:26.365506Z",
     "start_time": "2021-09-14T12:37:26.362686Z"
    }
   },
   "outputs": [],
   "source": [
    "abn_pred = np.array(abn_pred).reshape(120,1)\n",
    "acl_pred = np.array(acl_pred).reshape(120,1)\n",
    "men_pred = np.array(men_pred).reshape(120,1)\n",
    "pred = np.append(np.append(abn_pred,acl_pred,axis=1),men_pred,axis=1)"
   ]
  },
  {
   "cell_type": "code",
   "execution_count": 13,
   "metadata": {
    "ExecuteTime": {
     "end_time": "2021-09-14T12:38:50.612066Z",
     "start_time": "2021-09-14T12:38:50.252337Z"
    }
   },
   "outputs": [],
   "source": [
    "#util_wk2\n",
    "\n",
    "from sklearn.utils import shuffle\n",
    "from sklearn.metrics import classification_report, confusion_matrix, roc_curve, auc, f1_score\n",
    "from sklearn.metrics import average_precision_score, precision_recall_curve, roc_auc_score, accuracy_score\n",
    "from sklearn.utils.class_weight import compute_class_weight\n",
    "from sklearn.model_selection import train_test_split\n",
    "\n",
    "def TP(y, pred, th=0.5):\n",
    "    pred_t = (pred > th)\n",
    "    return np.sum((pred_t == True) & (y == 1))\n",
    "\n",
    "\n",
    "def TN(y, pred, th=0.5):\n",
    "    pred_t = (pred > th)\n",
    "    return np.sum((pred_t == False) & (y == 0))\n",
    "\n",
    "\n",
    "def FN(y, pred, th=0.5):\n",
    "    pred_t = (pred > th)\n",
    "    return np.sum((pred_t == False) & (y == 1))\n",
    "\n",
    "\n",
    "def FP(y, pred, th=0.5):\n",
    "    pred_t = (pred > th)\n",
    "    return np.sum((pred_t == True) & (y == 0))\n",
    "\n",
    "def get_accuracy(y, pred, th=0.5):\n",
    "    tp = TP(y,pred,th)\n",
    "    fp = FP(y,pred,th)\n",
    "    tn = TN(y,pred,th)\n",
    "    fn = FN(y,pred,th)\n",
    "    \n",
    "    return (tp+tn)/(tp+fp+tn+fn)\n",
    "\n",
    "def get_prevalence(y):\n",
    "    return np.sum(y)/y.shape[0]\n",
    "\n",
    "def sensitivity(y, pred, th=0.5):\n",
    "    tp = TP(y,pred,th)\n",
    "    fn = FN(y,pred,th)\n",
    "    \n",
    "    return tp/(tp+fn)\n",
    "\n",
    "def specificity(y, pred, th=0.5):\n",
    "    tn = TN(y,pred,th)\n",
    "    fp = FP(y,pred,th)\n",
    "    \n",
    "    return tn/(tn+fp)\n",
    "\n",
    "def get_ppv(y, pred, th=0.5):\n",
    "    tp = TP(y,pred,th)\n",
    "    fp = FP(y,pred,th)\n",
    "    \n",
    "    return tp/(tp+fp)\n",
    "\n",
    "def get_npv(y, pred, th=0.5):\n",
    "    tn = TN(y,pred,th)\n",
    "    fn = FN(y,pred,th)\n",
    "    \n",
    "    return tn/(tn+fn)\n",
    "\n",
    "\n",
    "def get_performance_metrics(y, pred, class_labels, tp=TP,\n",
    "                            tn=TN, fp=FP,\n",
    "                            fn=FN,\n",
    "                            acc=get_accuracy, prevalence=get_prevalence, \n",
    "                            spec=specificity,sens=sensitivity, ppv=get_ppv, \n",
    "                            npv=get_npv, auc=roc_auc_score, f1=f1_score,\n",
    "                            thresholds=[]):\n",
    "    if len(thresholds) != len(class_labels):\n",
    "        thresholds = [.5] * len(class_labels)\n",
    "\n",
    "    columns = [\"Injury\", \"TP\", \"TN\", \"FP\", \"FN\", \"Accuracy\", \"Prevalence\",\n",
    "               \"Sensitivity\",\n",
    "               \"Specificity\", \"PPV\", \"NPV\", \"AUC\", \"F1\", \"Threshold\"]\n",
    "    df = pd.DataFrame(columns=columns)\n",
    "    for i in range(len(class_labels)):\n",
    "        df.loc[i] = [class_labels[i],\n",
    "                     round(tp(y[:, i], pred[:, i]),3),\n",
    "                     round(tn(y[:, i], pred[:, i]),3),\n",
    "                     round(fp(y[:, i], pred[:, i]),3),\n",
    "                     round(fn(y[:, i], pred[:, i]),3),\n",
    "                     round(acc(y[:, i], pred[:, i], thresholds[i]),3),\n",
    "                     round(prevalence(y[:, i]),3),\n",
    "                     round(sens(y[:, i], pred[:, i], thresholds[i]),3),\n",
    "                     round(spec(y[:, i], pred[:, i], thresholds[i]),3),\n",
    "                     round(ppv(y[:, i], pred[:, i], thresholds[i]),3),\n",
    "                     round(npv(y[:, i], pred[:, i], thresholds[i]),3),\n",
    "                     round(auc(y[:, i], pred[:, i]),3),\n",
    "                     round(f1(y[:, i], pred[:, i] > thresholds[i]),3),\n",
    "                     round(thresholds[i], 3)]\n",
    "\n",
    "    df = df.set_index(\"Injury\")\n",
    "    return df\n",
    "\n",
    "def bootstrap_metric(y, pred, classes, metric='auc',bootstraps = 100, fold_size = 1000):\n",
    "    statistics = np.zeros((len(classes), bootstraps))\n",
    "    if metric=='AUC':\n",
    "        metric_func = roc_auc_score\n",
    "    if metric=='Sensitivity':\n",
    "        metric_func = sensitivity\n",
    "    if metric=='Specificity':\n",
    "        metric_func = specificity\n",
    "    if metric=='Accuracy':\n",
    "        metric_func = get_accuracy\n",
    "    for c in range(len(classes)):\n",
    "        df = pd.DataFrame(columns=['y', 'pred'])\n",
    "        df.loc[:, 'y'] = y[:, c]\n",
    "        df.loc[:, 'pred'] = pred[:, c]\n",
    "        # get positive examples for stratified sampling\n",
    "        df_pos = df[df.y == 1]\n",
    "        df_neg = df[df.y == 0]\n",
    "        prevalence = len(df_pos) / len(df)\n",
    "        for i in range(bootstraps):\n",
    "            # stratified sampling of positive and negative examples\n",
    "            pos_sample = df_pos.sample(n = int(fold_size * prevalence), replace=True)\n",
    "            neg_sample = df_neg.sample(n = int(fold_size * (1-prevalence)), replace=True)\n",
    "\n",
    "            y_sample = np.concatenate([pos_sample.y.values, neg_sample.y.values])\n",
    "            pred_sample = np.concatenate([pos_sample.pred.values, neg_sample.pred.values])\n",
    "            score = metric_func(y_sample, pred_sample)\n",
    "            statistics[c][i] = score\n",
    "    return statistics\n",
    "\n",
    "def get_confidence_intervals(y,pred,class_labels):\n",
    "    \n",
    "    metric_dfs = {}\n",
    "    for metric in ['AUC','Sensitivity','Specificity','Accuracy']:\n",
    "        statistics = bootstrap_metric(y,pred,class_labels,metric)\n",
    "        df = pd.DataFrame(columns=[\"Mean \"+metric+\" (CI 5%-95%)\"])\n",
    "        for i in range(len(class_labels)):\n",
    "            mean = statistics.mean(axis=1)[i]\n",
    "            max_ = np.quantile(statistics, .95, axis=1)[i]\n",
    "            min_ = np.quantile(statistics, .05, axis=1)[i]\n",
    "            df.loc[class_labels[i]] = [\"%.2f (%.2f-%.2f)\" % (mean, min_, max_)]\n",
    "        metric_dfs[metric] = df\n",
    "    return metric_dfs\n",
    "\n"
   ]
  },
  {
   "cell_type": "code",
   "execution_count": 21,
   "metadata": {
    "ExecuteTime": {
     "end_time": "2021-09-14T12:39:45.654448Z",
     "start_time": "2021-09-14T12:39:45.631499Z"
    }
   },
   "outputs": [],
   "source": [
    "class_labels = ['ABN','ACL','MEN']\n",
    "perf_metrics_df = get_performance_metrics(y, pred, class_labels, tp=TP,tn=TN, \n",
    "                                          fp=FP, fn=FN, acc=get_accuracy, \n",
    "                                          prevalence=get_prevalence, \n",
    "                                          spec=specificity,sens=sensitivity, \n",
    "                                          ppv=get_ppv, npv=get_npv, \n",
    "                                          auc=roc_auc_score, f1=f1_score,\n",
    "                                          thresholds=[])"
   ]
  },
  {
   "cell_type": "code",
   "execution_count": 22,
   "metadata": {
    "ExecuteTime": {
     "end_time": "2021-09-14T12:39:48.103776Z",
     "start_time": "2021-09-14T12:39:47.195228Z"
    }
   },
   "outputs": [
    {
     "data": {
      "text/plain": [
       "{'AUC':               Mean AUC (CI 5%-95%)\n",
       " abnormality       0.88 (0.87-0.90)\n",
       " acl tear          0.81 (0.80-0.83)\n",
       " meniscus tear     0.73 (0.71-0.76),\n",
       " 'Sensitivity':               Mean Sensitivity (CI 5%-95%)\n",
       " abnormality               0.97 (0.96-0.98)\n",
       " acl tear                  0.91 (0.89-0.93)\n",
       " meniscus tear             0.88 (0.85-0.91),\n",
       " 'Specificity':               Mean Specificity (CI 5%-95%)\n",
       " abnormality               0.28 (0.23-0.34)\n",
       " acl tear                  0.59 (0.56-0.63)\n",
       " meniscus tear             0.40 (0.36-0.43),\n",
       " 'Accuracy':               Mean Accuracy (CI 5%-95%)\n",
       " abnormality            0.83 (0.81-0.84)\n",
       " acl tear               0.73 (0.71-0.76)\n",
       " meniscus tear          0.61 (0.59-0.63)}"
      ]
     },
     "execution_count": 22,
     "metadata": {},
     "output_type": "execute_result"
    }
   ],
   "source": [
    "get_confidence_intervals(y,pred,['abnormality','acl tear','meniscus tear'])"
   ]
  },
  {
   "cell_type": "code",
   "execution_count": 23,
   "metadata": {
    "ExecuteTime": {
     "end_time": "2021-09-14T12:39:55.982240Z",
     "start_time": "2021-09-14T12:39:55.970524Z"
    }
   },
   "outputs": [
    {
     "data": {
      "text/html": [
       "<div>\n",
       "<style scoped>\n",
       "    .dataframe tbody tr th:only-of-type {\n",
       "        vertical-align: middle;\n",
       "    }\n",
       "\n",
       "    .dataframe tbody tr th {\n",
       "        vertical-align: top;\n",
       "    }\n",
       "\n",
       "    .dataframe thead th {\n",
       "        text-align: right;\n",
       "    }\n",
       "</style>\n",
       "<table border=\"1\" class=\"dataframe\">\n",
       "  <thead>\n",
       "    <tr style=\"text-align: right;\">\n",
       "      <th></th>\n",
       "      <th>TP</th>\n",
       "      <th>TN</th>\n",
       "      <th>FP</th>\n",
       "      <th>FN</th>\n",
       "      <th>Accuracy</th>\n",
       "      <th>Prevalence</th>\n",
       "      <th>Sensitivity</th>\n",
       "      <th>Specificity</th>\n",
       "      <th>PPV</th>\n",
       "      <th>NPV</th>\n",
       "      <th>AUC</th>\n",
       "      <th>F1</th>\n",
       "      <th>Threshold</th>\n",
       "    </tr>\n",
       "    <tr>\n",
       "      <th>Injury</th>\n",
       "      <th></th>\n",
       "      <th></th>\n",
       "      <th></th>\n",
       "      <th></th>\n",
       "      <th></th>\n",
       "      <th></th>\n",
       "      <th></th>\n",
       "      <th></th>\n",
       "      <th></th>\n",
       "      <th></th>\n",
       "      <th></th>\n",
       "      <th></th>\n",
       "      <th></th>\n",
       "    </tr>\n",
       "  </thead>\n",
       "  <tbody>\n",
       "    <tr>\n",
       "      <th>ABN</th>\n",
       "      <td>92</td>\n",
       "      <td>7</td>\n",
       "      <td>18</td>\n",
       "      <td>3</td>\n",
       "      <td>0.825</td>\n",
       "      <td>0.792</td>\n",
       "      <td>0.968</td>\n",
       "      <td>0.280</td>\n",
       "      <td>0.836</td>\n",
       "      <td>0.700</td>\n",
       "      <td>0.883</td>\n",
       "      <td>0.898</td>\n",
       "      <td>0.5</td>\n",
       "    </tr>\n",
       "    <tr>\n",
       "      <th>ACL</th>\n",
       "      <td>49</td>\n",
       "      <td>39</td>\n",
       "      <td>27</td>\n",
       "      <td>5</td>\n",
       "      <td>0.733</td>\n",
       "      <td>0.450</td>\n",
       "      <td>0.907</td>\n",
       "      <td>0.591</td>\n",
       "      <td>0.645</td>\n",
       "      <td>0.886</td>\n",
       "      <td>0.815</td>\n",
       "      <td>0.754</td>\n",
       "      <td>0.5</td>\n",
       "    </tr>\n",
       "    <tr>\n",
       "      <th>MEN</th>\n",
       "      <td>46</td>\n",
       "      <td>27</td>\n",
       "      <td>41</td>\n",
       "      <td>6</td>\n",
       "      <td>0.608</td>\n",
       "      <td>0.433</td>\n",
       "      <td>0.885</td>\n",
       "      <td>0.397</td>\n",
       "      <td>0.529</td>\n",
       "      <td>0.818</td>\n",
       "      <td>0.729</td>\n",
       "      <td>0.662</td>\n",
       "      <td>0.5</td>\n",
       "    </tr>\n",
       "  </tbody>\n",
       "</table>\n",
       "</div>"
      ],
      "text/plain": [
       "        TP  TN  FP FN  Accuracy  Prevalence  Sensitivity  Specificity    PPV  \\\n",
       "Injury                                                                         \n",
       "ABN     92   7  18  3     0.825       0.792        0.968        0.280  0.836   \n",
       "ACL     49  39  27  5     0.733       0.450        0.907        0.591  0.645   \n",
       "MEN     46  27  41  6     0.608       0.433        0.885        0.397  0.529   \n",
       "\n",
       "          NPV    AUC     F1  Threshold  \n",
       "Injury                                  \n",
       "ABN     0.700  0.883  0.898        0.5  \n",
       "ACL     0.886  0.815  0.754        0.5  \n",
       "MEN     0.818  0.729  0.662        0.5  "
      ]
     },
     "execution_count": 23,
     "metadata": {},
     "output_type": "execute_result"
    }
   ],
   "source": [
    "perf_metrics_df"
   ]
  },
  {
   "cell_type": "code",
   "execution_count": null,
   "metadata": {},
   "outputs": [],
   "source": []
  }
 ],
 "metadata": {
  "kernelspec": {
   "display_name": "Python 3 (ipykernel)",
   "language": "python",
   "name": "python3"
  },
  "language_info": {
   "codemirror_mode": {
    "name": "ipython",
    "version": 3
   },
   "file_extension": ".py",
   "mimetype": "text/x-python",
   "name": "python",
   "nbconvert_exporter": "python",
   "pygments_lexer": "ipython3",
   "version": "3.9.7"
  }
 },
 "nbformat": 4,
 "nbformat_minor": 4
}
