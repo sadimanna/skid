{
 "cells": [
  {
   "cell_type": "code",
   "execution_count": 1,
   "metadata": {
    "ExecuteTime": {
     "end_time": "2021-09-28T14:52:13.091845Z",
     "start_time": "2021-09-28T14:52:12.936500Z"
    },
    "id": "wey2-jQ8I52P",
    "scrolled": false
   },
   "outputs": [
    {
     "name": "stdout",
     "output_type": "stream",
     "text": [
      "Mon Aug 29 12:04:14 2022       \n",
      "+-----------------------------------------------------------------------------+\n",
      "| NVIDIA-SMI 512.15       Driver Version: 512.15       CUDA Version: 11.6     |\n",
      "|-------------------------------+----------------------+----------------------+\n",
      "| GPU  Name            TCC/WDDM | Bus-Id        Disp.A | Volatile Uncorr. ECC |\n",
      "| Fan  Temp  Perf  Pwr:Usage/Cap|         Memory-Usage | GPU-Util  Compute M. |\n",
      "|                               |                      |               MIG M. |\n",
      "|===============================+======================+======================|\n",
      "|   0  NVIDIA RTX A5000   WDDM  | 00000000:01:00.0  On |                  Off |\n",
      "| 30%   37C    P8    13W / 230W |  14975MiB / 24564MiB |      0%      Default |\n",
      "|                               |                      |                  N/A |\n",
      "+-------------------------------+----------------------+----------------------+\n",
      "                                                                               \n",
      "+-----------------------------------------------------------------------------+\n",
      "| Processes:                                                                  |\n",
      "|  GPU   GI   CI        PID   Type   Process name                  GPU Memory |\n",
      "|        ID   ID                                                   Usage      |\n",
      "|=============================================================================|\n",
      "|    0   N/A  N/A      1048    C+G   ...8bbwe\\WindowsTerminal.exe    N/A      |\n",
      "|    0   N/A  N/A      1296    C+G                                   N/A      |\n",
      "|    0   N/A  N/A      2632    C+G   ...y\\ShellExperienceHost.exe    N/A      |\n",
      "|    0   N/A  N/A      7276    C+G   C:\\Windows\\explorer.exe         N/A      |\n",
      "|    0   N/A  N/A      8888    C+G   ...5n1h2txyewy\\SearchApp.exe    N/A      |\n",
      "|    0   N/A  N/A      9168    C+G                                   N/A      |\n",
      "|    0   N/A  N/A      9716    C+G   ...5n1h2txyewy\\SearchApp.exe    N/A      |\n",
      "|    0   N/A  N/A      9736    C+G   ...me\\Application\\chrome.exe    N/A      |\n",
      "|    0   N/A  N/A      9996    C+G   ...2txyewy\\TextInputHost.exe    N/A      |\n",
      "|    0   N/A  N/A     10068    C+G   ...bbwe\\Microsoft.Photos.exe    N/A      |\n",
      "|    0   N/A  N/A     11060    C+G   ...ernet\\7.0.4\\Betternet.exe    N/A      |\n",
      "|    0   N/A  N/A     14676    C+G   ...ge\\Application\\msedge.exe    N/A      |\n",
      "|    0   N/A  N/A     14748    C+G   ...(x86)\\AnyDesk\\AnyDesk.exe    N/A      |\n",
      "|    0   N/A  N/A     18100      C   ..._UTS\\anaconda3\\python.exe    N/A      |\n",
      "+-----------------------------------------------------------------------------+\n"
     ]
    }
   ],
   "source": [
    "!nvidia-smi"
   ]
  },
  {
   "cell_type": "code",
   "execution_count": null,
   "metadata": {
    "scrolled": true
   },
   "outputs": [],
   "source": []
  },
  {
   "cell_type": "code",
   "execution_count": 2,
   "metadata": {
    "ExecuteTime": {
     "end_time": "2021-10-02T14:30:51.623137Z",
     "start_time": "2021-10-02T14:30:42.573779Z"
    },
    "id": "TnlIVIrsJER0",
    "scrolled": true
   },
   "outputs": [],
   "source": [
    "import numpy as np\n",
    "import pandas as pd\n",
    "import shutil, time, os, requests, random, copy\n",
    "from itertools import permutations \n",
    "import seaborn as sns\n",
    "import imageio\n",
    "from skimage.transform import rotate, AffineTransform, warp, resize\n",
    "#from google.colab.patches import cv2_imshow\n",
    "from IPython.display import clear_output, Image, SVG\n",
    "import h5py\n",
    "\n",
    "from typing import Optional, Any\n",
    "from tqdm import tqdm\n",
    "#%tensorflow_version 2.x\n",
    "#%load_ext tensorboard\n",
    "import torch\n",
    "import torch.nn as nn\n",
    "import torch.optim as optim\n",
    "from torch import Tensor\n",
    "from torchvision import models, transforms\n",
    "from torch.utils.data import Dataset, DataLoader\n",
    "\n",
    "\n",
    "\n",
    "from sklearn.utils import shuffle\n",
    "from sklearn.metrics import classification_report, confusion_matrix, roc_curve, auc, f1_score\n",
    "from sklearn.metrics import average_precision_score, precision_recall_curve, roc_auc_score, accuracy_score\n",
    "from sklearn.utils.class_weight import compute_class_weight\n",
    "from sklearn.model_selection import train_test_split\n",
    "\n",
    "import matplotlib.pyplot as plt\n",
    "#import matplotlib.animation as animation\n",
    "%matplotlib inline"
   ]
  },
  {
   "cell_type": "code",
   "execution_count": 3,
   "metadata": {
    "ExecuteTime": {
     "end_time": "2021-10-02T14:30:51.641903Z",
     "start_time": "2021-10-02T14:30:51.630325Z"
    },
    "id": "KIL2tIX3L4DT",
    "scrolled": true
   },
   "outputs": [],
   "source": [
    "def seed_everything(seed, workers = True):\n",
    "    print(f\"Global seed set to {seed}\")\n",
    "    os.environ[\"PL_GLOBAL_SEED\"] = str(seed)\n",
    "    #os.environ[\"CUDA_LAUNCH_BLOCKING\"] = str(1)\n",
    "    random.seed(seed)\n",
    "    np.random.seed(seed)\n",
    "    torch.manual_seed(seed)\n",
    "    torch.cuda.manual_seed_all(seed)\n",
    "    os.environ[\"PL_SEED_WORKERS\"] = f\"{int(workers)}\"\n",
    "\n",
    "def save_model(model, current_epoch, save_path, name):\n",
    "    out = os.path.join(save_path,name.format(current_epoch))\n",
    "\n",
    "    torch.save({'model_state_dict': model.state_dict()}, out)\n",
    "\n",
    "    return out\n",
    "\n",
    "def load_model(model, model_path):\n",
    "    state = torch.load(model_path)\n",
    "    model.load_state_dict(state['model_state_dict'], strict = False)\n",
    "\n",
    "def plot_features(feats, labels, num_classes, epoch):\n",
    "    tsne = TSNE(n_components = 2, perplexity = 50)\n",
    "    x_feats = tsne.fit_transform(feats)\n",
    "    fig = plt.figure(figsize=(20,20))\n",
    "    ax = fig.add_subplot(1,1,1)\n",
    "    for i in range(num_classes):\n",
    "        #plt.scatter(x_feats[val_df['class'].iloc[:num_samples].values==i,1],x_feats[val_df['class'].iloc[:num_samples].values==i,0])\n",
    "        ax.scatter(x_feats[labels==i,1],x_feats[labels==i,0])\n",
    "    ax.legend([str(i) for i in range(num_classes)])\n",
    "    ax.set_title('TSNE-fied fearures of Pre-train model at Epoch : '+str(epoch))\n",
    "    #plt.show()\n",
    "    return fig\n",
    "\n",
    "def plot_metrics(tr, val, title):\n",
    "    fig= pltfigure(figsize=(50,50))\n",
    "    ax = fig.add_subplot(1,1)\n",
    "    t = ax.plot(tr, 'r-', label = 'train')\n",
    "    v = ax.plot(val, 'b-', label = 'valid')\n",
    "    ax.legend(handles = [t,v]) #, labels = ['train','valid'])\n",
    "    ax.set_title(title)\n",
    "    plt.show()\n",
    "    return fig\n",
    "\n",
    "class AverageMeter(object):\n",
    "    \"\"\"Computes and stores the average and current value\"\"\"\n",
    "    def __init__(self, name, fmt=':f'):\n",
    "        self.name = name\n",
    "        self.fmt = fmt\n",
    "        self.reset()\n",
    "\n",
    "    def reset(self):\n",
    "        self.val = 0\n",
    "        self.avg = 0\n",
    "        self.sum = 0\n",
    "        self.count = 0\n",
    "\n",
    "    def update(self, val, n=1):\n",
    "        self.val = val\n",
    "        self.sum += val * n\n",
    "        self.count += n\n",
    "        self.avg = self.sum / self.count\n",
    "\n",
    "    def __str__(self):\n",
    "        fmtstr = '{name} {val' + self.fmt + '} ({avg' + self.fmt + '})'\n",
    "        return fmtstr.format(**self.__dict__)\n",
    "\n",
    "\n",
    "class ProgressMeter(object):\n",
    "    def __init__(self, num_batches, meters, prefix=\"\"):\n",
    "        self.batch_fmtstr = self._get_batch_fmtstr(num_batches)\n",
    "        self.meters = meters\n",
    "        self.prefix = prefix\n",
    "\n",
    "    def display(self, batch):\n",
    "        entries = [self.prefix + self.batch_fmtstr.format(batch)]\n",
    "        entries += [str(meter) for meter in self.meters]\n",
    "        print('\\t'.join(entries))\n",
    "\n",
    "    def _get_batch_fmtstr(self, num_batches):\n",
    "        num_digits = len(str(num_batches // 1))\n",
    "        fmt = '{:' + str(num_digits) + 'd}'\n",
    "        return '[' + fmt + '/' + fmt.format(num_batches) + ']'\n",
    "\n",
    "\n",
    "def adjust_learning_rate(optimizer, epoch, args):\n",
    "    \"\"\"Decay the learning rate based on schedule\"\"\"\n",
    "    lr = args.lr\n",
    "    if args.cos:  # cosine lr schedule\n",
    "        lr *= 0.5 * (1. + math.cos(math.pi * epoch / args.epochs))\n",
    "    else:  # stepwise lr schedule\n",
    "        for milestone in args.schedule:\n",
    "            lr *= 0.1 if epoch >= milestone else 1.\n",
    "    for param_group in optimizer.param_groups:\n",
    "        param_group['lr'] = lr\n",
    "\n",
    "\n",
    "def accuracy(output, target, topk=(1,)):\n",
    "    \"\"\"Computes the accuracy over the k top predictions for the specified values of k\"\"\"\n",
    "    with torch.no_grad():\n",
    "        maxk = max(topk)\n",
    "        batch_size = target.size(0)\n",
    "\n",
    "        _, pred = output.topk(maxk, 1, True, True)\n",
    "        pred = pred.t()\n",
    "        correct = pred.eq(target.view(1, -1).expand_as(pred))\n",
    "\n",
    "        res = []\n",
    "        for k in topk:\n",
    "            correct_k = correct[:k].view(-1).float().sum(0, keepdim=True)\n",
    "            res.append(correct_k.mul_(100.0 / batch_size))\n",
    "        return res"
   ]
  },
  {
   "cell_type": "code",
   "execution_count": 4,
   "metadata": {
    "ExecuteTime": {
     "end_time": "2021-10-02T14:30:51.869221Z",
     "start_time": "2021-10-02T14:30:51.643149Z"
    },
    "scrolled": true
   },
   "outputs": [
    {
     "name": "stdout",
     "output_type": "stream",
     "text": [
      "Global seed set to 0\n"
     ]
    }
   ],
   "source": [
    "seed_everything(0)"
   ]
  },
  {
   "cell_type": "code",
   "execution_count": 5,
   "metadata": {
    "ExecuteTime": {
     "end_time": "2021-09-28T14:52:34.729701Z",
     "start_time": "2021-09-28T14:52:34.727594Z"
    },
    "id": "Pj7G2zkBL9Oi",
    "scrolled": true
   },
   "outputs": [],
   "source": [
    "#!wget http://download.cs.stanford.edu/deep/MRNet-v1.0.zip"
   ]
  },
  {
   "cell_type": "code",
   "execution_count": 6,
   "metadata": {
    "ExecuteTime": {
     "end_time": "2021-09-28T14:52:35.148484Z",
     "start_time": "2021-09-28T14:52:35.146499Z"
    },
    "id": "5cYBYdFxMBFo",
    "scrolled": true
   },
   "outputs": [],
   "source": [
    "#!zip -FFv MR.zip --out MRNet.zip"
   ]
  },
  {
   "cell_type": "code",
   "execution_count": 7,
   "metadata": {
    "ExecuteTime": {
     "end_time": "2021-09-28T14:52:36.078978Z",
     "start_time": "2021-09-28T14:52:36.076959Z"
    },
    "id": "38R3U6VKMF9f",
    "scrolled": true
   },
   "outputs": [],
   "source": [
    "#!unzip MRNet.zip -d ~/MRNet"
   ]
  },
  {
   "cell_type": "markdown",
   "metadata": {
    "id": "OSgqPrYakUGd"
   },
   "source": [
    "## Files"
   ]
  },
  {
   "cell_type": "code",
   "execution_count": 8,
   "metadata": {
    "ExecuteTime": {
     "end_time": "2021-10-02T14:30:52.018144Z",
     "start_time": "2021-10-02T14:30:51.870737Z"
    },
    "colab": {
     "base_uri": "https://localhost:8080/"
    },
    "id": "vGFn5npjkUGe",
    "outputId": "2887b8dc-ce24-4ace-90e8-2917ba6512e3",
    "scrolled": true
   },
   "outputs": [
    {
     "name": "stdout",
     "output_type": "stream",
     "text": [
      "['train', 'train-abnormal.csv', 'train-acl.csv', 'train-meniscus.csv', 'valid', 'valid-abnormal.csv', 'valid-acl.csv', 'valid-meniscus.csv']\n",
      "\n",
      "Label Files...\n",
      "['train-abnormal.csv', 'train-acl.csv', 'train-meniscus.csv', 'valid-abnormal.csv', 'valid-acl.csv', 'valid-meniscus.csv']\n"
     ]
    }
   ],
   "source": [
    "mrnet_path = 'C:/Users/ISI_UTS/Siladittya/Datasets/MRNet-v1.0/MRNet-v1.0'\n",
    "contents = os.listdir(mrnet_path)\n",
    "print(contents)\n",
    "print('\\nLabel Files...')\n",
    "label_files = [x for x in contents if x.endswith('.csv')]\n",
    "print(label_files)"
   ]
  },
  {
   "cell_type": "code",
   "execution_count": 9,
   "metadata": {
    "ExecuteTime": {
     "end_time": "2021-09-28T14:52:37.184777Z",
     "start_time": "2021-09-28T14:52:37.183070Z"
    },
    "colab": {
     "base_uri": "https://localhost:8080/"
    },
    "id": "IX4b70WSkUGj",
    "outputId": "16d4fbd3-3960-4733-b285-36283941f195",
    "scrolled": true
   },
   "outputs": [],
   "source": [
    "# #Needs to be done once\n",
    "# classes = ['axial','sagittal','coronal']\n",
    "# fileToBeDeleted = '.DS_Store'\n",
    "# for c in classes:\n",
    "#     os.remove(mrnet_path+'/train/'+c+'/'+fileToBeDeleted)\n",
    "# print(fileToBeDeleted in os.listdir(mrnet_path+'/train/axial'))\n",
    "# print(fileToBeDeleted in os.listdir(mrnet_path+'/train/sagittal'))\n",
    "# print(fileToBeDeleted in os.listdir(mrnet_path+'/train/coronal'))"
   ]
  },
  {
   "cell_type": "markdown",
   "metadata": {
    "id": "mhLpiTOxpabA"
   },
   "source": [
    "### Real Labels"
   ]
  },
  {
   "cell_type": "code",
   "execution_count": 10,
   "metadata": {
    "ExecuteTime": {
     "end_time": "2021-10-02T14:30:54.814451Z",
     "start_time": "2021-10-02T14:30:54.698543Z"
    },
    "id": "anVc7J0EpVTe",
    "scrolled": true
   },
   "outputs": [],
   "source": [
    "#For Colab /root/MRNet/MRNet-v1.0/\n",
    "trabn = pd.read_csv(mrnet_path+'/train-abnormal.csv',header=None)\n",
    "#trabn.head()\n",
    "tracl = pd.read_csv(mrnet_path+'/train-acl.csv',header=None)\n",
    "#tracl.head()\n",
    "trmen = pd.read_csv(mrnet_path+'/train-meniscus.csv',header=None)\n",
    "#trmen.head()"
   ]
  },
  {
   "cell_type": "code",
   "execution_count": 11,
   "metadata": {
    "ExecuteTime": {
     "end_time": "2021-10-02T14:30:56.878820Z",
     "start_time": "2021-10-02T14:30:56.875959Z"
    },
    "id": "w_h49rgokUGr",
    "scrolled": true
   },
   "outputs": [],
   "source": [
    "trabn.columns = ['patient_id','label']\n",
    "tracl.columns = ['patient_id','label']\n",
    "trmen.columns = ['patient_id','label']"
   ]
  },
  {
   "cell_type": "code",
   "execution_count": 12,
   "metadata": {
    "ExecuteTime": {
     "end_time": "2021-10-02T14:30:57.285865Z",
     "start_time": "2021-10-02T14:30:57.232686Z"
    },
    "colab": {
     "base_uri": "https://localhost:8080/",
     "height": 204
    },
    "id": "LFLSUNlfkUGt",
    "outputId": "cd63bc98-37de-4940-c516-6cc777ca9702",
    "scrolled": true
   },
   "outputs": [
    {
     "data": {
      "text/html": [
       "<div>\n",
       "<style scoped>\n",
       "    .dataframe tbody tr th:only-of-type {\n",
       "        vertical-align: middle;\n",
       "    }\n",
       "\n",
       "    .dataframe tbody tr th {\n",
       "        vertical-align: top;\n",
       "    }\n",
       "\n",
       "    .dataframe thead th {\n",
       "        text-align: right;\n",
       "    }\n",
       "</style>\n",
       "<table border=\"1\" class=\"dataframe\">\n",
       "  <thead>\n",
       "    <tr style=\"text-align: right;\">\n",
       "      <th></th>\n",
       "      <th>patient_id</th>\n",
       "      <th>abn</th>\n",
       "      <th>acl</th>\n",
       "      <th>men</th>\n",
       "    </tr>\n",
       "  </thead>\n",
       "  <tbody>\n",
       "    <tr>\n",
       "      <th>0</th>\n",
       "      <td>0</td>\n",
       "      <td>1</td>\n",
       "      <td>0</td>\n",
       "      <td>0</td>\n",
       "    </tr>\n",
       "    <tr>\n",
       "      <th>1</th>\n",
       "      <td>1</td>\n",
       "      <td>1</td>\n",
       "      <td>1</td>\n",
       "      <td>1</td>\n",
       "    </tr>\n",
       "    <tr>\n",
       "      <th>2</th>\n",
       "      <td>2</td>\n",
       "      <td>1</td>\n",
       "      <td>0</td>\n",
       "      <td>0</td>\n",
       "    </tr>\n",
       "    <tr>\n",
       "      <th>3</th>\n",
       "      <td>3</td>\n",
       "      <td>1</td>\n",
       "      <td>0</td>\n",
       "      <td>1</td>\n",
       "    </tr>\n",
       "    <tr>\n",
       "      <th>4</th>\n",
       "      <td>4</td>\n",
       "      <td>1</td>\n",
       "      <td>0</td>\n",
       "      <td>0</td>\n",
       "    </tr>\n",
       "  </tbody>\n",
       "</table>\n",
       "</div>"
      ],
      "text/plain": [
       "   patient_id  abn  acl  men\n",
       "0           0    1    0    0\n",
       "1           1    1    1    1\n",
       "2           2    1    0    0\n",
       "3           3    1    0    1\n",
       "4           4    1    0    0"
      ]
     },
     "execution_count": 12,
     "metadata": {},
     "output_type": "execute_result"
    }
   ],
   "source": [
    "tr_multilabel = trabn.merge(tracl,on='patient_id').merge(trmen,on='patient_id')\n",
    "tr_multilabel.columns = ['patient_id','abn','acl','men']\n",
    "tr_multilabel.head()"
   ]
  },
  {
   "cell_type": "code",
   "execution_count": 13,
   "metadata": {
    "ExecuteTime": {
     "end_time": "2021-10-02T14:30:58.436384Z",
     "start_time": "2021-10-02T14:30:58.430366Z"
    },
    "id": "6uFT57nl1dil",
    "scrolled": true
   },
   "outputs": [],
   "source": [
    "tr_multilabel.to_csv('tr_multilabl.csv',header=True)"
   ]
  },
  {
   "cell_type": "code",
   "execution_count": 14,
   "metadata": {
    "ExecuteTime": {
     "end_time": "2021-10-02T14:30:58.953842Z",
     "start_time": "2021-10-02T14:30:58.889611Z"
    },
    "id": "qcBYWgQXpeOh",
    "scrolled": true
   },
   "outputs": [],
   "source": [
    "#For Colab /root/MRNet/MRNet-v1.0/\n",
    "valabn = pd.read_csv(mrnet_path+'/valid-abnormal.csv',header=None)\n",
    "valacl = pd.read_csv(mrnet_path+'/valid-acl.csv',header=None)\n",
    "valmen = pd.read_csv(mrnet_path+'/valid-meniscus.csv',header=None)"
   ]
  },
  {
   "cell_type": "code",
   "execution_count": 15,
   "metadata": {
    "ExecuteTime": {
     "end_time": "2021-10-02T14:30:59.116925Z",
     "start_time": "2021-10-02T14:30:59.113749Z"
    },
    "id": "HCFB7iPtxFkB",
    "scrolled": true
   },
   "outputs": [],
   "source": [
    "valabn.columns = ['patient_id','label']\n",
    "valacl.columns = ['patient_id','label']\n",
    "valmen.columns = ['patient_id','label']"
   ]
  },
  {
   "cell_type": "code",
   "execution_count": 16,
   "metadata": {
    "ExecuteTime": {
     "end_time": "2021-10-02T14:31:00.973141Z",
     "start_time": "2021-10-02T14:31:00.961404Z"
    },
    "colab": {
     "base_uri": "https://localhost:8080/",
     "height": 419
    },
    "id": "7VkI9BLokcZn",
    "outputId": "00b7e93f-b5f2-401d-fbb5-b587ae963c25",
    "scrolled": true
   },
   "outputs": [
    {
     "data": {
      "text/html": [
       "<div>\n",
       "<style scoped>\n",
       "    .dataframe tbody tr th:only-of-type {\n",
       "        vertical-align: middle;\n",
       "    }\n",
       "\n",
       "    .dataframe tbody tr th {\n",
       "        vertical-align: top;\n",
       "    }\n",
       "\n",
       "    .dataframe thead th {\n",
       "        text-align: right;\n",
       "    }\n",
       "</style>\n",
       "<table border=\"1\" class=\"dataframe\">\n",
       "  <thead>\n",
       "    <tr style=\"text-align: right;\">\n",
       "      <th></th>\n",
       "      <th>patient_id</th>\n",
       "      <th>abn</th>\n",
       "      <th>acl</th>\n",
       "      <th>men</th>\n",
       "    </tr>\n",
       "  </thead>\n",
       "  <tbody>\n",
       "    <tr>\n",
       "      <th>0</th>\n",
       "      <td>1130</td>\n",
       "      <td>0</td>\n",
       "      <td>0</td>\n",
       "      <td>0</td>\n",
       "    </tr>\n",
       "    <tr>\n",
       "      <th>1</th>\n",
       "      <td>1131</td>\n",
       "      <td>0</td>\n",
       "      <td>0</td>\n",
       "      <td>0</td>\n",
       "    </tr>\n",
       "    <tr>\n",
       "      <th>2</th>\n",
       "      <td>1132</td>\n",
       "      <td>0</td>\n",
       "      <td>0</td>\n",
       "      <td>0</td>\n",
       "    </tr>\n",
       "    <tr>\n",
       "      <th>3</th>\n",
       "      <td>1133</td>\n",
       "      <td>0</td>\n",
       "      <td>0</td>\n",
       "      <td>0</td>\n",
       "    </tr>\n",
       "    <tr>\n",
       "      <th>4</th>\n",
       "      <td>1134</td>\n",
       "      <td>0</td>\n",
       "      <td>0</td>\n",
       "      <td>0</td>\n",
       "    </tr>\n",
       "    <tr>\n",
       "      <th>...</th>\n",
       "      <td>...</td>\n",
       "      <td>...</td>\n",
       "      <td>...</td>\n",
       "      <td>...</td>\n",
       "    </tr>\n",
       "    <tr>\n",
       "      <th>115</th>\n",
       "      <td>1245</td>\n",
       "      <td>1</td>\n",
       "      <td>1</td>\n",
       "      <td>1</td>\n",
       "    </tr>\n",
       "    <tr>\n",
       "      <th>116</th>\n",
       "      <td>1246</td>\n",
       "      <td>1</td>\n",
       "      <td>1</td>\n",
       "      <td>1</td>\n",
       "    </tr>\n",
       "    <tr>\n",
       "      <th>117</th>\n",
       "      <td>1247</td>\n",
       "      <td>1</td>\n",
       "      <td>0</td>\n",
       "      <td>1</td>\n",
       "    </tr>\n",
       "    <tr>\n",
       "      <th>118</th>\n",
       "      <td>1248</td>\n",
       "      <td>1</td>\n",
       "      <td>1</td>\n",
       "      <td>1</td>\n",
       "    </tr>\n",
       "    <tr>\n",
       "      <th>119</th>\n",
       "      <td>1249</td>\n",
       "      <td>1</td>\n",
       "      <td>0</td>\n",
       "      <td>1</td>\n",
       "    </tr>\n",
       "  </tbody>\n",
       "</table>\n",
       "<p>120 rows × 4 columns</p>\n",
       "</div>"
      ],
      "text/plain": [
       "     patient_id  abn  acl  men\n",
       "0          1130    0    0    0\n",
       "1          1131    0    0    0\n",
       "2          1132    0    0    0\n",
       "3          1133    0    0    0\n",
       "4          1134    0    0    0\n",
       "..          ...  ...  ...  ...\n",
       "115        1245    1    1    1\n",
       "116        1246    1    1    1\n",
       "117        1247    1    0    1\n",
       "118        1248    1    1    1\n",
       "119        1249    1    0    1\n",
       "\n",
       "[120 rows x 4 columns]"
      ]
     },
     "execution_count": 16,
     "metadata": {},
     "output_type": "execute_result"
    }
   ],
   "source": [
    "val_multilabel = valabn.merge(valacl,on='patient_id').merge(valmen,on='patient_id')\n",
    "val_multilabel.columns = ['patient_id','abn','acl','men']\n",
    "val_multilabel.head(120)"
   ]
  },
  {
   "cell_type": "markdown",
   "metadata": {
    "id": "8Q4ocHEjkUGy"
   },
   "source": [
    "### <font color='blue'>Filename DataFrame</font>"
   ]
  },
  {
   "cell_type": "code",
   "execution_count": 17,
   "metadata": {
    "ExecuteTime": {
     "end_time": "2021-10-02T14:31:03.806176Z",
     "start_time": "2021-10-02T14:31:03.691956Z"
    },
    "colab": {
     "base_uri": "https://localhost:8080/",
     "height": 419
    },
    "id": "KJ2-QRfnkUGy",
    "outputId": "8687505c-f868-485a-ea44-eae0dd2429dc",
    "scrolled": true
   },
   "outputs": [
    {
     "data": {
      "text/html": [
       "<div>\n",
       "<style scoped>\n",
       "    .dataframe tbody tr th:only-of-type {\n",
       "        vertical-align: middle;\n",
       "    }\n",
       "\n",
       "    .dataframe tbody tr th {\n",
       "        vertical-align: top;\n",
       "    }\n",
       "\n",
       "    .dataframe thead th {\n",
       "        text-align: right;\n",
       "    }\n",
       "</style>\n",
       "<table border=\"1\" class=\"dataframe\">\n",
       "  <thead>\n",
       "    <tr style=\"text-align: right;\">\n",
       "      <th></th>\n",
       "      <th>patient_id</th>\n",
       "      <th>filename</th>\n",
       "    </tr>\n",
       "  </thead>\n",
       "  <tbody>\n",
       "    <tr>\n",
       "      <th>0</th>\n",
       "      <td>0</td>\n",
       "      <td>0000.npy</td>\n",
       "    </tr>\n",
       "    <tr>\n",
       "      <th>1</th>\n",
       "      <td>1</td>\n",
       "      <td>0001.npy</td>\n",
       "    </tr>\n",
       "    <tr>\n",
       "      <th>2</th>\n",
       "      <td>2</td>\n",
       "      <td>0002.npy</td>\n",
       "    </tr>\n",
       "    <tr>\n",
       "      <th>3</th>\n",
       "      <td>3</td>\n",
       "      <td>0003.npy</td>\n",
       "    </tr>\n",
       "    <tr>\n",
       "      <th>4</th>\n",
       "      <td>4</td>\n",
       "      <td>0004.npy</td>\n",
       "    </tr>\n",
       "    <tr>\n",
       "      <th>...</th>\n",
       "      <td>...</td>\n",
       "      <td>...</td>\n",
       "    </tr>\n",
       "    <tr>\n",
       "      <th>1125</th>\n",
       "      <td>1125</td>\n",
       "      <td>1125.npy</td>\n",
       "    </tr>\n",
       "    <tr>\n",
       "      <th>1126</th>\n",
       "      <td>1126</td>\n",
       "      <td>1126.npy</td>\n",
       "    </tr>\n",
       "    <tr>\n",
       "      <th>1127</th>\n",
       "      <td>1127</td>\n",
       "      <td>1127.npy</td>\n",
       "    </tr>\n",
       "    <tr>\n",
       "      <th>1128</th>\n",
       "      <td>1128</td>\n",
       "      <td>1128.npy</td>\n",
       "    </tr>\n",
       "    <tr>\n",
       "      <th>1129</th>\n",
       "      <td>1129</td>\n",
       "      <td>1129.npy</td>\n",
       "    </tr>\n",
       "  </tbody>\n",
       "</table>\n",
       "<p>1130 rows × 2 columns</p>\n",
       "</div>"
      ],
      "text/plain": [
       "      patient_id  filename\n",
       "0              0  0000.npy\n",
       "1              1  0001.npy\n",
       "2              2  0002.npy\n",
       "3              3  0003.npy\n",
       "4              4  0004.npy\n",
       "...          ...       ...\n",
       "1125        1125  1125.npy\n",
       "1126        1126  1126.npy\n",
       "1127        1127  1127.npy\n",
       "1128        1128  1128.npy\n",
       "1129        1129  1129.npy\n",
       "\n",
       "[1130 rows x 2 columns]"
      ]
     },
     "execution_count": 17,
     "metadata": {},
     "output_type": "execute_result"
    }
   ],
   "source": [
    "tr_filenames_df = pd.DataFrame(columns=['filename'])\n",
    "tr_filenames_df['filename'] = os.listdir(mrnet_path+'/train/axial')\n",
    "tr_filenames_df['patient_id'] = tr_filenames_df.apply(lambda x : int(x['filename'][:-4]),axis=1)\n",
    "tr_filenames_df = tr_filenames_df[list(('patient_id','filename'))]\n",
    "tr_filenames_df.sort_values(by=['patient_id'],ascending=True,inplace=True,ignore_index=True)\n",
    "\n",
    "tr_filenames_df"
   ]
  },
  {
   "cell_type": "code",
   "execution_count": 18,
   "metadata": {
    "ExecuteTime": {
     "end_time": "2021-10-02T14:31:03.930965Z",
     "start_time": "2021-10-02T14:31:03.884070Z"
    },
    "colab": {
     "base_uri": "https://localhost:8080/",
     "height": 419
    },
    "id": "xYkMwRwNqfe0",
    "outputId": "af28e814-47c6-42d9-d850-e325eff3d7b0",
    "scrolled": true
   },
   "outputs": [
    {
     "data": {
      "text/html": [
       "<div>\n",
       "<style scoped>\n",
       "    .dataframe tbody tr th:only-of-type {\n",
       "        vertical-align: middle;\n",
       "    }\n",
       "\n",
       "    .dataframe tbody tr th {\n",
       "        vertical-align: top;\n",
       "    }\n",
       "\n",
       "    .dataframe thead th {\n",
       "        text-align: right;\n",
       "    }\n",
       "</style>\n",
       "<table border=\"1\" class=\"dataframe\">\n",
       "  <thead>\n",
       "    <tr style=\"text-align: right;\">\n",
       "      <th></th>\n",
       "      <th>patient_id</th>\n",
       "      <th>filename</th>\n",
       "    </tr>\n",
       "  </thead>\n",
       "  <tbody>\n",
       "    <tr>\n",
       "      <th>0</th>\n",
       "      <td>1130</td>\n",
       "      <td>1130.npy</td>\n",
       "    </tr>\n",
       "    <tr>\n",
       "      <th>1</th>\n",
       "      <td>1131</td>\n",
       "      <td>1131.npy</td>\n",
       "    </tr>\n",
       "    <tr>\n",
       "      <th>2</th>\n",
       "      <td>1132</td>\n",
       "      <td>1132.npy</td>\n",
       "    </tr>\n",
       "    <tr>\n",
       "      <th>3</th>\n",
       "      <td>1133</td>\n",
       "      <td>1133.npy</td>\n",
       "    </tr>\n",
       "    <tr>\n",
       "      <th>4</th>\n",
       "      <td>1134</td>\n",
       "      <td>1134.npy</td>\n",
       "    </tr>\n",
       "    <tr>\n",
       "      <th>...</th>\n",
       "      <td>...</td>\n",
       "      <td>...</td>\n",
       "    </tr>\n",
       "    <tr>\n",
       "      <th>115</th>\n",
       "      <td>1245</td>\n",
       "      <td>1245.npy</td>\n",
       "    </tr>\n",
       "    <tr>\n",
       "      <th>116</th>\n",
       "      <td>1246</td>\n",
       "      <td>1246.npy</td>\n",
       "    </tr>\n",
       "    <tr>\n",
       "      <th>117</th>\n",
       "      <td>1247</td>\n",
       "      <td>1247.npy</td>\n",
       "    </tr>\n",
       "    <tr>\n",
       "      <th>118</th>\n",
       "      <td>1248</td>\n",
       "      <td>1248.npy</td>\n",
       "    </tr>\n",
       "    <tr>\n",
       "      <th>119</th>\n",
       "      <td>1249</td>\n",
       "      <td>1249.npy</td>\n",
       "    </tr>\n",
       "  </tbody>\n",
       "</table>\n",
       "<p>120 rows × 2 columns</p>\n",
       "</div>"
      ],
      "text/plain": [
       "     patient_id  filename\n",
       "0          1130  1130.npy\n",
       "1          1131  1131.npy\n",
       "2          1132  1132.npy\n",
       "3          1133  1133.npy\n",
       "4          1134  1134.npy\n",
       "..          ...       ...\n",
       "115        1245  1245.npy\n",
       "116        1246  1246.npy\n",
       "117        1247  1247.npy\n",
       "118        1248  1248.npy\n",
       "119        1249  1249.npy\n",
       "\n",
       "[120 rows x 2 columns]"
      ]
     },
     "execution_count": 18,
     "metadata": {},
     "output_type": "execute_result"
    }
   ],
   "source": [
    "val_filenames_df = pd.DataFrame(columns=['filename'])\n",
    "val_filenames_df['filename'] = os.listdir(mrnet_path+'/valid/axial')\n",
    "val_filenames_df['patient_id'] = val_filenames_df.apply(lambda x : int(x['filename'][:-4]),axis=1)\n",
    "val_filenames_df = val_filenames_df[list(('patient_id','filename'))]\n",
    "val_filenames_df.sort_values(by=['patient_id'],ascending=True,inplace=True,ignore_index=True)\n",
    "\n",
    "val_filenames_df"
   ]
  },
  {
   "cell_type": "markdown",
   "metadata": {},
   "source": [
    "## KneeMRI Data Processing"
   ]
  },
  {
   "cell_type": "code",
   "execution_count": 19,
   "metadata": {
    "ExecuteTime": {
     "end_time": "2021-10-04T10:59:06.052490Z",
     "start_time": "2021-10-04T10:59:06.041850Z"
    },
    "scrolled": true
   },
   "outputs": [],
   "source": [
    "# import pickle\n",
    "# kneemri_path = '/home/cvpr/Documents/Siladittya/Dataset/kneeMRI'\n",
    "# metadata = pd.read_csv(kneemri_path + '/metadata.csv')\n",
    "# #print(metadata)\n",
    "# all_dirs = ['vol01','vol02','vol03','vol04','vol05','vol06','vol07','vol08','vol09','vol10']\n",
    "# train_dirs = ['vol08','vol04','vol03','vol09','vol06','vol07']\n",
    "# valid_dirs = ['vol10','vol05']\n",
    "# test_dirs = ['vol01','vol02']\n",
    "\n",
    "# train_df = pd.DataFrame(columns=['examId','volumeFilepath'])\n",
    "# valid_df = pd.DataFrame(columns=['examId','volumeFilepath'])\n",
    "# test_df = pd.DataFrame(columns=['examId','volumeFilepath'])\n",
    "\n",
    "# inference_df = pd.DataFrame(columns=['examId','volumeFilepath'])"
   ]
  },
  {
   "cell_type": "code",
   "execution_count": 20,
   "metadata": {
    "ExecuteTime": {
     "end_time": "2021-10-04T10:59:06.265393Z",
     "start_time": "2021-10-04T10:59:06.261518Z"
    },
    "scrolled": true
   },
   "outputs": [],
   "source": [
    "# def get_df(df_list, df):\n",
    "#     for d in df_list:\n",
    "#         files = os.listdir(kneemri_path+'/'+d)\n",
    "#         filepaths = [kneemri_path+'/'+d+'/'+f for f in files]\n",
    "#         examids = [int(f.split('-')[0]) for f in files]\n",
    "#         for e,f in zip(examids, filepaths):\n",
    "#             df = df.append({'examId':e, 'volumeFilepath':f}, ignore_index = True)\n",
    "\n",
    "#     df['examId']= df['examId'].values.astype(np.int64)\n",
    "#     df = pd.merge(df, metadata, how='inner', on=['examId'])\n",
    "#     #df['aclDiagnosis'] = df['aclDiagnosis'].apply(lambda x : 1 if x > 1 else 0)\n",
    "    \n",
    "#     return df"
   ]
  },
  {
   "cell_type": "code",
   "execution_count": 21,
   "metadata": {
    "ExecuteTime": {
     "end_time": "2021-10-04T10:59:09.245775Z",
     "start_time": "2021-10-04T10:59:06.442416Z"
    },
    "scrolled": true
   },
   "outputs": [],
   "source": [
    "# train_df = get_df(train_dirs, train_df)\n",
    "# valid_df = get_df(valid_dirs, valid_df)\n",
    "# test_df = get_df(test_dirs, test_df)\n",
    "# inference_df = get_df(all_dirs, inference_df)"
   ]
  },
  {
   "cell_type": "code",
   "execution_count": 22,
   "metadata": {
    "ExecuteTime": {
     "end_time": "2021-10-04T10:59:09.262024Z",
     "start_time": "2021-10-04T10:59:09.247004Z"
    }
   },
   "outputs": [],
   "source": [
    "# inference_df"
   ]
  },
  {
   "cell_type": "code",
   "execution_count": 23,
   "metadata": {
    "ExecuteTime": {
     "end_time": "2021-10-04T10:59:12.663112Z",
     "start_time": "2021-10-04T10:59:12.557381Z"
    }
   },
   "outputs": [],
   "source": [
    "#metadata['aclDiagnosis'].values\n",
    "# plt.hist(inference_df['aclDiagnosis'].values)"
   ]
  },
  {
   "cell_type": "markdown",
   "metadata": {
    "heading_collapsed": true,
    "id": "9E8t_MKiTlz6"
   },
   "source": [
    "## KneeMRI DATASET"
   ]
  },
  {
   "cell_type": "code",
   "execution_count": 24,
   "metadata": {
    "ExecuteTime": {
     "end_time": "2021-09-28T14:45:12.793734Z",
     "start_time": "2021-09-28T14:45:12.791744Z"
    },
    "hidden": true,
    "id": "RSYo_KHdSu5K",
    "scrolled": true
   },
   "outputs": [],
   "source": [
    "#!wget http://www.riteh.uniri.hr/~istajduh/projects/kneeMRI/data/volumetric_data/vol01.7z"
   ]
  },
  {
   "cell_type": "code",
   "execution_count": 25,
   "metadata": {
    "ExecuteTime": {
     "end_time": "2021-09-28T14:45:16.719319Z",
     "start_time": "2021-09-28T14:45:16.717630Z"
    },
    "hidden": true,
    "id": "TKTVBChtSxI7",
    "scrolled": false
   },
   "outputs": [],
   "source": [
    "#!wget http://www.riteh.uniri.hr/~istajduh/projects/kneeMRI/data/volumetric_data/vol02.7z"
   ]
  },
  {
   "cell_type": "code",
   "execution_count": 26,
   "metadata": {
    "ExecuteTime": {
     "end_time": "2021-09-28T14:45:21.488722Z",
     "start_time": "2021-09-28T14:45:21.486882Z"
    },
    "hidden": true,
    "id": "P7SDQ-ELS8M4",
    "scrolled": false
   },
   "outputs": [],
   "source": [
    "#!wget http://www.riteh.uniri.hr/~istajduh/projects/kneeMRI/data/volumetric_data/vol03.7z"
   ]
  },
  {
   "cell_type": "code",
   "execution_count": 27,
   "metadata": {
    "ExecuteTime": {
     "end_time": "2021-09-28T14:45:25.047092Z",
     "start_time": "2021-09-28T14:45:25.045092Z"
    },
    "hidden": true,
    "id": "fi-8precS8YC",
    "scrolled": true
   },
   "outputs": [],
   "source": [
    "#!wget http://www.riteh.uniri.hr/~istajduh/projects/kneeMRI/data/volumetric_data/vol04.7z"
   ]
  },
  {
   "cell_type": "code",
   "execution_count": 28,
   "metadata": {
    "ExecuteTime": {
     "end_time": "2021-09-28T14:45:28.853164Z",
     "start_time": "2021-09-28T14:45:28.851337Z"
    },
    "hidden": true,
    "id": "27TGkNRXS8n5",
    "scrolled": true
   },
   "outputs": [],
   "source": [
    "#!wget http://www.riteh.uniri.hr/~istajduh/projects/kneeMRI/data/volumetric_data/vol05.7z"
   ]
  },
  {
   "cell_type": "code",
   "execution_count": 29,
   "metadata": {
    "ExecuteTime": {
     "end_time": "2021-09-28T14:45:34.332684Z",
     "start_time": "2021-09-28T14:45:34.330579Z"
    },
    "hidden": true,
    "id": "V45zVbtkS8uA",
    "scrolled": true
   },
   "outputs": [],
   "source": [
    "#!wget http://www.riteh.uniri.hr/~istajduh/projects/kneeMRI/data/volumetric_data/vol06.7z"
   ]
  },
  {
   "cell_type": "code",
   "execution_count": 30,
   "metadata": {
    "ExecuteTime": {
     "end_time": "2021-09-28T14:45:38.469046Z",
     "start_time": "2021-09-28T14:45:38.467458Z"
    },
    "hidden": true,
    "id": "N9kYUZoIS8z1",
    "scrolled": true
   },
   "outputs": [],
   "source": [
    "#!wget http://www.riteh.uniri.hr/~istajduh/projects/kneeMRI/data/volumetric_data/vol07.7z"
   ]
  },
  {
   "cell_type": "code",
   "execution_count": 31,
   "metadata": {
    "ExecuteTime": {
     "end_time": "2021-09-28T14:45:43.950386Z",
     "start_time": "2021-09-28T14:45:43.948400Z"
    },
    "hidden": true,
    "id": "Xuxj96CeS85Z",
    "scrolled": true
   },
   "outputs": [],
   "source": [
    "#!wget http://www.riteh.uniri.hr/~istajduh/projects/kneeMRI/data/volumetric_data/vol08.7z"
   ]
  },
  {
   "cell_type": "code",
   "execution_count": 32,
   "metadata": {
    "ExecuteTime": {
     "end_time": "2021-09-28T14:45:47.058323Z",
     "start_time": "2021-09-28T14:45:47.056412Z"
    },
    "hidden": true,
    "id": "l_c6ktu8S886",
    "scrolled": true
   },
   "outputs": [],
   "source": [
    "#!wget http://www.riteh.uniri.hr/~istajduh/projects/kneeMRI/data/volumetric_data/vol09.7z"
   ]
  },
  {
   "cell_type": "code",
   "execution_count": 33,
   "metadata": {
    "ExecuteTime": {
     "end_time": "2021-09-28T14:45:49.682633Z",
     "start_time": "2021-09-28T14:45:49.680668Z"
    },
    "hidden": true,
    "id": "U78aIk-SS9Aa",
    "scrolled": true
   },
   "outputs": [],
   "source": [
    "#!wget http://www.riteh.uniri.hr/~istajduh/projects/kneeMRI/data/volumetric_data/vol10.7z"
   ]
  },
  {
   "cell_type": "code",
   "execution_count": 34,
   "metadata": {
    "ExecuteTime": {
     "end_time": "2021-09-28T14:45:52.550189Z",
     "start_time": "2021-09-28T14:45:52.548279Z"
    },
    "hidden": true,
    "id": "EC83wcodTCzl",
    "scrolled": true
   },
   "outputs": [],
   "source": [
    "#!wget http://www.riteh.uniri.hr/~istajduh/projects/kneeMRI/data/metadata.csv"
   ]
  },
  {
   "cell_type": "code",
   "execution_count": 35,
   "metadata": {
    "ExecuteTime": {
     "end_time": "2021-09-28T14:45:55.855495Z",
     "start_time": "2021-09-28T14:45:55.853591Z"
    },
    "hidden": true,
    "id": "X3sLviIZTG_x",
    "scrolled": true
   },
   "outputs": [],
   "source": [
    "#!wget http://www.riteh.uniri.hr/~istajduh/projects/kneeMRI/data/volumetric_data/example.pck"
   ]
  },
  {
   "cell_type": "code",
   "execution_count": 36,
   "metadata": {
    "ExecuteTime": {
     "end_time": "2021-09-28T14:45:59.990714Z",
     "start_time": "2021-09-28T14:45:59.988734Z"
    },
    "hidden": true,
    "id": "DkJOBBMrTa7L",
    "scrolled": true
   },
   "outputs": [],
   "source": [
    "#!wget http://www.riteh.uniri.hr/~istajduh/projects/kneeMRI/data/example.py"
   ]
  },
  {
   "cell_type": "markdown",
   "metadata": {
    "id": "yzDaX73PhzXv"
   },
   "source": [
    "## <font color='orange'>Utility Functions</font>"
   ]
  },
  {
   "cell_type": "markdown",
   "metadata": {
    "id": "8c44LNulTb8i"
   },
   "source": [
    "### <font color='blue'>Declaring the required PATH variables</font>"
   ]
  },
  {
   "cell_type": "code",
   "execution_count": 37,
   "metadata": {
    "ExecuteTime": {
     "end_time": "2021-10-02T14:31:11.492770Z",
     "start_time": "2021-10-02T14:31:11.490006Z"
    },
    "id": "x6u18pYcWtfw",
    "scrolled": true
   },
   "outputs": [],
   "source": [
    "#For Colab '/root/MRNet/MRNet-v1.0/'\n",
    "\n",
    "train_dir = mrnet_path+'/train'\n",
    "valid_dir = mrnet_path+'/valid'\n",
    "axial_mode= 'axial'\n",
    "sagit_mode='sagittal'\n",
    "coron_mode='coronal'\n",
    "base_dir = mrnet_path\n",
    "\n",
    "NUM_FRAMES = 1\n",
    "batch_size = 8 #32\n",
    "NUM_CLASSES = 1000 #3\n",
    "NUM_PATCHES = 9"
   ]
  },
  {
   "cell_type": "code",
   "execution_count": 38,
   "metadata": {
    "ExecuteTime": {
     "end_time": "2021-09-28T14:53:12.540969Z",
     "start_time": "2021-09-28T14:53:12.538990Z"
    },
    "id": "37YebDyaDDla",
    "scrolled": true
   },
   "outputs": [],
   "source": [
    "#os.makedirs('/content/saved_models')"
   ]
  },
  {
   "cell_type": "markdown",
   "metadata": {
    "id": "42RiWwJZkUH5"
   },
   "source": [
    "### <font color='blue'>Performance Metrics</font>"
   ]
  },
  {
   "cell_type": "code",
   "execution_count": 39,
   "metadata": {
    "ExecuteTime": {
     "end_time": "2021-10-02T14:31:14.748885Z",
     "start_time": "2021-10-02T14:31:14.733780Z"
    },
    "id": "kpT8np6skUH5",
    "scrolled": true
   },
   "outputs": [],
   "source": [
    "#util_wk2\n",
    "def TP(y, pred, th=0.5):\n",
    "    pred_t = (pred > th)\n",
    "    return np.sum((pred_t == True) & (y == 1))\n",
    "\n",
    "\n",
    "def TN(y, pred, th=0.5):\n",
    "    pred_t = (pred > th)\n",
    "    return np.sum((pred_t == False) & (y == 0))\n",
    "\n",
    "\n",
    "def FN(y, pred, th=0.5):\n",
    "    pred_t = (pred > th)\n",
    "    return np.sum((pred_t == False) & (y == 1))\n",
    "\n",
    "\n",
    "def FP(y, pred, th=0.5):\n",
    "    pred_t = (pred > th)\n",
    "    return np.sum((pred_t == True) & (y == 0))\n",
    "\n",
    "def get_accuracy(y, pred, th=0.5):\n",
    "    tp = TP(y,pred,th)\n",
    "    fp = FP(y,pred,th)\n",
    "    tn = TN(y,pred,th)\n",
    "    fn = FN(y,pred,th)\n",
    "    \n",
    "    return (tp+tn)/(tp+fp+tn+fn)\n",
    "\n",
    "def get_prevalence(y):\n",
    "    return np.sum(y)/y.shape[0]\n",
    "\n",
    "def sensitivity(y, pred, th=0.5):\n",
    "    tp = TP(y,pred,th)\n",
    "    fn = FN(y,pred,th)\n",
    "    \n",
    "    return tp/(tp+fn)\n",
    "\n",
    "def specificity(y, pred, th=0.5):\n",
    "    tn = TN(y,pred,th)\n",
    "    fp = FP(y,pred,th)\n",
    "    \n",
    "    return tn/(tn+fp)\n",
    "\n",
    "def get_ppv(y, pred, th=0.5):\n",
    "    tp = TP(y,pred,th)\n",
    "    fp = FP(y,pred,th)\n",
    "    \n",
    "    return tp/(tp+fp)\n",
    "\n",
    "def get_npv(y, pred, th=0.5):\n",
    "    tn = TN(y,pred,th)\n",
    "    fn = FN(y,pred,th)\n",
    "    \n",
    "    return tn/(tn+fn)\n",
    "\n",
    "\n",
    "def get_performance_metrics(y, pred, class_labels, tp=TP,\n",
    "                            tn=TN, fp=FP,\n",
    "                            fn=FN,\n",
    "                            acc=get_accuracy, prevalence=get_prevalence, \n",
    "                            spec=specificity,sens=sensitivity, ppv=get_ppv, \n",
    "                            npv=get_npv, auc=roc_auc_score, f1=f1_score,\n",
    "                            thresholds=[]):\n",
    "    if len(thresholds) != len(class_labels):\n",
    "        thresholds = [.5] * len(class_labels)\n",
    "\n",
    "    columns = [\"Injury\", \"TP\", \"TN\", \"FP\", \"FN\", \"Accuracy\", \"Prevalence\",\n",
    "               \"Sensitivity\",\n",
    "               \"Specificity\", \"PPV\", \"NPV\", \"AUC\", \"F1\", \"Threshold\"]\n",
    "    df = pd.DataFrame(columns=columns)\n",
    "    for i in range(len(class_labels)):\n",
    "        df.loc[i] = [class_labels[i],\n",
    "                     round(tp(y[:, i], pred[:, i]),3),\n",
    "                     round(tn(y[:, i], pred[:, i]),3),\n",
    "                     round(fp(y[:, i], pred[:, i]),3),\n",
    "                     round(fn(y[:, i], pred[:, i]),3),\n",
    "                     round(acc(y[:, i], pred[:, i], thresholds[i]),3),\n",
    "                     round(prevalence(y[:, i]),3),\n",
    "                     round(sens(y[:, i], pred[:, i], thresholds[i]),3),\n",
    "                     round(spec(y[:, i], pred[:, i], thresholds[i]),3),\n",
    "                     round(ppv(y[:, i], pred[:, i], thresholds[i]),3),\n",
    "                     round(npv(y[:, i], pred[:, i], thresholds[i]),3),\n",
    "                     round(auc(y[:, i], pred[:, i]),3),\n",
    "                     round(f1(y[:, i], pred[:, i] > thresholds[i]),3),\n",
    "                     round(thresholds[i], 3)]\n",
    "\n",
    "    df = df.set_index(\"Injury\")\n",
    "    return df\n",
    "\n",
    "def bootstrap_metric(y, pred, classes, metric='auc',bootstraps = 100, fold_size = 1000):\n",
    "    statistics = np.zeros((len(classes), bootstraps))\n",
    "    if metric=='AUC':\n",
    "        metric_func = roc_auc_score\n",
    "    if metric=='Sensitivity':\n",
    "        metric_func = sensitivity\n",
    "    if metric=='Specificity':\n",
    "        metric_func = specificity\n",
    "    if metric=='Accuracy':\n",
    "        metric_func = get_accuracy\n",
    "    for c in range(len(classes)):\n",
    "        df = pd.DataFrame(columns=['y', 'pred'])\n",
    "        df.loc[:, 'y'] = y[:, c]\n",
    "        df.loc[:, 'pred'] = pred[:, c]\n",
    "        # get positive examples for stratified sampling\n",
    "        df_pos = df[df.y == 1]\n",
    "        df_neg = df[df.y == 0]\n",
    "        prevalence = len(df_pos) / len(df)\n",
    "        for i in range(bootstraps):\n",
    "            # stratified sampling of positive and negative examples\n",
    "            pos_sample = df_pos.sample(n = int(fold_size * prevalence), replace=True)\n",
    "            neg_sample = df_neg.sample(n = int(fold_size * (1-prevalence)), replace=True)\n",
    "\n",
    "            y_sample = np.concatenate([pos_sample.y.values, neg_sample.y.values])\n",
    "            pred_sample = np.concatenate([pos_sample.pred.values, neg_sample.pred.values])\n",
    "            score = metric_func(y_sample, pred_sample)\n",
    "            statistics[c][i] = score\n",
    "    return statistics\n",
    "\n",
    "def get_confidence_intervals(y,pred,class_labels):\n",
    "    \n",
    "    metric_dfs = {}\n",
    "    for metric in ['AUC','Sensitivity','Specificity','Accuracy']:\n",
    "        statistics = bootstrap_metric(y,pred,class_labels,metric)\n",
    "        df = pd.DataFrame(columns=[\"Mean \"+metric+\" (CI 5%-95%)\"])\n",
    "        for i in range(len(class_labels)):\n",
    "            mean = statistics.mean(axis=1)[i]\n",
    "            max_ = np.quantile(statistics, .95, axis=1)[i]\n",
    "            min_ = np.quantile(statistics, .05, axis=1)[i]\n",
    "            df.loc[class_labels[i]] = [\"%.2f (%.2f-%.2f)\" % (mean, min_, max_)]\n",
    "        metric_dfs[metric] = df\n",
    "    return metric_dfs\n"
   ]
  },
  {
   "cell_type": "markdown",
   "metadata": {
    "id": "qQJUoL4zuNYJ"
   },
   "source": [
    "### <font color='blue'>Plotting Metrics</font>"
   ]
  },
  {
   "cell_type": "markdown",
   "metadata": {
    "id": "wkLyllF2kUH8"
   },
   "source": [
    "#### <font color='red'>Accuracy</font>"
   ]
  },
  {
   "cell_type": "code",
   "execution_count": 40,
   "metadata": {
    "ExecuteTime": {
     "end_time": "2021-10-02T14:31:17.465616Z",
     "start_time": "2021-10-02T14:31:17.462695Z"
    },
    "id": "8c0xP0kZNN84",
    "scrolled": true
   },
   "outputs": [],
   "source": [
    "def plot_accuracy(tr_acc,val_acc):\n",
    "    # Plot training & validation accuracy values\n",
    "    plt.plot(tr_acc)\n",
    "    plt.plot(val_acc)\n",
    "    plt.title('Model accuracy',fontsize=10)\n",
    "    plt.ylabel('Accuracy',fontsize=10)\n",
    "    plt.xlabel('Epoch',fontsize=10)\n",
    "    plt.tick_params(axis='both', which='major', labelsize=10)\n",
    "    plt.legend(['Train', 'Validation'], loc='upper left',prop={'size': 10})\n",
    "    plt.savefig('accuracy_plot.png')\n",
    "    plt.show()"
   ]
  },
  {
   "cell_type": "markdown",
   "metadata": {
    "id": "aI_hg4wXkUH-"
   },
   "source": [
    "#### <font color='red'>Loss</font>"
   ]
  },
  {
   "cell_type": "code",
   "execution_count": 41,
   "metadata": {
    "ExecuteTime": {
     "end_time": "2021-10-02T14:31:17.795563Z",
     "start_time": "2021-10-02T14:31:17.792561Z"
    },
    "id": "pOhp8lNpNOsb",
    "scrolled": true
   },
   "outputs": [],
   "source": [
    "def plot_loss(tr_loss,val_loss):\n",
    "    # Plot training & validation loss values\n",
    "    plt.plot(tr_loss)\n",
    "    plt.plot(val_loss)\n",
    "    plt.title('Model loss',fontsize=10)\n",
    "    plt.ylabel('Loss',fontsize=10)\n",
    "    plt.xlabel('Epoch',fontsize=10)\n",
    "    plt.tick_params(axis='both', which='major', labelsize=10)\n",
    "    plt.legend(['Train', 'Validation'], loc='upper left',prop={'size': 10})\n",
    "    plt.savefig('loss_plot.png')\n",
    "    plt.show()"
   ]
  },
  {
   "cell_type": "markdown",
   "metadata": {
    "id": "Bopi6WMmkUIA"
   },
   "source": [
    "#### <font color='red'>ROC</font>"
   ]
  },
  {
   "cell_type": "code",
   "execution_count": 42,
   "metadata": {
    "ExecuteTime": {
     "end_time": "2021-10-02T14:31:18.218065Z",
     "start_time": "2021-10-02T14:31:18.213213Z"
    },
    "id": "TRMFODDikUIB",
    "scrolled": true
   },
   "outputs": [],
   "source": [
    "def get_roc_curve(gt, pred, target_names):\n",
    "    for i in range(len(target_names)):\n",
    "        curve_function = roc_curve\n",
    "        auc_roc = roc_auc_score(gt[:, i], pred[:, i])\n",
    "        label = str(target_names[i]) + \" AUC: %.3f \" % auc_roc\n",
    "        xlabel = \"False positive rate\"\n",
    "        ylabel = \"True positive rate\"\n",
    "        a, b, _ = curve_function(gt[:, i], pred[:, i])\n",
    "        plt.figure(1, figsize=(7, 7))\n",
    "        plt.plot([0, 1], [0, 1], 'k--')\n",
    "        plt.plot(a, b, label=label)\n",
    "        plt.xlabel(xlabel)\n",
    "        plt.ylabel(ylabel)\n",
    "        plt.legend(loc='upper center', bbox_to_anchor=(1.3, 1),\n",
    "                       fancybox=True, ncol=1)\n",
    "        plt.savefig('ROC_Curve.png')\n",
    "        plt.show()"
   ]
  },
  {
   "cell_type": "markdown",
   "metadata": {
    "id": "DBxj7WvNkUIC"
   },
   "source": [
    "#### <font color='red'>Precision and Recall</font>"
   ]
  },
  {
   "cell_type": "code",
   "execution_count": 43,
   "metadata": {
    "ExecuteTime": {
     "end_time": "2021-10-02T14:31:19.037452Z",
     "start_time": "2021-10-02T14:31:19.033610Z"
    },
    "id": "Inw3SVknkUID",
    "scrolled": true
   },
   "outputs": [],
   "source": [
    "def get_PR_curve(gt, pred, target_names):\n",
    "    for i in range(len(target_names)):\n",
    "        precision, recall, _ = precision_recall_curve(gt[:, i], pred[:, i])\n",
    "        average_precision = average_precision_score(gt[:, i], pred[:, i])\n",
    "        label = str(target_names[i]) + \" Avg.: %.3f \" % average_precision\n",
    "        plt.figure(1, figsize=(7, 7))\n",
    "        plt.step(recall, precision, where='post', label=label)\n",
    "        plt.xlabel('Recall')\n",
    "        plt.ylabel('Precision')\n",
    "        plt.ylim([0.0, 1.05])\n",
    "        plt.xlim([0.0, 1.0])\n",
    "        plt.legend(loc='upper center', bbox_to_anchor=(1.3, 1),\n",
    "                       fancybox=True, ncol=1)\n",
    "        plt.savefig('Precision_and_Recall_curve.png')\n",
    "        plt.show()"
   ]
  },
  {
   "cell_type": "markdown",
   "metadata": {
    "id": "sz7kNHQxkUIE"
   },
   "source": [
    "#### <font color='red'>Confusion Matrix</font>  "
   ]
  },
  {
   "cell_type": "code",
   "execution_count": 44,
   "metadata": {
    "ExecuteTime": {
     "end_time": "2021-10-02T14:31:19.908676Z",
     "start_time": "2021-10-02T14:31:19.903816Z"
    },
    "id": "mviMdmIlkUIG",
    "scrolled": true
   },
   "outputs": [],
   "source": [
    "def plot_confusion_matrix(y_true,y_pred,class_labels):\n",
    "    cm = confusion_matrix(y_true, y_pred, labels=class_labels)\n",
    "    cm_sum = np.sum(cm, axis=1, keepdims=True)\n",
    "    cm_perc = cm / cm_sum.astype(float) * 100\n",
    "    annot = np.empty_like(cm).astype(str)\n",
    "    nrows, ncols = cm.shape\n",
    "    for i in range(nrows):\n",
    "        for j in range(ncols):\n",
    "            c = cm[i, j]\n",
    "            p = cm_perc[i, j]\n",
    "            if i == j:\n",
    "                s = cm_sum[i]\n",
    "                annot[i, j] = '%.1f%%\\n%d/%d' % (p, c, s)\n",
    "            elif c == 0:\n",
    "                annot[i, j] = ''\n",
    "            else:\n",
    "                annot[i, j] = '%.1f%%\\n%d' % (p, c)\n",
    "    cm = pd.DataFrame(cm, index=class_labels, columns=class_labels)\n",
    "    cm.index.name = 'Actual'\n",
    "    cm.columns.name = 'Predicted'\n",
    "    fig, ax = plt.subplots(figsize=(60,60))\n",
    "    sns.set(font_scale=3.0) # Adjust to fit\n",
    "    sns.heatmap(cm, cmap= \"YlGnBu\", annot=annot, fmt='', ax=ax)\n",
    "    ax.tick_params(axis='both', which='major', labelsize=10)  # Adjust to fit\n",
    "    ax.xaxis.set_ticklabels(class_labels)\n",
    "    ax.yaxis.set_ticklabels(class_labels)\n",
    "    fig.savefig('Confusion_Matrix.png')\n",
    "    plt.show()"
   ]
  },
  {
   "cell_type": "markdown",
   "metadata": {
    "id": "AZTz4lvkkUII"
   },
   "source": [
    "#### <font color='red'>Performance Metrics with Errorbars</font>"
   ]
  },
  {
   "cell_type": "code",
   "execution_count": 45,
   "metadata": {
    "ExecuteTime": {
     "end_time": "2021-10-02T14:31:23.427860Z",
     "start_time": "2021-10-02T14:31:23.424167Z"
    },
    "id": "i611AmBdkUII",
    "scrolled": true
   },
   "outputs": [],
   "source": [
    "#04_03_Errorbar.ipynb\n",
    "def plot_perf_metrics_errbars(y,pred,class_labels):\n",
    "    metric_dfs = get_confidence_intervals(y,pred,class_labels)\n",
    "    metrics = metric_dfs.keys()\n",
    "    fig,axs = plt.subplots(len(metrics),1,sharey=True)\n",
    "    for i in range(len(metrics)):\n",
    "        ci = metric_dfs[metric][['Mean '+metrics[i]+' (CI 5%-95%)']].values\n",
    "        ci_mean,ci_ints = np.array([c[0].split(' ') for c in ci]).T\n",
    "        ci_mean = ci_mean.astype(float)\n",
    "        ci_min,ci_max = np.array([ci_ints.strip('()').split('-')]).astype(float)\n",
    "        ci_err = (ci_max-ci_min)/2\n",
    "        \n",
    "        axs[i].errorbar(class_labels,ci_mean,yerr=ci_err,capsize=5,fmt='dk')\n",
    "        axs[i].set_ylabel(metrics[i])\n",
    "    fig.savefig('Performance_Metrics_95percentCI.png')\n",
    "    plt.show()"
   ]
  },
  {
   "cell_type": "code",
   "execution_count": null,
   "metadata": {
    "id": "Uh1o8dD0NwUI",
    "scrolled": true
   },
   "outputs": [],
   "source": []
  },
  {
   "cell_type": "markdown",
   "metadata": {
    "id": "-D-yr5UshiFM"
   },
   "source": [
    "## <font color='orange'>Preparing Pseudo Labels</font>\n",
    "\n",
    "NEEDS TO BE RUN\n"
   ]
  },
  {
   "cell_type": "code",
   "execution_count": 46,
   "metadata": {
    "ExecuteTime": {
     "end_time": "2021-09-29T06:17:00.524967Z",
     "start_time": "2021-09-29T06:17:00.521398Z"
    },
    "id": "GM2nQIr9kUIV",
    "scrolled": true
   },
   "outputs": [],
   "source": [
    "def build_pseudo_GTP_labels():\n",
    "    ROTATION = [-15,0,15]\n",
    "    TRANSLATEX = [-6,0,6]\n",
    "    TRANSLATEY = [-6,0,6]\n",
    "    SCALING = [1,1.1]\n",
    "    SHEAR = []\n",
    "    classes = {}\n",
    "    cind = 0\n",
    "    for rot in ROTATION:\n",
    "        for tranX in TRANSLATEX:\n",
    "            for tranY in TRANSLATEY:\n",
    "                for sc in SCALING:\n",
    "                    classes[cind] = [rot,tranX,tranY,sc]\n",
    "                    cind+=1\n",
    "    return classes\n",
    "\n",
    "\n",
    "GTP_LABELS = build_pseudo_GTP_labels()"
   ]
  },
  {
   "cell_type": "markdown",
   "metadata": {
    "id": "8iThsv9s0Y1P"
   },
   "source": [
    "### PPP Pseudo Labels"
   ]
  },
  {
   "cell_type": "code",
   "execution_count": 53,
   "metadata": {
    "ExecuteTime": {
     "end_time": "2021-09-29T06:17:00.693038Z",
     "start_time": "2021-09-29T06:17:00.636727Z"
    },
    "id": "5b0qXt5D5U5y",
    "scrolled": true
   },
   "outputs": [],
   "source": [
    "NUM_PATCHES = 9\n",
    "NUM_CLASSES = 1000"
   ]
  },
  {
   "cell_type": "code",
   "execution_count": 54,
   "metadata": {
    "ExecuteTime": {
     "end_time": "2021-09-29T06:17:01.845743Z",
     "start_time": "2021-09-29T06:17:00.706224Z"
    },
    "id": "GKROm-Tg0YRo",
    "scrolled": true
   },
   "outputs": [],
   "source": [
    "def build_pseudo_ppp_labels(num_patches):\n",
    "    ppp_labels_perms = list(permutations(range(0,num_patches)))\n",
    "    ppp_labels_perms = [list(t) for t in ppp_labels_perms]\n",
    "    #print(ppp_labels_perms)\n",
    "\n",
    "    ppp_labels = {}\n",
    "    label_num= 0\n",
    "    for key in ppp_labels_perms:\n",
    "        ppp_labels[str(key)] = label_num\n",
    "        label_num+=1\n",
    "    \n",
    "    return ppp_labels\n",
    "\n",
    "PPP_LABELS = build_pseudo_ppp_labels(NUM_PATCHES)"
   ]
  },
  {
   "cell_type": "code",
   "execution_count": 55,
   "metadata": {
    "ExecuteTime": {
     "end_time": "2021-09-29T06:17:01.864965Z",
     "start_time": "2021-09-29T06:17:01.847262Z"
    },
    "id": "C1xoo51m5SFj",
    "scrolled": true
   },
   "outputs": [],
   "source": [
    "keys = random.sample(list(PPP_LABELS.keys()),NUM_CLASSES)\n",
    "if '[0, 1, 2, 3, 4, 5, 6, 7, 8]' not in keys:\n",
    "    PPP_LABELS_DICT = {'[0, 1, 2, 3, 4, 5, 6, 7, 8]':0}\n",
    "    keys = keys[:-1]\n",
    "    v = 1\n",
    "else:\n",
    "    v = 0\n",
    "for k in keys:\n",
    "    PPP_LABELS_DICT[k] = v\n",
    "    v+=1\n",
    "#print(PPP_LABELS_DICT)"
   ]
  },
  {
   "cell_type": "code",
   "execution_count": 56,
   "metadata": {
    "ExecuteTime": {
     "end_time": "2021-09-29T06:17:01.990656Z",
     "start_time": "2021-09-29T06:17:01.866498Z"
    },
    "id": "bfJm6IUNHrVZ",
    "scrolled": true
   },
   "outputs": [],
   "source": [
    "PPP_LABELS = PPP_LABELS_DICT"
   ]
  },
  {
   "cell_type": "code",
   "execution_count": 57,
   "metadata": {
    "ExecuteTime": {
     "end_time": "2021-09-29T06:17:02.108202Z",
     "start_time": "2021-09-29T06:17:01.992783Z"
    },
    "colab": {
     "base_uri": "https://localhost:8080/",
     "height": 34
    },
    "id": "fq-2vajXM42Z",
    "outputId": "91805828-c914-446e-9c51-9d10e8489501",
    "scrolled": true
   },
   "outputs": [
    {
     "data": {
      "text/plain": [
       "True"
      ]
     },
     "execution_count": 57,
     "metadata": {},
     "output_type": "execute_result"
    }
   ],
   "source": [
    "'[0, 1, 2, 3, 4, 5, 6, 7, 8]' in PPP_LABELS.keys()"
   ]
  },
  {
   "cell_type": "code",
   "execution_count": 58,
   "metadata": {
    "ExecuteTime": {
     "end_time": "2021-09-29T06:17:02.197565Z",
     "start_time": "2021-09-29T06:17:02.109579Z"
    },
    "colab": {
     "base_uri": "https://localhost:8080/",
     "height": 34
    },
    "id": "WSLCxD-rSoeR",
    "outputId": "79507d21-ab40-4530-ebf6-34746caa22a4",
    "scrolled": true
   },
   "outputs": [
    {
     "data": {
      "text/plain": [
       "1000"
      ]
     },
     "execution_count": 58,
     "metadata": {},
     "output_type": "execute_result"
    }
   ],
   "source": [
    "len(PPP_LABELS)"
   ]
  },
  {
   "cell_type": "markdown",
   "metadata": {
    "id": "f4NSGL_4q0Jo"
   },
   "source": [
    "## SSL PPP Data Generator"
   ]
  },
  {
   "cell_type": "code",
   "execution_count": 59,
   "metadata": {
    "ExecuteTime": {
     "end_time": "2021-09-29T06:17:02.303357Z",
     "start_time": "2021-09-29T06:17:02.198756Z"
    },
    "id": "NrolnQ6_Jjgp",
    "scrolled": true
   },
   "outputs": [],
   "source": [
    "NUM_PATCHES = 9\n",
    "NUM_CLASSES = 1000"
   ]
  },
  {
   "cell_type": "code",
   "execution_count": 60,
   "metadata": {
    "ExecuteTime": {
     "end_time": "2021-09-29T06:17:02.396589Z",
     "start_time": "2021-09-29T06:17:02.304531Z"
    },
    "id": "ALuK4L090H7L",
    "scrolled": true
   },
   "outputs": [],
   "source": [
    "def ppi_irv2(x):\n",
    "    x /= 127.5\n",
    "    x -= 1.\n",
    "    return x\n",
    "\n",
    "def to_categorical(y, num_classes):\n",
    "    \"\"\" 1-hot encodes a tensor \"\"\"\n",
    "    return np.eye(num_classes, dtype='uint8')[y]"
   ]
  },
  {
   "cell_type": "code",
   "execution_count": 61,
   "metadata": {
    "ExecuteTime": {
     "end_time": "2021-09-29T06:17:02.539271Z",
     "start_time": "2021-09-29T06:17:02.398711Z"
    }
   },
   "outputs": [
    {
     "data": {
      "text/plain": [
       "array([5])"
      ]
     },
     "execution_count": 61,
     "metadata": {},
     "output_type": "execute_result"
    }
   ],
   "source": [
    "np.random.randint(0,10,size = 1)"
   ]
  },
  {
   "cell_type": "code",
   "execution_count": 62,
   "metadata": {
    "ExecuteTime": {
     "end_time": "2021-09-29T06:20:35.305229Z",
     "start_time": "2021-09-29T06:20:35.285370Z"
    },
    "id": "fbtQoTWfqy8R",
    "scrolled": true
   },
   "outputs": [],
   "source": [
    "class PPPDataGen(Dataset):\n",
    "    def __init__(self,phase,mode,base_dir,filenames_df,preprocess_input=None,\n",
    "                 ppp_labels_dict = PPP_LABELS,gtp_labels_dict = GTP_LABELS,\n",
    "                 batch_size=8,num_patches = NUM_PATCHES,num_frames = NUM_FRAMES,\n",
    "                 num_classes=NUM_CLASSES,hor_flip = True,data_aug = True, mrnet = True):\n",
    "        self.base_dir = base_dir\n",
    "        self.ph_mode_dir = base_dir+'/'+phase+'/'+mode\n",
    "        #self.filenames = os.listdir(self.ph_mode_dir)\n",
    "        self.phase = phase\n",
    "        self.mode = mode\n",
    "        self.batch_size = batch_size\n",
    "        self.num_patches = num_patches\n",
    "        self.num_frames = num_frames\n",
    "        self.num_classes = num_classes\n",
    "        self.filenames_df = filenames_df\n",
    "        self.preprocess_input = preprocess_input\n",
    "        self.ppp_labels_dict = ppp_labels_dict\n",
    "        self.gtp_labels_dict = gtp_labels_dict \n",
    "        self.hor_flip = hor_flip\n",
    "        self.data_aug = data_aug\n",
    "        self.mrnet = mrnet\n",
    "        \n",
    "        self.invGamma100 = 1.0 \n",
    "        self.invGamma115 = 1.0/1.15\n",
    "        self.invGamma085 = 1.0/0.85\n",
    "        self.table100 = np.array([((k / 255.0) ** self.invGamma100) * 255 for k in np.arange(0, 256)]).astype(\"uint8\")\n",
    "        self.table115 = np.array([((k / 255.0) ** self.invGamma115) * 255 for k in np.arange(0, 256)]).astype(\"uint8\")\n",
    "        self.table085 = np.array([((k / 255.0) ** self.invGamma085) * 255 for k in np.arange(0, 256)]).astype(\"uint8\")\n",
    "        self.gamma_dict100 = dict(zip(range(256),self.table100))\n",
    "        self.gamma_dict115 = dict(zip(range(256),self.table115))\n",
    "        self.gamma_dict085 = dict(zip(range(256),self.table085))\n",
    "\n",
    "\n",
    "    def get_random_shuffle_order(self,batch_sz):\n",
    "        blist = list(range(batch_sz))\n",
    "        random.shuffle(blist)\n",
    "        return blist\n",
    "    \n",
    "    def load_volume(self,file_idx):\n",
    "        \n",
    "        if self.mrnet:\n",
    "            filePoolLen = self.filenames_df.shape[0]\n",
    "            #print(file_idx)\n",
    "            #file_idx = file_idx%filePoolLen \n",
    "            npy_file = np.load(self.ph_mode_dir+'/'+self.filenames_df['filename'].iloc[file_idx])\n",
    "        \n",
    "        else:\n",
    "            filepath = self.filenames_df['volumeFilepath'].iloc[file_idx]\n",
    "            #self.ph_mode_dir+'/'+self.filenames_df['volumeFilename'].iloc[file_idx]\n",
    "            with open(filepath,'rb') as file_handler:\n",
    "                npy_file = pickle.load(file_handler)\n",
    "        \n",
    "        return npy_file\n",
    "    \n",
    "    def get_frames(self,idx):\n",
    "        image_volume = self.load_volume(idx)\n",
    "        tot_frames = image_volume.shape[0]\n",
    "        #print(tot_frames)\n",
    "        \n",
    "        frame_idxs = np.random.randint(0,tot_frames,size=1)\n",
    "\n",
    "        frames = np.array([]).reshape((0,256,256,3))\n",
    "        for n in range(frame_idxs.shape[0]):\n",
    "            frame_idx = frame_idxs[n]\n",
    "            frame = np.array(image_volume[frame_idx,:,:])\n",
    "            \n",
    "            if not self.mrnet:\n",
    "                if np.max(frame) > 0.0:\n",
    "                    frame = 255*((frame-np.min(frame))/(np.max(frame)-np.min(frame)))\n",
    "                else:\n",
    "                    frame = np.zeros(frame.shape, dtype = np.float32)\n",
    "                #print(frame)\n",
    "                frame = resize(frame, (256,256), preserve_range = True)\n",
    "                \n",
    "            frame = np.expand_dims(frame,axis=2)\n",
    "            frame = np.append(frame,np.append(frame,frame,axis=2),axis=2)\n",
    "            \n",
    "            frames = np.append(frames,np.expand_dims(frame,axis=0),axis=0)\n",
    "        #print(frames.shape)\n",
    "        return frames\n",
    "    \n",
    "    def __len__(self):\n",
    "        #return int(np.floor((len(self.filenames_df)/self.batch_size)))\n",
    "        return len(self.filenames_df)*self.num_frames\n",
    "    \n",
    "    def __getitem__(self,idx):\n",
    "\n",
    "        #DECLARE VARIABLES\n",
    "        idx = idx%self.num_frames\n",
    "        inputs = np.array([]).reshape((0,3,64,64))\n",
    "        labels = np.array([],dtype=np.int32)\n",
    "        \n",
    "        #CREATE BATCH\n",
    "        file_idx = idx #%len(self.filenames_df)\n",
    "        #print(file_idx)\n",
    "        imgs = self.get_frames(idx)[0]\n",
    "        #print(imgs.shape)\n",
    "        \n",
    "        ppp_labels = list(self.ppp_labels_dict.keys())\n",
    "        #print(len(ppp_labels))\n",
    "        crop_window = int(256/int(np.sqrt(self.num_patches)))\n",
    "        crop_window_rlx = 64 #################################int(crop_window - np.ceil(0.2*float(crop_window)))\n",
    "        eachgap = int((crop_window-crop_window_rlx)/2.)\n",
    "    \n",
    "        label_idx = np.random.choice(list(range(self.num_classes)))\n",
    "        #print(ppp_labels[label_idx])\n",
    "        jumbling_order = list(map(int,ppp_labels[label_idx].strip('[]').split(',')))\n",
    "        temp_batch_img = np.zeros((64,64,3))\n",
    "        for jo in range(len(jumbling_order)):\n",
    "            temp_patch1 = np.zeros((crop_window_rlx,crop_window_rlx,3))\n",
    "            spatch_num = jumbling_order[jo]\n",
    "            scol_num = spatch_num%int(np.sqrt(self.num_patches))\n",
    "            srow_num = int(np.floor(spatch_num/int(np.sqrt(self.num_patches))))\n",
    "            gapx = np.random.randint(0,eachgap)\n",
    "            gapy = np.random.randint(0,eachgap)\n",
    "            sourcesx = crop_window*scol_num + gapx\n",
    "            sourceex = sourcesx + crop_window_rlx\n",
    "            sourcesy = crop_window*srow_num + gapy\n",
    "            sourceey = sourcesy + crop_window_rlx\n",
    "\n",
    "            #AUGMENT FRAMES\n",
    "            if self.phase=='train':\n",
    "                temp_patch1 = self.__augment(imgs[sourcesx:sourceex,sourcesy:sourceey,:])\n",
    "            else:\n",
    "                temp_patch1 = imgs[sourcesx:sourceex,sourcesy:sourceey,:]\n",
    "            \n",
    "            #print(temp_patch1.shape)\n",
    "\n",
    "            inputs = np.append(inputs,np.expand_dims(np.transpose(temp_patch1,(2,0,1)),axis=0),axis=0)\n",
    "\n",
    "            labels = int(self.ppp_labels_dict[ppp_labels[label_idx]])\n",
    "\n",
    "        #PREPROCESS FRAMES\n",
    "        inputs = self.preprocess_input(inputs)\n",
    "        \n",
    "        #return inputs, batch_labs\n",
    "        return inputs,labels\n",
    "        \n",
    "    \n",
    "    def __iter__(self):\n",
    "        for item in (self[i] for i in range(len(self))):\n",
    "            yield item\n",
    "    \n",
    "    def on_epoch_end(self):\n",
    "        self.filenames_df = self.filenames_df.sample(frac=1).reset_index(drop=True)\n",
    "\n",
    "    def gamma_correction(self,temp_patch):\n",
    "        \n",
    "        gamma_val = np.random.choice([0,1,2])\n",
    "        if gamma_val == 0:\n",
    "            temp_patch = np.vectorize(self.gamma_dict100.get)(temp_patch.astype('int'))\n",
    "        if gamma_val == 1:\n",
    "            temp_patch = np.vectorize(self.gamma_dict115.get)(temp_patch.astype('int'))\n",
    "        if gamma_val == 2:\n",
    "            temp_patch = np.vectorize(self.gamma_dict085.get)(temp_patch.astype('int'))\n",
    "\n",
    "        return temp_patch\n",
    "    \n",
    "    def __augment(self,temp_patch):\n",
    "\n",
    "        transforms = np.random.choice(list(self.gtp_labels_dict.keys()))\n",
    "        transformations = self.gtp_labels_dict[transforms]\n",
    "        temp_patch = rotate(temp_patch,transformations[0],preserve_range=True)\n",
    "        temp_patch = warp(temp_patch,\n",
    "                          AffineTransform(matrix=np.array([[transformations[3], 0, transformations[1]],\n",
    "                                                           [0,transformations[3],  transformations[2]],\n",
    "                                                           [0,         0,                   1]])).inverse,\n",
    "                          preserve_range=True)\n",
    "            \n",
    "        if self.hor_flip:\n",
    "            if np.random.choice([True,False]):\n",
    "                temp_patch = np.flip(temp_patch,axis=2)\n",
    "\n",
    "        if np.random.choice([True,False]):\n",
    "            temp_patch = np.clip(temp_patch*np.random.choice([0.85,0.9,1.0,1.1,1.15]),0,255)\n",
    "        \n",
    "\n",
    "        return temp_patch"
   ]
  },
  {
   "cell_type": "markdown",
   "metadata": {
    "heading_collapsed": true
   },
   "source": [
    "## KneeMRI Data Gen"
   ]
  },
  {
   "cell_type": "code",
   "execution_count": 63,
   "metadata": {
    "ExecuteTime": {
     "end_time": "2021-09-29T06:17:02.971580Z",
     "start_time": "2021-09-29T06:17:02.876087Z"
    },
    "hidden": true,
    "scrolled": true
   },
   "outputs": [],
   "source": [
    "# class PPPDataGen(Sequence):\n",
    "#     def __init__(self,phase,mode,base_dir,filenames_df,preprocess_input=None,\n",
    "#                  ppp_labels_dict = PPP_LABELS,gtp_labels_dict = GTP_LABELS,\n",
    "#                  batch_size=8,num_patches = NUM_PATCHES,num_frames = NUM_FRAMES,\n",
    "#                  num_classes=NUM_CLASSES,hor_flip = True,data_aug = True):\n",
    "#         self.base_dir = base_dir\n",
    "#         #self.ph_mode_dir = base_dir+'/'+phase+'/'+mode\n",
    "#         #self.filenames = os.listdir(self.ph_mode_dir)\n",
    "#         self.phase = phase\n",
    "#         self.mode = mode\n",
    "#         self.batch_size = batch_size\n",
    "#         self.num_patches = num_patches\n",
    "#         self.num_frames = num_frames\n",
    "#         self.num_classes = num_classes\n",
    "#         self.filenames_df = filenames_df\n",
    "#         self.preprocess_input = preprocess_input\n",
    "#         self.ppp_labels_dict = ppp_labels_dict\n",
    "#         self.gtp_labels_dict = gtp_labels_dict \n",
    "#         self.hor_flip = hor_flip\n",
    "#         self.data_aug = data_aug\n",
    "        \n",
    "#         self.invGamma100 = 1.0 \n",
    "#         self.invGamma115 = 1.0/1.15\n",
    "#         self.invGamma085 = 1.0/0.85\n",
    "#         self.table100 = np.array([((k / 255.0) ** self.invGamma100) * 255 for k in np.arange(0, 256)]).astype(\"uint8\")\n",
    "#         self.table115 = np.array([((k / 255.0) ** self.invGamma115) * 255 for k in np.arange(0, 256)]).astype(\"uint8\")\n",
    "#         self.table085 = np.array([((k / 255.0) ** self.invGamma085) * 255 for k in np.arange(0, 256)]).astype(\"uint8\")\n",
    "#         self.gamma_dict100 = dict(zip(range(256),self.table100))\n",
    "#         self.gamma_dict115 = dict(zip(range(256),self.table115))\n",
    "#         self.gamma_dict085 = dict(zip(range(256),self.table085))\n",
    "        \n",
    "#         self.n = 0\n",
    "\n",
    "    \n",
    "#     def load_volume(self,mode,file_idx):\n",
    "#         filepath = self.filenames_df['volumeFilepath'].iloc[file_idx]\n",
    "#         #self.ph_mode_dir+'/'+self.filenames_df['volumeFilename'].iloc[file_idx]\n",
    "#         with open(filepath,'rb') as file_handler:\n",
    "#             npy_file = pickle.load(file_handler)\n",
    "#         return npy_file\n",
    "    \n",
    "#     def get_frames(self,mode,idx):\n",
    "#         image_volume = self.load_volume(mode,idx)\n",
    "#         tot_frames = image_volume.shape[0]\n",
    "#         frame_idxs = np.random.randint(0,tot_frames,size=1)\n",
    "#         frames = np.array(image_volume[frame_idxs,:,:])[0]\n",
    "#         #print(frames.shape)\n",
    "#         #print(frames.shape)\n",
    "#         return frames\n",
    "    \n",
    "#     def __len__(self):\n",
    "#         #return int(np.floor((len(self.filenames_df)/self.batch_size)))\n",
    "#         return len(self.filenames_df)\n",
    "    \n",
    "#     def __getitem__(self,idx):\n",
    "        \n",
    "#         #self.start_idx = idx*self.batch_size\n",
    "#         #self.end_idx = self.start_idx + self.batch_size\n",
    "\n",
    "#         #DECLARE VARIABLES\n",
    "#         batch_imgs = np.array([]).reshape((0,256,256,3))\n",
    "\n",
    "#         model1_inp = np.array([]).reshape((0,64,64,3))\n",
    "#         model2_inp = np.array([]).reshape((0,64,64,3))\n",
    "#         model3_inp = np.array([]).reshape((0,64,64,3))\n",
    "#         model4_inp = np.array([]).reshape((0,64,64,3))\n",
    "#         model5_inp = np.array([]).reshape((0,64,64,3))\n",
    "#         model6_inp = np.array([]).reshape((0,64,64,3))\n",
    "#         model7_inp = np.array([]).reshape((0,64,64,3))\n",
    "#         model8_inp = np.array([]).reshape((0,64,64,3))\n",
    "#         model9_inp = np.array([]).reshape((0,64,64,3))\n",
    "\n",
    "#         batch_labs = np.array([],dtype=np.int32)\n",
    "        \n",
    "#         #CREATE BATCH\n",
    "#         for bs in range(self.batch_size):\n",
    "#             #print(bs)\n",
    "#             #GET CLIP FRAMES\n",
    "#             file_idx = idx #self.start_idx + bs\n",
    "#             imgs = np.array([]).reshape((256,256,0))\n",
    "#             img = self.get_frames(self.mode,idx)\n",
    "#             img = resize(img, (256,256), preserve_range = True)\n",
    "#             for i in range(3):\n",
    "#                 imgs = np.append(imgs,img.reshape((256,256,1)),axis=2)\n",
    "            \n",
    "#             batch_imgs = np.append(batch_imgs,np.expand_dims(imgs,axis=0),axis=0)\n",
    "#             #print(batch_imgs.shape)\n",
    "\n",
    "#         ppp_labels = list(self.ppp_labels_dict.keys())\n",
    "#         #print(len(ppp_labels))\n",
    "#         crop_window = int(256/int(np.sqrt(self.num_patches)))\n",
    "#         crop_window_rlx = 64 ############################int(crop_window - np.ceil(0.2*float(crop_window)))\n",
    "#         eachgap = int((crop_window-crop_window_rlx)/2.)\n",
    "\n",
    "#         for i in range(batch_imgs.shape[0]):\n",
    "#             #if self.phase=='train':\n",
    "#             #    batch_imgs[i] = self.gamma_correction(batch_imgs[i])\n",
    "#             #    batch_imgs[i] = np.clip(batch_imgs[i] + np.random.normal(0,0.1,(256,256,3)),0,255)\n",
    "            \n",
    "#             #temp_patch1 = np.zeros(shape = (crop_window_rlx,crop_window_rlx,3))\n",
    "#             #temp_patch2 = np.zeros(shape = (crop_window_rlx,crop_window_rlx,3))\n",
    "#             label_idx = np.random.choice(list(range(self.num_classes)))\n",
    "#             #print(ppp_labels[label_idx])\n",
    "#             jumbling_order = list(map(int,ppp_labels[label_idx].strip('[]').split(',')))\n",
    "#             temp_batch_img = np.zeros((64,64,3))\n",
    "#             for jo in range(len(jumbling_order)):\n",
    "#                 temp_patch1 = np.zeros((crop_window_rlx,crop_window_rlx,3))\n",
    "#                 spatch_num = jumbling_order[jo]\n",
    "#                 scol_num = spatch_num%int(np.sqrt(self.num_patches))\n",
    "#                 srow_num = int(np.floor(spatch_num/int(np.sqrt(self.num_patches))))\n",
    "#                 gapx = np.random.randint(0,eachgap)\n",
    "#                 gapy = np.random.randint(0,eachgap)\n",
    "#                 sourcesx = crop_window*scol_num + gapx\n",
    "#                 sourceex = sourcesx + crop_window_rlx\n",
    "#                 sourcesy = crop_window*srow_num + gapy\n",
    "#                 sourceey = sourcesy + crop_window_rlx\n",
    "#                 #sx = np.random.choice(range(int(eachgap/4.),int(eachgap/4.)+int(eachgap/2.)))\n",
    "#                 #sy = np.random.choice(range(int(eachgap/4.),int(eachgap/4.)+int(eachgap/2.)))\n",
    "#                 #temp_patch1 = batch_imgs[i,sourcesx:sourceex,sourcesy:sourceey,:]\n",
    "\n",
    "#                 #AUGMENT FRAMES\n",
    "#                 if self.phase=='train':\n",
    "#                     temp_patch1 = self.__augment(batch_imgs[i,sourcesx:sourceex,sourcesy:sourceey,:])\n",
    "#                 else:\n",
    "#                     temp_patch1 = batch_imgs[i,sourcesx:sourceex,sourcesy:sourceey,:]\n",
    "\n",
    "#                 if jo == 0:\n",
    "#                     model1_inp = np.append(model1_inp,np.expand_dims(temp_patch1,axis=0),axis=0)\n",
    "#                 if jo == 1:\n",
    "#                     model2_inp = np.append(model2_inp,np.expand_dims(temp_patch1,axis=0),axis=0)\n",
    "#                 if jo == 2:\n",
    "#                     model3_inp = np.append(model3_inp,np.expand_dims(temp_patch1,axis=0),axis=0)\n",
    "#                 if jo == 3:\n",
    "#                     model4_inp = np.append(model4_inp,np.expand_dims(temp_patch1,axis=0),axis=0)\n",
    "#                 if jo == 4:\n",
    "#                     model5_inp = np.append(model5_inp,np.expand_dims(temp_patch1,axis=0),axis=0)\n",
    "#                 if jo == 5:\n",
    "#                     model6_inp = np.append(model6_inp,np.expand_dims(temp_patch1,axis=0),axis=0)\n",
    "#                 if jo == 6:\n",
    "#                     model7_inp = np.append(model7_inp,np.expand_dims(temp_patch1,axis=0),axis=0)\n",
    "#                 if jo == 7:\n",
    "#                     model8_inp = np.append(model8_inp,np.expand_dims(temp_patch1,axis=0),axis=0)\n",
    "#                 if jo == 8:\n",
    "#                     model9_inp = np.append(model9_inp,np.expand_dims(temp_patch1,axis=0),axis=0)\n",
    "\n",
    "\n",
    "#             batch_labs = np.append(batch_labs,int(self.ppp_labels_dict[ppp_labels[label_idx]]))\n",
    "\n",
    "\n",
    "#         #PREPROCESS FRAMES\n",
    "#         model1_inp = self.preprocess_input(model1_inp).reshape((64,64,3))\n",
    "#         model2_inp = self.preprocess_input(model2_inp).reshape((64,64,3))\n",
    "#         model3_inp = self.preprocess_input(model3_inp).reshape((64,64,3))\n",
    "#         model4_inp = self.preprocess_input(model4_inp).reshape((64,64,3))\n",
    "#         model5_inp = self.preprocess_input(model5_inp).reshape((64,64,3))\n",
    "#         model6_inp = self.preprocess_input(model6_inp).reshape((64,64,3))\n",
    "#         model7_inp = self.preprocess_input(model7_inp).reshape((64,64,3))\n",
    "#         model8_inp = self.preprocess_input(model8_inp).reshape((64,64,3))\n",
    "#         model9_inp = self.preprocess_input(model9_inp).reshape((64,64,3))\n",
    "\n",
    "#         return model1_inp,model2_inp,model3_inp,model4_inp,model5_inp,model6_inp,model7_inp,model8_inp,model9_inp,batch_labs\n",
    "    \n",
    "#     def __iter__(self):\n",
    "#         return self\n",
    "    \n",
    "#     def __next__(self):\n",
    "#         if self.n == self.__len__():\n",
    "#             self.on_epoch_end()\n",
    "#             self.n = 0\n",
    "\n",
    "#         self.n += 1\n",
    "#         return self.__getitem__(self.n - 1)\n",
    "    \n",
    "#     def __call__(self):\n",
    "#         for i in range(self.__len__()):\n",
    "#             yield self.__next__()\n",
    "    \n",
    "#     def on_epoch_end(self):\n",
    "#         self.filenames_df = self.filenames_df.sample(frac=1).reset_index(drop=True)\n",
    "\n",
    "#     def gamma_correction(self,temp_patch):\n",
    "        \n",
    "#         gamma_val = np.random.choice([0,1,2])\n",
    "#         if gamma_val == 0:\n",
    "#             temp_patch = np.vectorize(self.gamma_dict100.get)(temp_patch.astype('int'))\n",
    "#         if gamma_val == 1:\n",
    "#             temp_patch = np.vectorize(self.gamma_dict115.get)(temp_patch.astype('int'))\n",
    "#         if gamma_val == 2:\n",
    "#             temp_patch = np.vectorize(self.gamma_dict085.get)(temp_patch.astype('int'))\n",
    "\n",
    "#         return temp_patch\n",
    "    \n",
    "#     def __augment(self,temp_patch):\n",
    "\n",
    "#         transforms = np.random.choice(list(self.gtp_labels_dict.keys()))\n",
    "#         transformations = self.gtp_labels_dict[transforms]\n",
    "#         temp_patch = rotate(temp_patch,transformations[0],preserve_range=True)\n",
    "#         temp_patch = warp(temp_patch,\n",
    "#                           AffineTransform(matrix=np.array([[transformations[3], 0, transformations[1]],\n",
    "#                                                            [0,transformations[3],  transformations[2]],\n",
    "#                                                            [0,         0,                   1]])).inverse,\n",
    "#                           preserve_range=True)\n",
    "            \n",
    "#         if self.hor_flip:\n",
    "#             if np.random.choice([True,False]):\n",
    "#                 temp_patch = np.flip(temp_patch,axis=2)\n",
    "\n",
    "#         if np.random.choice([True,False]):\n",
    "#             temp_patch = np.clip(temp_patch*np.random.choice([0.85,0.9,1.0,1.1,1.15]),0,255)\n",
    "        \n",
    "\n",
    "#         return temp_patch"
   ]
  },
  {
   "cell_type": "markdown",
   "metadata": {
    "heading_collapsed": true,
    "hidden": true,
    "id": "7ZSnUdyK0H7T"
   },
   "source": [
    "### Datagen Testing"
   ]
  },
  {
   "cell_type": "code",
   "execution_count": 64,
   "metadata": {
    "ExecuteTime": {
     "end_time": "2021-09-29T06:17:03.117235Z",
     "start_time": "2021-09-29T06:17:02.973164Z"
    },
    "hidden": true,
    "id": "0zIXsRxrrB1B",
    "scrolled": true
   },
   "outputs": [],
   "source": [
    "dg = PPPDataGen('valid','sagittal',mrnet_path,val_filenames_df,preprocess_input = ppi_irv2,ppp_labels_dict = PPP_LABELS,gtp_labels_dict = GTP_LABELS,batch_size=1,num_frames = 1,num_classes=NUM_CLASSES,hor_flip = False,data_aug = True)"
   ]
  },
  {
   "cell_type": "code",
   "execution_count": 65,
   "metadata": {
    "ExecuteTime": {
     "end_time": "2021-09-29T06:17:03.271723Z",
     "start_time": "2021-09-29T06:17:03.118388Z"
    },
    "hidden": true,
    "id": "zdhcKqe80H7W",
    "scrolled": true
   },
   "outputs": [],
   "source": [
    "dl = DataLoader(dg,batch_size=16)"
   ]
  },
  {
   "cell_type": "code",
   "execution_count": 66,
   "metadata": {
    "ExecuteTime": {
     "end_time": "2021-09-29T06:17:03.529896Z",
     "start_time": "2021-09-29T06:17:03.272934Z"
    },
    "hidden": true,
    "id": "8lf8pVYgrB1J",
    "scrolled": true
   },
   "outputs": [],
   "source": [
    "for x,y in dl:\n",
    "    break"
   ]
  },
  {
   "cell_type": "code",
   "execution_count": 67,
   "metadata": {
    "ExecuteTime": {
     "end_time": "2021-09-29T06:17:03.531846Z",
     "start_time": "2021-09-29T06:17:02.014Z"
    },
    "hidden": true,
    "id": "fHz9-X2j0H7c",
    "outputId": "b2efab5d-8f1a-4cd6-94de-ed1bf20cc24a",
    "scrolled": true
   },
   "outputs": [
    {
     "name": "stdout",
     "output_type": "stream",
     "text": [
      "torch.Size([16, 9, 3, 64, 64])\n"
     ]
    }
   ],
   "source": [
    "print(x.shape)"
   ]
  },
  {
   "cell_type": "code",
   "execution_count": 80,
   "metadata": {
    "ExecuteTime": {
     "end_time": "2021-09-29T06:17:03.532442Z",
     "start_time": "2021-09-29T06:17:02.079Z"
    },
    "hidden": true,
    "id": "jWM4obhErB1H",
    "scrolled": true
   },
   "outputs": [
    {
     "data": {
      "image/png": "[encoded data removed]",
      "text/plain": [
       "<Figure size 432x288 with 1 Axes>"
      ]
     },
     "metadata": {
      "needs_background": "light"
     },
     "output_type": "display_data"
    }
   ],
   "source": [
    "samples = {}\n",
    "for i in range(10000):\n",
    "    _,t = dg.__getitem__(i)\n",
    "    #for t in gtp_labs:\n",
    "    if t not in list(samples.keys()):\n",
    "        samples[int(t)]=0\n",
    "    samples[int(t)]+=1\n",
    "plt.bar(list(samples.keys()),list(samples.values()))\n",
    "plt.show()\n"
   ]
  },
  {
   "cell_type": "code",
   "execution_count": 83,
   "metadata": {
    "ExecuteTime": {
     "end_time": "2021-09-29T06:17:03.532970Z",
     "start_time": "2021-09-29T06:17:02.139Z"
    },
    "hidden": true,
    "id": "YaPdEqpU0H7g",
    "scrolled": true
   },
   "outputs": [
    {
     "data": {
      "text/plain": [
       "0.8588235294117648"
      ]
     },
     "execution_count": 83,
     "metadata": {},
     "output_type": "execute_result"
    }
   ],
   "source": [
    "np.max(x[4][5].numpy())"
   ]
  },
  {
   "cell_type": "code",
   "execution_count": 84,
   "metadata": {
    "ExecuteTime": {
     "end_time": "2021-09-29T06:17:03.533467Z",
     "start_time": "2021-09-29T06:17:02.197Z"
    },
    "hidden": true,
    "id": "CQ0iCvpH0H7k",
    "scrolled": true
   },
   "outputs": [
    {
     "data": {
      "text/plain": [
       "0.3686156744827067"
      ]
     },
     "execution_count": 84,
     "metadata": {},
     "output_type": "execute_result"
    }
   ],
   "source": [
    "np.max(np.random.normal(0,0.1,(64,64,3)))"
   ]
  },
  {
   "cell_type": "code",
   "execution_count": 86,
   "metadata": {
    "ExecuteTime": {
     "end_time": "2021-09-29T06:17:03.534039Z",
     "start_time": "2021-09-29T06:17:02.259Z"
    },
    "hidden": true,
    "id": "YFnb6kYYPtVQ",
    "scrolled": true
   },
   "outputs": [
    {
     "data": {
      "image/png": "[encoded data removed]",
      "text/plain": [
       "<Figure size 432x288 with 1 Axes>"
      ]
     },
     "metadata": {},
     "output_type": "display_data"
    }
   ],
   "source": [
    "plt.imshow((x[4][5].numpy().transpose(1,2,0)+1)/2.0,cmap='gray')\n",
    "plt.tick_params(\n",
    "    axis='x',          # changes apply to the x-axis\n",
    "    which='both',      # both major and minor ticks are affected\n",
    "    bottom=False,      # ticks along the bottom edge are off\n",
    "    top=False,         # ticks along the top edge are off\n",
    "    labelbottom=False)\n",
    "plt.tick_params(\n",
    "    axis='y',          # changes apply to the x-axis\n",
    "    which='both',      # both major and minor ticks are affected\n",
    "    left=False,      # ticks along the bottom edge are off\n",
    "    right=False,         # ticks along the top edge are off\n",
    "    labelleft=False)"
   ]
  },
  {
   "cell_type": "code",
   "execution_count": 87,
   "metadata": {
    "ExecuteTime": {
     "end_time": "2021-09-29T06:17:03.534636Z",
     "start_time": "2021-09-29T06:17:02.319Z"
    },
    "colab": {
     "base_uri": "https://localhost:8080/",
     "height": 1000
    },
    "hidden": true,
    "id": "JMMhwb01rB1N",
    "outputId": "8532dc9b-759e-4902-d0f5-add201e22e65",
    "scrolled": false
   },
   "outputs": [
    {
     "data": {
      "image/png": "[encoded data removed]",
      "text/plain": [
       "<Figure size 648x648 with 9 Axes>"
      ]
     },
     "metadata": {
      "needs_background": "light"
     },
     "output_type": "display_data"
    }
   ],
   "source": [
    "fig,axs=plt.subplots(3,3,figsize=(9,9))\n",
    "for i in range(9):\n",
    "    axs[int(i/3),i%3].imshow((np.transpose(x[4][i].numpy())+1)/2.0,cmap='gray')\n",
    "    #axs[int(i/4),i%4].set_title(str(list(PPP_LABELS.keys())[ppp_labs[i]]))\n",
    "plt.show()"
   ]
  },
  {
   "cell_type": "code",
   "execution_count": 88,
   "metadata": {
    "ExecuteTime": {
     "end_time": "2021-09-29T06:17:03.535293Z",
     "start_time": "2021-09-29T06:17:02.377Z"
    },
    "hidden": true,
    "id": "dtja9dzO0H7r",
    "outputId": "5eb6ec25-0220-4917-9efe-ca3557e6c495",
    "scrolled": true
   },
   "outputs": [
    {
     "data": {
      "text/plain": [
       "torch.Size([16, 9, 3, 64, 64])"
      ]
     },
     "execution_count": 88,
     "metadata": {},
     "output_type": "execute_result"
    }
   ],
   "source": [
    "x.shape"
   ]
  },
  {
   "cell_type": "markdown",
   "metadata": {
    "id": "eRZ-ey1_2mPZ"
   },
   "source": [
    "## Manual Model"
   ]
  },
  {
   "cell_type": "code",
   "execution_count": 68,
   "metadata": {
    "ExecuteTime": {
     "end_time": "2021-10-02T14:41:07.855592Z",
     "start_time": "2021-10-02T14:41:07.852480Z"
    },
    "id": "2Wgq6cQy0H7t",
    "scrolled": true
   },
   "outputs": [
    {
     "name": "stdout",
     "output_type": "stream",
     "text": [
      "Global seed set to 0\n"
     ]
    }
   ],
   "source": [
    "SEED = 0\n",
    "seed_everything(SEED)"
   ]
  },
  {
   "cell_type": "code",
   "execution_count": null,
   "metadata": {
    "id": "1NP1Qmfmqcxv",
    "scrolled": true
   },
   "outputs": [],
   "source": []
  },
  {
   "cell_type": "markdown",
   "metadata": {
    "id": "FC0dXhyiqdF8"
   },
   "source": [
    "### Skip and Dim Red Block"
   ]
  },
  {
   "cell_type": "code",
   "execution_count": 69,
   "metadata": {
    "ExecuteTime": {
     "end_time": "2021-10-02T14:41:08.523418Z",
     "start_time": "2021-10-02T14:41:08.520015Z"
    },
    "scrolled": true
   },
   "outputs": [],
   "source": [
    "def conv3x3(inC,outC,stride=1,padding=1):\n",
    "    return nn.Conv2d(inC,outC,kernel_size=3,stride = stride, padding = padding)\n",
    "\n",
    "def conv1x1(inC,outC,stride=1,padding=1):\n",
    "    return nn.Conv2d(inC,outC,kernel_size=1,stride = stride, padding = padding)\n",
    "\n",
    "def norm_layer(inC):\n",
    "    return nn.BatchNorm2d(inC)\n",
    "\n",
    "def maxpool(kernel_size = 2, stride = 2):\n",
    "    return nn.MaxPool2d(kernel_size = kernel_size, stride = stride)\n",
    "\n",
    "def avgpool(output_size = 1):\n",
    "    return nn.AdaptiveAvgPool2d(output_size = output_size)"
   ]
  },
  {
   "cell_type": "code",
   "execution_count": 70,
   "metadata": {
    "ExecuteTime": {
     "end_time": "2021-10-02T14:41:11.551300Z",
     "start_time": "2021-10-02T14:41:11.542723Z"
    },
    "id": "8FcpmfrnqfC5",
    "scrolled": true
   },
   "outputs": [],
   "source": [
    "class Skip_block(nn.Module):\n",
    "    def __init__(self,inC,outC,upsample = 2,**kwargs):\n",
    "        super(Skip_block, self).__init__()\n",
    "        self.inC = inC\n",
    "        self.outC = outC\n",
    "        self.upsample = upsample\n",
    "        try:\n",
    "            self.scale  = kwargs['scale']\n",
    "        except:\n",
    "            self.scale = 1.0\n",
    "        \n",
    "        self.outC1 = self.outC//self.upsample\n",
    "        self.outC2 = self.outC\n",
    "        \n",
    "        self.conv1 = conv3x3(self.inC,self.outC1)\n",
    "        self.bn1 = norm_layer(self.outC1)\n",
    "        self.conv2 = conv3x3(self.outC1, self.outC2)\n",
    "        self.bn2 = norm_layer(self.outC2)\n",
    "        self.relu = nn.ReLU(inplace = True)\n",
    "        \n",
    "    def forward(self,x):\n",
    "        identity = x\n",
    "        \n",
    "        out = self.conv1(x)\n",
    "        out = self.bn1(out)\n",
    "        out = self.relu(out)\n",
    "        \n",
    "        out = self.conv2(out)\n",
    "        out = self.bn2(out)\n",
    "        out = self.relu(out)\n",
    "\n",
    "        #print(\"SKIP::\",out.shape)\n",
    "        out = self.scale*out + identity\n",
    "        \n",
    "        return out\n",
    "\n",
    "class Dim_Red_block(nn.Module):\n",
    "    def __init__(self,inC,outC,upsample = 1,**kwargs):\n",
    "        super(Dim_Red_block,self).__init__()\n",
    "        self.inC= inC\n",
    "        self.upsample = upsample\n",
    "        self.outC = outC\n",
    "        \n",
    "        self.outC1 = (self.outC//2)//self.upsample\n",
    "        self.outC2 = self.outC//2\n",
    "        \n",
    "        try:\n",
    "            self.downfactor = kwargs['downfactor']\n",
    "        except:\n",
    "            self.downfactor = 2\n",
    "            \n",
    "        if self.downfactor == 2:\n",
    "            self.stride1 = 1\n",
    "        elif self.downfactor == 4:\n",
    "            self.stride1 = 2\n",
    "        self.stride2 = 2\n",
    "        \n",
    "        self.conv11 = conv3x3(self.inC, self.outC1, stride = self.stride1)\n",
    "        self.bn11 = norm_layer(self.outC1)\n",
    "        self.relu11 = nn.ReLU()\n",
    "        self.conv12 = conv3x3(self.outC1, self.outC2, stride = self.stride2)\n",
    "        self.bn12 = norm_layer(self.outC2)\n",
    "        self.relu12 = nn.ReLU()\n",
    "        \n",
    "        self.downsample21 = avgpool()\n",
    "        self.conv22 = conv1x1(self.inC,self.outC2,padding = 0)\n",
    "        self.bn22 = norm_layer(self.outC2)\n",
    "        self.relu22 = nn.ReLU()\n",
    "        \n",
    "    def forward(self,x):\n",
    "        out1 = self.conv11(x)\n",
    "        out1 = self.bn11(out1)\n",
    "        out1 = self.relu11(out1)\n",
    "        #print(\"DIMRED:\",out1.shape)\n",
    "        out1 = self.conv12(out1)\n",
    "        out1 = self.bn12(out1)\n",
    "        out1 = self.relu12(out1)\n",
    "        #print(out1.shape)\n",
    "        \n",
    "        out2 = nn.AdaptiveAvgPool2d(x.shape[-1]//self.downfactor)(x)\n",
    "        out2 = self.conv22(out2)\n",
    "        out2 = self.bn22(out2)\n",
    "        out2 = self.relu22(out2)\n",
    "        #new hcnage\n",
    "        #print(out2.shape)\n",
    "        \n",
    "        out = torch.cat((out1,out2),dim=1)\n",
    "         # new change\n",
    "        return out"
   ]
  },
  {
   "cell_type": "code",
   "execution_count": 71,
   "metadata": {},
   "outputs": [],
   "source": [
    "class Conv_block(nn.Module):\n",
    "    def __init__(self,inC,outC,upsample = 1,**kwargs):\n",
    "        super(Conv_block,self).__init__()\n",
    "        self.inC = inC\n",
    "        self.outC = outC\n",
    "        self.upsample = upsample\n",
    "        self.outC1 = self.outC // upsample\n",
    "        self.outC2 = self.outC\n",
    "        \n",
    "        self.conv1 = conv3x3(self.inC,self.outC1)\n",
    "        self.bn1 = norm_layer(self.outC1)\n",
    "        self.conv2 = conv3x3(self.outC1,self.outC1)\n",
    "        self.bn2 = norm_layer(self.outC1)\n",
    "        self.conv3 = conv3x3(self.outC1,self.outC2)\n",
    "        self.bn3 = norm_layer(self.outC2)\n",
    "        self.conv4 = conv3x3(self.outC2,self.outC2)\n",
    "        self.bn4 = norm_layer(self.outC2)\n",
    "        self.relu = nn.ReLU(inplace = True)\n",
    "        self.downsample = maxpool()\n",
    "        \n",
    "    def forward(self,x):\n",
    "        out = self.conv1(x)\n",
    "        out = self.bn1(out)\n",
    "        out = self.relu(out)\n",
    "        \n",
    "        out = self.conv2(out)\n",
    "        out = self.bn2(out)\n",
    "        out = self.relu(out)\n",
    "        \n",
    "        out = self.downsample(out)\n",
    "        #print(out.shape)\n",
    "        \n",
    "        out = self.conv3(out)\n",
    "        out = self.bn3(out)\n",
    "        out = self.relu(out)\n",
    "        \n",
    "        out = self.conv4(out)\n",
    "        out = self.bn4(out)\n",
    "        out = self.relu(out)\n",
    "        \n",
    "        out = self.downsample(out)\n",
    "        #print(out.shape)\n",
    "        \n",
    "        return out"
   ]
  },
  {
   "cell_type": "markdown",
   "metadata": {
    "id": "W8w3iz5IqgSF"
   },
   "source": [
    "### Modified Model"
   ]
  },
  {
   "cell_type": "code",
   "execution_count": 72,
   "metadata": {
    "ExecuteTime": {
     "end_time": "2021-10-02T14:41:13.897564Z",
     "start_time": "2021-10-02T14:41:13.881336Z"
    },
    "code_folding": [],
    "id": "t1DUioM60H7v",
    "scrolled": true
   },
   "outputs": [],
   "source": [
    "class JPOP_net(nn.Module): \n",
    "    def __init__(self,\n",
    "                 conv_block,\n",
    "                 skip_block,\n",
    "                 dim_red_block, \n",
    "                 layer_outs, \n",
    "                 upsampling_dict, \n",
    "                 downfactor = 2, \n",
    "                 scale = 1.0, \n",
    "                 input_shape = (3,64,64), \n",
    "                 num_classes = 500\n",
    "                ):\n",
    "        super(JPOP_net,self).__init__()\n",
    "        self.conv_block = conv_block\n",
    "        self.skip_block = skip_block\n",
    "        self.dim_red_block = dim_red_block\n",
    "        self.input_shape = input_shape\n",
    "        self.inC = self.input_shape[0]\n",
    "        self.num_classes = num_classes\n",
    "        self.up_dict = upsampling_dict\n",
    "        self.downfactor = downfactor\n",
    "        self.scale = scale\n",
    "        \n",
    "        self.conv_channel1 = self._make_layer(self.conv_block,self.inC,layer_outs[0],self.up_dict['conv_block'])\n",
    "        self.conv_channel2 = self._make_layer(self.conv_block,self.inC,layer_outs[0],self.up_dict['conv_block'])\n",
    "        self.conv_channel3 = self._make_layer(self.conv_block,self.inC,layer_outs[0],self.up_dict['conv_block'])\n",
    "        self.conv_channel4 = self._make_layer(self.conv_block,self.inC,layer_outs[0],self.up_dict['conv_block'])\n",
    "        self.conv_channel5 = self._make_layer(self.conv_block,self.inC,layer_outs[0],self.up_dict['conv_block'])\n",
    "        self.conv_channel6 = self._make_layer(self.conv_block,self.inC,layer_outs[0],self.up_dict['conv_block'])\n",
    "        self.conv_channel7 = self._make_layer(self.conv_block,self.inC,layer_outs[0],self.up_dict['conv_block'])\n",
    "        self.conv_channel8 = self._make_layer(self.conv_block,self.inC,layer_outs[0],self.up_dict['conv_block'])\n",
    "        self.conv_channel9 = self._make_layer(self.conv_block,self.inC,layer_outs[0],self.up_dict['conv_block'])\n",
    "        \n",
    "        self.conv1x1layer = conv1x1(9*layer_outs[0],layer_outs[1],padding=0)\n",
    "        self.bn1x1 = norm_layer(layer_outs[1])\n",
    "        self.relu1x1 = nn.ReLU()\n",
    "        \n",
    "        self.skip_block1 = self._make_layer(self.skip_block,layer_outs[1],layer_outs[2],upsample = self.up_dict['skip1'],scale = self.scale) # conv3x3(layer_outs[1],layer_outs[3]) \n",
    "        \n",
    "        self.dim_red_block1 = self._make_layer(self.dim_red_block,layer_outs[2],layer_outs[3], upsample = self.up_dict['dimred1'],downfactor = self.downfactor) # maxpool() #\n",
    "        \n",
    "        self.skip_block2 = self._make_layer(self.skip_block,layer_outs[3],layer_outs[4],upsample = self.up_dict['skip2'],scale = self.scale) # conv3x3(layer_outs[3], layer_outs[5]) \n",
    "        \n",
    "        self.dim_red_block2 = self._make_layer(self.dim_red_block,layer_outs[4],layer_outs[5],upsample = self.up_dict['dimred2'],downfactor = self.downfactor) # maxpool() \n",
    "        \n",
    "        self.globalavgpool = avgpool(1)\n",
    "        \n",
    "        self.projector = nn.Sequential(*[nn.Linear(layer_outs[5],1024),\n",
    "                                        nn.ReLU(),\n",
    "                                        nn.Linear(1024,self.num_classes)])\n",
    "        #self.fc1 = \n",
    "        #self.fc2 = nn.Linear(1024,1024)\n",
    "        #self.output = \n",
    "\n",
    "        for m in self.modules():\n",
    "            if isinstance(m, nn.Conv2d):\n",
    "                nn.init.kaiming_normal_(m.weight, mode='fan_in', nonlinearity='relu')\n",
    "            elif isinstance(m, nn.BatchNorm2d):\n",
    "                nn.init.constant_(m.weight, 1)\n",
    "                nn.init.constant_(m.bias, 0)\n",
    "\n",
    "    \n",
    "    def _make_layer(self,block,inC,outC,upsample,**kwargs):\n",
    "        layers = [block(inC,outC,upsample,**kwargs)]\n",
    "        return nn.Sequential(*layers)\n",
    "    \n",
    "    def _forward_impl(self,x):\n",
    "        #print(x.shape,x.select(1,0).shape)\n",
    "        out1 = self.conv_channel1(x.select(1,0)) #.to(memory_format=torch.channels_last))\n",
    "        out2 = self.conv_channel2(x.select(1,1)) #.to(memory_format=torch.channels_last))\n",
    "        out3 = self.conv_channel3(x.select(1,2)) #.to(memory_format=torch.channels_last))\n",
    "        out4 = self.conv_channel4(x.select(1,3)) #.to(memory_format=torch.channels_last))\n",
    "        out5 = self.conv_channel5(x.select(1,4)) #.to(memory_format=torch.channels_last))\n",
    "        out6 = self.conv_channel6(x.select(1,5)) #.to(memory_format=torch.channels_last))\n",
    "        out7 = self.conv_channel7(x.select(1,6)) #.to(memory_format=torch.channels_last))\n",
    "        out8 = self.conv_channel8(x.select(1,7)) #.to(memory_format=torch.channels_last))\n",
    "        out9 = self.conv_channel9(x.select(1,8)) #.to(memory_format=torch.channels_last))\n",
    "        \n",
    "        out = torch.cat((out1,out2,out3,out4,out5,out6,out7,out8,out9),dim = 1)\n",
    "        #print(out.shape)\n",
    "        out = self.conv1x1layer(out)\n",
    "        out = self.bn1x1(out)\n",
    "        out = self.relu1x1(out)\n",
    "        #print(out.shape)\n",
    "        out = self.skip_block1(out)\n",
    "        #print(out.shape)\n",
    "        out = self.dim_red_block1(out)\n",
    "        out = self.skip_block2(out)\n",
    "        out = self.dim_red_block2(out)\n",
    "        \n",
    "        out = self.globalavgpool(out)\n",
    "        #print(out.shape)\n",
    "        out = torch.squeeze(out)\n",
    "        #print(out.shape)\n",
    "        out = self.projector(out)\n",
    "        #out = self.fc1(out)\n",
    "        #out = self.relu(out)\n",
    "        #print(out.shape)\n",
    "        #out = self.fc2(out)\n",
    "        #out = self.relu(out)\n",
    "        #print(out.shape)\n",
    "        #out = self.output(out)\n",
    "        \n",
    "        return out\n",
    "    \n",
    "    def forward(self,x):\n",
    "        return self._forward_impl(x)\n",
    "    \n",
    "def model(conv_block,skip_block,dim_red_block,layer_outs,upsampling_dict,\n",
    "          input_shape = (3,64,64),num_classes = 500,scale = 1.0,downfactor = 2):\n",
    "    \n",
    "    return JPOP_net(conv_block,skip_block,dim_red_block,layer_outs,upsampling_dict,\n",
    "                    downfactor = 2, scale = 0.25, input_shape = (3,64,64), num_classes = num_classes)"
   ]
  },
  {
   "cell_type": "code",
   "execution_count": null,
   "metadata": {
    "id": "0FKzZqXTQYBU",
    "scrolled": true
   },
   "outputs": [],
   "source": []
  },
  {
   "cell_type": "markdown",
   "metadata": {
    "id": "Z_8_BljLUJbd"
   },
   "source": [
    "## Manual Training Loop"
   ]
  },
  {
   "cell_type": "code",
   "execution_count": 73,
   "metadata": {
    "ExecuteTime": {
     "end_time": "2021-10-02T14:41:30.836697Z",
     "start_time": "2021-10-02T14:41:30.834514Z"
    },
    "id": "OWQhlsal0H8E",
    "scrolled": true
   },
   "outputs": [],
   "source": [
    "skidv1 = [256,1024,1024,1024,1024,4096]\n",
    "skidv2 = [256,1024,1024,2048,2048,4096]\n",
    "skidv3 = [256,1024,1024,2048,2048,4096]\n",
    "\n",
    "skidv1_upsampling_dict = {'conv_block':1,'skip1':2,'dimred1':1,'skip2':2,'dimred2':1}\n",
    "skidv2_upsampling_dict = {'conv_block':1,'skip1':2,'dimred1':1,'skip2':2,'dimred2':1}\n",
    "skidv3_upsampling_dict = {'conv_block':1,'skip1':1,'dimred1':1,'skip2':1,'dimred2':1}"
   ]
  },
  {
   "cell_type": "code",
   "execution_count": 74,
   "metadata": {
    "ExecuteTime": {
     "end_time": "2021-10-02T14:41:34.083642Z",
     "start_time": "2021-10-02T14:41:32.166561Z"
    },
    "id": "NjXouaFO0H8L",
    "scrolled": true
   },
   "outputs": [],
   "source": [
    "sag_rocket_model = model(Conv_block,\n",
    "                         Skip_block,\n",
    "                         Dim_Red_block,\n",
    "                         skidv1,\n",
    "                         skidv1_upsampling_dict, \n",
    "                         downfactor = 2, \n",
    "                         scale = 0.25, \n",
    "                         input_shape = (3,64,64), \n",
    "                         num_classes = NUM_CLASSES).cuda()\n",
    "device = torch.device(\"cuda:0\")\n"
   ]
  },
  {
   "cell_type": "code",
   "execution_count": 75,
   "metadata": {
    "ExecuteTime": {
     "end_time": "2021-10-02T14:41:36.732594Z",
     "start_time": "2021-10-02T14:41:34.085088Z"
    },
    "scrolled": true
   },
   "outputs": [],
   "source": [
    "# sag_rocket_model = nn.DataParallel(sag_rocket_model)\n",
    "# sag_rocket_model = sag_rocket_model.to(device)"
   ]
  },
  {
   "cell_type": "code",
   "execution_count": 76,
   "metadata": {
    "ExecuteTime": {
     "end_time": "2021-10-02T14:42:09.033124Z",
     "start_time": "2021-10-02T14:41:59.953252Z"
    },
    "scrolled": true
   },
   "outputs": [],
   "source": [
    "# sag_rocket_model.load_state_dict(torch.load('/home/cvpr/Documents/Siladittya/sslm_saved_models/KneeMRI_JPOP_Net_rmsprop_280921__ep959.pt')['model_state_dict'])"
   ]
  },
  {
   "cell_type": "code",
   "execution_count": 77,
   "metadata": {
    "ExecuteTime": {
     "end_time": "2021-10-02T14:42:09.038963Z",
     "start_time": "2021-10-02T14:42:09.034692Z"
    },
    "scrolled": true
   },
   "outputs": [],
   "source": [
    "# sag_rocket_model = sag_rocket_model.to(device)"
   ]
  },
  {
   "cell_type": "code",
   "execution_count": 78,
   "metadata": {},
   "outputs": [],
   "source": [
    "def count_parameters(model):\n",
    "    return sum(p.numel() for p in model.parameters() if p.requires_grad)"
   ]
  },
  {
   "cell_type": "code",
   "execution_count": 79,
   "metadata": {},
   "outputs": [
    {
     "data": {
      "text/plain": [
       "108826856"
      ]
     },
     "execution_count": 79,
     "metadata": {},
     "output_type": "execute_result"
    }
   ],
   "source": [
    "count_parameters(sag_rocket_model)"
   ]
  },
  {
   "cell_type": "code",
   "execution_count": 67,
   "metadata": {},
   "outputs": [
    {
     "name": "stdout",
     "output_type": "stream",
     "text": [
      "Collecting prettytable\n",
      "  Downloading prettytable-3.3.0-py3-none-any.whl (26 kB)\n",
      "Requirement already satisfied: wcwidth in c:\\users\\isi_uts\\anaconda3\\lib\\site-packages (from prettytable) (0.2.5)\n",
      "Installing collected packages: prettytable\n",
      "Successfully installed prettytable-3.3.0\n"
     ]
    }
   ],
   "source": [
    "# !python -m pip install prettytable"
   ]
  },
  {
   "cell_type": "code",
   "execution_count": 67,
   "metadata": {},
   "outputs": [
    {
     "name": "stdout",
     "output_type": "stream",
     "text": [
      "+--------------------------------+------------+\n",
      "|            Modules             | Parameters |\n",
      "+--------------------------------+------------+\n",
      "|  conv_channel1.0.conv1.weight  |    6912    |\n",
      "|   conv_channel1.0.conv1.bias   |    256     |\n",
      "|   conv_channel1.0.bn1.weight   |    256     |\n",
      "|    conv_channel1.0.bn1.bias    |    256     |\n",
      "|  conv_channel1.0.conv2.weight  |   589824   |\n",
      "|   conv_channel1.0.conv2.bias   |    256     |\n",
      "|   conv_channel1.0.bn2.weight   |    256     |\n",
      "|    conv_channel1.0.bn2.bias    |    256     |\n",
      "|  conv_channel1.0.conv3.weight  |   589824   |\n",
      "|   conv_channel1.0.conv3.bias   |    256     |\n",
      "|   conv_channel1.0.bn3.weight   |    256     |\n",
      "|    conv_channel1.0.bn3.bias    |    256     |\n",
      "|  conv_channel1.0.conv4.weight  |   589824   |\n",
      "|   conv_channel1.0.conv4.bias   |    256     |\n",
      "|   conv_channel1.0.bn4.weight   |    256     |\n",
      "|    conv_channel1.0.bn4.bias    |    256     |\n",
      "|  conv_channel2.0.conv1.weight  |    6912    |\n",
      "|   conv_channel2.0.conv1.bias   |    256     |\n",
      "|   conv_channel2.0.bn1.weight   |    256     |\n",
      "|    conv_channel2.0.bn1.bias    |    256     |\n",
      "|  conv_channel2.0.conv2.weight  |   589824   |\n",
      "|   conv_channel2.0.conv2.bias   |    256     |\n",
      "|   conv_channel2.0.bn2.weight   |    256     |\n",
      "|    conv_channel2.0.bn2.bias    |    256     |\n",
      "|  conv_channel2.0.conv3.weight  |   589824   |\n",
      "|   conv_channel2.0.conv3.bias   |    256     |\n",
      "|   conv_channel2.0.bn3.weight   |    256     |\n",
      "|    conv_channel2.0.bn3.bias    |    256     |\n",
      "|  conv_channel2.0.conv4.weight  |   589824   |\n",
      "|   conv_channel2.0.conv4.bias   |    256     |\n",
      "|   conv_channel2.0.bn4.weight   |    256     |\n",
      "|    conv_channel2.0.bn4.bias    |    256     |\n",
      "|  conv_channel3.0.conv1.weight  |    6912    |\n",
      "|   conv_channel3.0.conv1.bias   |    256     |\n",
      "|   conv_channel3.0.bn1.weight   |    256     |\n",
      "|    conv_channel3.0.bn1.bias    |    256     |\n",
      "|  conv_channel3.0.conv2.weight  |   589824   |\n",
      "|   conv_channel3.0.conv2.bias   |    256     |\n",
      "|   conv_channel3.0.bn2.weight   |    256     |\n",
      "|    conv_channel3.0.bn2.bias    |    256     |\n",
      "|  conv_channel3.0.conv3.weight  |   589824   |\n",
      "|   conv_channel3.0.conv3.bias   |    256     |\n",
      "|   conv_channel3.0.bn3.weight   |    256     |\n",
      "|    conv_channel3.0.bn3.bias    |    256     |\n",
      "|  conv_channel3.0.conv4.weight  |   589824   |\n",
      "|   conv_channel3.0.conv4.bias   |    256     |\n",
      "|   conv_channel3.0.bn4.weight   |    256     |\n",
      "|    conv_channel3.0.bn4.bias    |    256     |\n",
      "|  conv_channel4.0.conv1.weight  |    6912    |\n",
      "|   conv_channel4.0.conv1.bias   |    256     |\n",
      "|   conv_channel4.0.bn1.weight   |    256     |\n",
      "|    conv_channel4.0.bn1.bias    |    256     |\n",
      "|  conv_channel4.0.conv2.weight  |   589824   |\n",
      "|   conv_channel4.0.conv2.bias   |    256     |\n",
      "|   conv_channel4.0.bn2.weight   |    256     |\n",
      "|    conv_channel4.0.bn2.bias    |    256     |\n",
      "|  conv_channel4.0.conv3.weight  |   589824   |\n",
      "|   conv_channel4.0.conv3.bias   |    256     |\n",
      "|   conv_channel4.0.bn3.weight   |    256     |\n",
      "|    conv_channel4.0.bn3.bias    |    256     |\n",
      "|  conv_channel4.0.conv4.weight  |   589824   |\n",
      "|   conv_channel4.0.conv4.bias   |    256     |\n",
      "|   conv_channel4.0.bn4.weight   |    256     |\n",
      "|    conv_channel4.0.bn4.bias    |    256     |\n",
      "|  conv_channel5.0.conv1.weight  |    6912    |\n",
      "|   conv_channel5.0.conv1.bias   |    256     |\n",
      "|   conv_channel5.0.bn1.weight   |    256     |\n",
      "|    conv_channel5.0.bn1.bias    |    256     |\n",
      "|  conv_channel5.0.conv2.weight  |   589824   |\n",
      "|   conv_channel5.0.conv2.bias   |    256     |\n",
      "|   conv_channel5.0.bn2.weight   |    256     |\n",
      "|    conv_channel5.0.bn2.bias    |    256     |\n",
      "|  conv_channel5.0.conv3.weight  |   589824   |\n",
      "|   conv_channel5.0.conv3.bias   |    256     |\n",
      "|   conv_channel5.0.bn3.weight   |    256     |\n",
      "|    conv_channel5.0.bn3.bias    |    256     |\n",
      "|  conv_channel5.0.conv4.weight  |   589824   |\n",
      "|   conv_channel5.0.conv4.bias   |    256     |\n",
      "|   conv_channel5.0.bn4.weight   |    256     |\n",
      "|    conv_channel5.0.bn4.bias    |    256     |\n",
      "|  conv_channel6.0.conv1.weight  |    6912    |\n",
      "|   conv_channel6.0.conv1.bias   |    256     |\n",
      "|   conv_channel6.0.bn1.weight   |    256     |\n",
      "|    conv_channel6.0.bn1.bias    |    256     |\n",
      "|  conv_channel6.0.conv2.weight  |   589824   |\n",
      "|   conv_channel6.0.conv2.bias   |    256     |\n",
      "|   conv_channel6.0.bn2.weight   |    256     |\n",
      "|    conv_channel6.0.bn2.bias    |    256     |\n",
      "|  conv_channel6.0.conv3.weight  |   589824   |\n",
      "|   conv_channel6.0.conv3.bias   |    256     |\n",
      "|   conv_channel6.0.bn3.weight   |    256     |\n",
      "|    conv_channel6.0.bn3.bias    |    256     |\n",
      "|  conv_channel6.0.conv4.weight  |   589824   |\n",
      "|   conv_channel6.0.conv4.bias   |    256     |\n",
      "|   conv_channel6.0.bn4.weight   |    256     |\n",
      "|    conv_channel6.0.bn4.bias    |    256     |\n",
      "|  conv_channel7.0.conv1.weight  |    6912    |\n",
      "|   conv_channel7.0.conv1.bias   |    256     |\n",
      "|   conv_channel7.0.bn1.weight   |    256     |\n",
      "|    conv_channel7.0.bn1.bias    |    256     |\n",
      "|  conv_channel7.0.conv2.weight  |   589824   |\n",
      "|   conv_channel7.0.conv2.bias   |    256     |\n",
      "|   conv_channel7.0.bn2.weight   |    256     |\n",
      "|    conv_channel7.0.bn2.bias    |    256     |\n",
      "|  conv_channel7.0.conv3.weight  |   589824   |\n",
      "|   conv_channel7.0.conv3.bias   |    256     |\n",
      "|   conv_channel7.0.bn3.weight   |    256     |\n",
      "|    conv_channel7.0.bn3.bias    |    256     |\n",
      "|  conv_channel7.0.conv4.weight  |   589824   |\n",
      "|   conv_channel7.0.conv4.bias   |    256     |\n",
      "|   conv_channel7.0.bn4.weight   |    256     |\n",
      "|    conv_channel7.0.bn4.bias    |    256     |\n",
      "|  conv_channel8.0.conv1.weight  |    6912    |\n",
      "|   conv_channel8.0.conv1.bias   |    256     |\n",
      "|   conv_channel8.0.bn1.weight   |    256     |\n",
      "|    conv_channel8.0.bn1.bias    |    256     |\n",
      "|  conv_channel8.0.conv2.weight  |   589824   |\n",
      "|   conv_channel8.0.conv2.bias   |    256     |\n",
      "|   conv_channel8.0.bn2.weight   |    256     |\n",
      "|    conv_channel8.0.bn2.bias    |    256     |\n",
      "|  conv_channel8.0.conv3.weight  |   589824   |\n",
      "|   conv_channel8.0.conv3.bias   |    256     |\n",
      "|   conv_channel8.0.bn3.weight   |    256     |\n",
      "|    conv_channel8.0.bn3.bias    |    256     |\n",
      "|  conv_channel8.0.conv4.weight  |   589824   |\n",
      "|   conv_channel8.0.conv4.bias   |    256     |\n",
      "|   conv_channel8.0.bn4.weight   |    256     |\n",
      "|    conv_channel8.0.bn4.bias    |    256     |\n",
      "|  conv_channel9.0.conv1.weight  |    6912    |\n",
      "|   conv_channel9.0.conv1.bias   |    256     |\n",
      "|   conv_channel9.0.bn1.weight   |    256     |\n",
      "|    conv_channel9.0.bn1.bias    |    256     |\n",
      "|  conv_channel9.0.conv2.weight  |   589824   |\n",
      "|   conv_channel9.0.conv2.bias   |    256     |\n",
      "|   conv_channel9.0.bn2.weight   |    256     |\n",
      "|    conv_channel9.0.bn2.bias    |    256     |\n",
      "|  conv_channel9.0.conv3.weight  |   589824   |\n",
      "|   conv_channel9.0.conv3.bias   |    256     |\n",
      "|   conv_channel9.0.bn3.weight   |    256     |\n",
      "|    conv_channel9.0.bn3.bias    |    256     |\n",
      "|  conv_channel9.0.conv4.weight  |   589824   |\n",
      "|   conv_channel9.0.conv4.bias   |    256     |\n",
      "|   conv_channel9.0.bn4.weight   |    256     |\n",
      "|    conv_channel9.0.bn4.bias    |    256     |\n",
      "|      conv1x1layer.weight       |  2359296   |\n",
      "|       conv1x1layer.bias        |    1024    |\n",
      "|          bn1x1.weight          |    1024    |\n",
      "|           bn1x1.bias           |    1024    |\n",
      "|   skip_block1.0.conv1.weight   |  4718592   |\n",
      "|    skip_block1.0.conv1.bias    |    512     |\n",
      "|    skip_block1.0.bn1.weight    |    512     |\n",
      "|     skip_block1.0.bn1.bias     |    512     |\n",
      "|   skip_block1.0.conv2.weight   |  4718592   |\n",
      "|    skip_block1.0.conv2.bias    |    1024    |\n",
      "|    skip_block1.0.bn2.weight    |    1024    |\n",
      "|     skip_block1.0.bn2.bias     |    1024    |\n",
      "| dim_red_block1.0.conv11.weight |  4718592   |\n",
      "|  dim_red_block1.0.conv11.bias  |    512     |\n",
      "|  dim_red_block1.0.bn11.weight  |    512     |\n",
      "|   dim_red_block1.0.bn11.bias   |    512     |\n",
      "| dim_red_block1.0.conv12.weight |  2359296   |\n",
      "|  dim_red_block1.0.conv12.bias  |    512     |\n",
      "|  dim_red_block1.0.bn12.weight  |    512     |\n",
      "|   dim_red_block1.0.bn12.bias   |    512     |\n",
      "| dim_red_block1.0.conv22.weight |   524288   |\n",
      "|  dim_red_block1.0.conv22.bias  |    512     |\n",
      "|  dim_red_block1.0.bn22.weight  |    512     |\n",
      "|   dim_red_block1.0.bn22.bias   |    512     |\n",
      "|   skip_block2.0.conv1.weight   |  4718592   |\n",
      "|    skip_block2.0.conv1.bias    |    512     |\n",
      "|    skip_block2.0.bn1.weight    |    512     |\n",
      "|     skip_block2.0.bn1.bias     |    512     |\n",
      "|   skip_block2.0.conv2.weight   |  4718592   |\n",
      "|    skip_block2.0.conv2.bias    |    1024    |\n",
      "|    skip_block2.0.bn2.weight    |    1024    |\n",
      "|     skip_block2.0.bn2.bias     |    1024    |\n",
      "| dim_red_block2.0.conv11.weight |  18874368  |\n",
      "|  dim_red_block2.0.conv11.bias  |    2048    |\n",
      "|  dim_red_block2.0.bn11.weight  |    2048    |\n",
      "|   dim_red_block2.0.bn11.bias   |    2048    |\n",
      "| dim_red_block2.0.conv12.weight |  37748736  |\n",
      "|  dim_red_block2.0.conv12.bias  |    2048    |\n",
      "|  dim_red_block2.0.bn12.weight  |    2048    |\n",
      "|   dim_red_block2.0.bn12.bias   |    2048    |\n",
      "| dim_red_block2.0.conv22.weight |  2097152   |\n",
      "|  dim_red_block2.0.conv22.bias  |    2048    |\n",
      "|  dim_red_block2.0.bn22.weight  |    2048    |\n",
      "|   dim_red_block2.0.bn22.bias   |    2048    |\n",
      "|       projector.0.weight       |  4194304   |\n",
      "|        projector.0.bias        |    1024    |\n",
      "|       projector.2.weight       |   512000   |\n",
      "|        projector.2.bias        |    500     |\n"
     ]
    },
    {
     "name": "stdout",
     "output_type": "stream",
     "text": [
      "+--------------------------------+------------+\n",
      "Total Trainable Params: 108314356\n"
     ]
    },
    {
     "data": {
      "text/plain": [
       "108314356"
      ]
     },
     "execution_count": 67,
     "metadata": {},
     "output_type": "execute_result"
    }
   ],
   "source": [
    "from prettytable import PrettyTable\n",
    "\n",
    "def count_parameters(model):\n",
    "    table = PrettyTable([\"Modules\", \"Parameters\"])\n",
    "    total_params = 0\n",
    "    for name, parameter in model.named_parameters():\n",
    "        if not parameter.requires_grad: continue\n",
    "        params = parameter.numel()\n",
    "        table.add_row([name, params])\n",
    "        total_params+=params\n",
    "    print(table)\n",
    "    print(f\"Total Trainable Params: {total_params}\")\n",
    "    return total_params\n",
    "    \n",
    "count_parameters(sag_rocket_model)"
   ]
  },
  {
   "cell_type": "markdown",
   "metadata": {
    "id": "zlFFf5DO0H8U"
   },
   "source": [
    "## Manual Training"
   ]
  },
  {
   "cell_type": "code",
   "execution_count": 71,
   "metadata": {
    "ExecuteTime": {
     "end_time": "2021-09-17T14:12:23.937761Z",
     "start_time": "2021-09-17T14:12:23.777164Z"
    },
    "id": "eFw3yuuJ0H8U",
    "scrolled": true
   },
   "outputs": [],
   "source": [
    "# MAXLR = 0.0001\n",
    "# def LRscheduler(epoch,lr):\n",
    "#     global MAXLR\n",
    "    \n",
    "#     lr = 0.95*lr\n",
    "    \n",
    "#     epochrem = epoch%50\n",
    "#     if epochrem==0 and epoch > 1:\n",
    "#         MAXLR *= 0.25\n",
    "#         lr = MAXLR\n",
    "        \n",
    "#     if lr < 5*10**(-6):\n",
    "#         lr = 0.000005\n",
    "\n",
    "#     return lr"
   ]
  },
  {
   "cell_type": "code",
   "execution_count": 80,
   "metadata": {
    "ExecuteTime": {
     "end_time": "2021-09-29T06:21:09.970502Z",
     "start_time": "2021-09-29T06:21:09.963400Z"
    },
    "id": "MV6KnGqi0H8W",
    "scrolled": true
   },
   "outputs": [],
   "source": [
    "tdg = PPPDataGen('train',\n",
    "                 'sagittal',\n",
    "                 mrnet_path,\n",
    "                 tr_filenames_df,\n",
    "                 preprocess_input = ppi_irv2,\n",
    "                 ppp_labels_dict = PPP_LABELS,\n",
    "                 gtp_labels_dict = GTP_LABELS,\n",
    "                 batch_size=1,\n",
    "                 num_frames = 16,\n",
    "                 num_classes=NUM_CLASSES,\n",
    "                 hor_flip = False,\n",
    "                 data_aug = True, \n",
    "                 mrnet = True)\n",
    "\n",
    "vdg = PPPDataGen('valid',\n",
    "                 'sagittal',\n",
    "                 mrnet_path,\n",
    "                 val_filenames_df,\n",
    "                 preprocess_input = ppi_irv2,\n",
    "                 ppp_labels_dict = PPP_LABELS,\n",
    "                 gtp_labels_dict = GTP_LABELS,\n",
    "                 batch_size=1,\n",
    "                 num_frames = 16,\n",
    "                 num_classes=NUM_CLASSES,\n",
    "                 hor_flip = False,\n",
    "                 data_aug = False, \n",
    "                 mrnet = True)\n",
    "\n",
    "tdl = DataLoader(tdg,batch_size=16, drop_last = True)\n",
    "vdl = DataLoader(vdg,batch_size=16)"
   ]
  },
  {
   "cell_type": "code",
   "execution_count": 69,
   "metadata": {
    "ExecuteTime": {
     "end_time": "2021-09-29T06:22:08.364441Z",
     "start_time": "2021-09-29T06:22:07.657836Z"
    }
   },
   "outputs": [
    {
     "name": "stdout",
     "output_type": "stream",
     "text": [
      "torch.Size([16, 9, 3, 64, 64])\n"
     ]
    },
    {
     "data": {
      "image/png": "[encoded data removed]",
      "text/plain": [
       "<Figure size 432x288 with 1 Axes>"
      ]
     },
     "metadata": {
      "needs_background": "light"
     },
     "output_type": "display_data"
    }
   ],
   "source": [
    "for x,y in vdl:\n",
    "    print(x.shape)\n",
    "    #print(x[0,0].numpy())\n",
    "    plt.imshow((1+x[1,5].numpy().transpose((1,2,0)))/2)\n",
    "    plt.show()\n",
    "    break"
   ]
  },
  {
   "cell_type": "code",
   "execution_count": 81,
   "metadata": {
    "ExecuteTime": {
     "end_time": "2021-10-02T16:44:34.913115Z",
     "start_time": "2021-10-02T16:44:34.910478Z"
    },
    "id": "2szirohb0H8Y",
    "scrolled": true
   },
   "outputs": [],
   "source": [
    "train_loss = []\n",
    "train_acc = []\n",
    "valid_loss = []\n",
    "valid_acc = []\n",
    "n_epochs = 50\n",
    "N_train = len(tdl)\n",
    "N_valid = len(vdl)\n",
    "save_model_PATH = 'C:/Users/ISI_UTS/Siladittya/IEEE TAI/saved_models/'"
   ]
  },
  {
   "cell_type": "code",
   "execution_count": 82,
   "metadata": {
    "ExecuteTime": {
     "end_time": "2021-10-02T16:44:35.171503Z",
     "start_time": "2021-10-02T16:44:35.168303Z"
    },
    "id": "moppFdA90H8a",
    "scrolled": true
   },
   "outputs": [],
   "source": [
    "def save_model(epoch,model,optimizer,train_acc,train_loss,valid_acc,valid_loss,model_name,save_path,exp_num):\n",
    "    torch.save({'epoch': epoch,\n",
    "                'model_state_dict': model.state_dict(),\n",
    "                'optimizer_state_dict': optimizer.state_dict(),\n",
    "               'train_loss':train_loss, 'valid_loss':valid_loss,\n",
    "               'train_accuracy':train_acc,'valid_accuracy':valid_acc}, save_path+model_name+str(exp_num)+'_'+str(epoch)+'.pt')\n",
    "    return save_path+model_name+str(exp_num)+'_'+str(epoch)+'.pt'"
   ]
  },
  {
   "cell_type": "code",
   "execution_count": 83,
   "metadata": {
    "ExecuteTime": {
     "end_time": "2021-10-02T16:44:35.360852Z",
     "start_time": "2021-10-02T16:44:35.344438Z"
    },
    "id": "fu_1sTyh0H8d",
    "scrolled": true
   },
   "outputs": [],
   "source": [
    "from tabulate import tabulate \n",
    "def print_metrics(metrics):\n",
    "    cols=['Training','Validation']\n",
    "    metricskeys = list(metrics.keys())\n",
    "    table = [[mk]+metrics[mk] for mk in metricskeys]\n",
    "    table = tabulate(table,headers=cols,tablefmt='grid')\n",
    "    print(table)"
   ]
  },
  {
   "cell_type": "code",
   "execution_count": 84,
   "metadata": {
    "ExecuteTime": {
     "end_time": "2021-09-29T06:23:39.101433Z",
     "start_time": "2021-09-29T06:23:39.097868Z"
    },
    "id": "VkcVcfUZ0H8c",
    "scrolled": true
   },
   "outputs": [],
   "source": [
    "loss_fn = nn.CrossEntropyLoss()\n",
    "\n",
    "optimizer = torch.optim.RMSprop([params for params in sag_rocket_model.parameters() if params.requires_grad],lr=0.0001)"
   ]
  },
  {
   "cell_type": "code",
   "execution_count": null,
   "metadata": {},
   "outputs": [],
   "source": []
  },
  {
   "cell_type": "code",
   "execution_count": 85,
   "metadata": {},
   "outputs": [],
   "source": [
    "lr_scheduler = torch.optim.lr_scheduler.StepLR(optimizer,step_size=1,gamma=0.95,last_epoch=-1)"
   ]
  },
  {
   "cell_type": "code",
   "execution_count": null,
   "metadata": {
    "ExecuteTime": {
     "end_time": "2021-09-29T21:01:51.803138Z",
     "start_time": "2021-09-29T06:24:13.290082Z"
    },
    "colab": {
     "base_uri": "https://localhost:8080/",
     "height": 538
    },
    "id": "0nNm-Gs6JiL2",
    "outputId": "9f71a634-4721-4421-9754-04966d082f4f",
    "scrolled": true
   },
   "outputs": [
    {
     "name": "stdout",
     "output_type": "stream",
     "text": [
      "============= Epoch :   1 =============\n",
      "+----------+------------+--------------+\n",
      "|          |   Training |   Validation |\n",
      "+==========+============+==============+\n",
      "| Accuracy |   0.653097 |     0.633333 |\n",
      "+----------+------------+--------------+\n",
      "| Loss     |   6.43965  |     5.31941  |\n",
      "+----------+------------+--------------+\n",
      "Time taken for Epoch   1 : 16.447 minutes\n",
      "Saving Model...\n",
      "============= Epoch :   2 =============\n",
      "+----------+------------+--------------+\n",
      "|          |   Training |   Validation |\n",
      "+==========+============+==============+\n",
      "| Accuracy |    2.14779 |      2.04167 |\n",
      "+----------+------------+--------------+\n",
      "| Loss     |    4.55293 |      3.80505 |\n",
      "+----------+------------+--------------+\n",
      "Time taken for Epoch   2 : 16.217 minutes\n",
      "Saving Model...\n",
      "============= Epoch :   3 =============\n",
      "+----------+------------+--------------+\n",
      "|          |   Training |   Validation |\n",
      "+==========+============+==============+\n",
      "| Accuracy |    3.49027 |      3.525   |\n",
      "+----------+------------+--------------+\n",
      "| Loss     |    3.59131 |      3.15916 |\n",
      "+----------+------------+--------------+\n",
      "Time taken for Epoch   3 : 16.221 minutes\n",
      "Saving Model...\n",
      "============= Epoch :   4 =============\n",
      "+----------+------------+--------------+\n",
      "|          |   Training |   Validation |\n",
      "+==========+============+==============+\n",
      "| Accuracy |    5.03097 |      4.48333 |\n",
      "+----------+------------+--------------+\n",
      "| Loss     |    3.10222 |      2.7541  |\n",
      "+----------+------------+--------------+\n",
      "Time taken for Epoch   4 : 16.189 minutes\n",
      "Saving Model...\n",
      "============= Epoch :   5 =============\n",
      "+----------+------------+--------------+\n",
      "|          |   Training |   Validation |\n",
      "+==========+============+==============+\n",
      "| Accuracy |    6.30619 |      5.98333 |\n",
      "+----------+------------+--------------+\n",
      "| Loss     |    2.75984 |      2.4706  |\n",
      "+----------+------------+--------------+\n",
      "Time taken for Epoch   5 : 16.142 minutes\n",
      "Saving Model...\n",
      "============= Epoch :   6 =============\n",
      "+----------+------------+--------------+\n",
      "|          |   Training |   Validation |\n",
      "+==========+============+==============+\n",
      "| Accuracy |    7.32212 |      7.14167 |\n",
      "+----------+------------+--------------+\n",
      "| Loss     |    2.47453 |      2.3641  |\n",
      "+----------+------------+--------------+\n",
      "Time taken for Epoch   6 : 16.432 minutes\n",
      "Saving Model...\n",
      "============= Epoch :   7 =============\n",
      "+----------+------------+--------------+\n",
      "|          |   Training |   Validation |\n",
      "+==========+============+==============+\n",
      "| Accuracy |    8.69469 |      8.45    |\n",
      "+----------+------------+--------------+\n",
      "| Loss     |    2.27273 |      2.00792 |\n",
      "+----------+------------+--------------+\n",
      "Time taken for Epoch   7 : 16.389 minutes\n",
      "Saving Model...\n",
      "============= Epoch :   8 =============\n",
      "+----------+------------+--------------+\n",
      "|          |   Training |   Validation |\n",
      "+==========+============+==============+\n",
      "| Accuracy |    9.02301 |      8.76667 |\n",
      "+----------+------------+--------------+\n",
      "| Loss     |    2.07716 |      2.08068 |\n",
      "+----------+------------+--------------+\n",
      "Time taken for Epoch   8 : 16.358 minutes\n",
      "Saving Model...\n",
      "============= Epoch :   9 =============\n",
      "+----------+------------+--------------+\n",
      "|          |   Training |   Validation |\n",
      "+==========+============+==============+\n",
      "| Accuracy |    9.7115  |      9.50833 |\n",
      "+----------+------------+--------------+\n",
      "| Loss     |    1.93579 |      2.005   |\n",
      "+----------+------------+--------------+\n",
      "Time taken for Epoch   9 : 16.400 minutes\n",
      "Saving Model...\n",
      "============= Epoch :  10 =============\n",
      "+----------+------------+--------------+\n",
      "|          |   Training |   Validation |\n",
      "+==========+============+==============+\n",
      "| Accuracy |   10.3009  |      9.83333 |\n",
      "+----------+------------+--------------+\n",
      "| Loss     |    1.77512 |      1.9408  |\n",
      "+----------+------------+--------------+\n",
      "Time taken for Epoch  10 : 16.320 minutes\n",
      "Saving Model...\n",
      "============= Epoch :  11 =============\n",
      "+----------+------------+--------------+\n",
      "|          |   Training |   Validation |\n",
      "+==========+============+==============+\n",
      "| Accuracy |   10.6814  |     10.3333  |\n",
      "+----------+------------+--------------+\n",
      "| Loss     |    1.65286 |      1.81283 |\n",
      "+----------+------------+--------------+\n",
      "Time taken for Epoch  11 : 16.262 minutes\n",
      "Saving Model...\n",
      "============= Epoch :  12 =============\n",
      "+----------+------------+--------------+\n",
      "|          |   Training |   Validation |\n",
      "+==========+============+==============+\n",
      "| Accuracy |   11.2204  |     10.5833  |\n",
      "+----------+------------+--------------+\n",
      "| Loss     |    1.51853 |      1.86018 |\n",
      "+----------+------------+--------------+\n",
      "Time taken for Epoch  12 : 16.168 minutes\n",
      "Saving Model...\n",
      "============= Epoch :  13 =============\n",
      "+----------+------------+--------------+\n",
      "|          |   Training |   Validation |\n",
      "+==========+============+==============+\n",
      "| Accuracy |    11.2867 |     10.6833  |\n",
      "+----------+------------+--------------+\n",
      "| Loss     |     1.4112 |      1.81499 |\n",
      "+----------+------------+--------------+\n",
      "Time taken for Epoch  13 : 16.349 minutes\n",
      "Saving Model...\n",
      "============= Epoch :  14 =============\n",
      "+----------+------------+--------------+\n",
      "|          |   Training |   Validation |\n",
      "+==========+============+==============+\n",
      "| Accuracy |   11.8301  |     10.65    |\n",
      "+----------+------------+--------------+\n",
      "| Loss     |    1.32838 |      1.83911 |\n",
      "+----------+------------+--------------+\n",
      "Time taken for Epoch  14 : 16.385 minutes\n",
      "Saving Model...\n",
      "============= Epoch :  15 =============\n",
      "+----------+------------+--------------+\n",
      "|          |   Training |   Validation |\n",
      "+==========+============+==============+\n",
      "| Accuracy |   12.2876  |     11.3833  |\n",
      "+----------+------------+--------------+\n",
      "| Loss     |    1.25279 |      1.67878 |\n",
      "+----------+------------+--------------+\n",
      "Time taken for Epoch  15 : 16.319 minutes\n",
      "Saving Model...\n",
      "============= Epoch :  16 =============\n"
     ]
    }
   ],
   "source": [
    "min_loss = np.Inf\n",
    "for epoch in range(n_epochs):\n",
    "    stime = time.time()\n",
    "    print(\"============= Epoch : %3d =============\"%(epoch+1))\n",
    "    loss_sublist = []\n",
    "    acc_sublist = []\n",
    "    yhats = 0\n",
    "    correct = 0\n",
    "    sag_rocket_model.train()\n",
    "    for x,y in tdl:\n",
    "        sag_rocket_model.train()\n",
    "        x,y = x.to(device = device, dtype = torch.float),y.to(device = device)\n",
    "        optimizer.zero_grad(set_to_none = True)\n",
    "        z = sag_rocket_model(x)\n",
    "        #print(z.shape)\n",
    "        tr_loss = loss_fn(z,y)\n",
    "        tr_loss.backward()\n",
    "        optimizer.step()\n",
    "        loss_sublist.append(tr_loss.data.item())\n",
    "        \n",
    "    train_loss.append(np.mean(loss_sublist))\n",
    "    \n",
    "    loss_sublist = []\n",
    "    acc_sublist = []\n",
    "    correct = 0\n",
    "    sag_rocket_model.eval()\n",
    "    with torch.no_grad():\n",
    "        for x,y in tdl:\n",
    "            z = sag_rocket_model(x.cuda().float())\n",
    "            _,yhat = torch.max(z.data,1)\n",
    "            #yhats+=len(yhat)\n",
    "            correct +=(yhat.cpu()==y).sum().item()\n",
    "        tr_accuracy=correct/(N_train)\n",
    "    #print(len(yhats))\n",
    "    train_acc.append(tr_accuracy)\n",
    "    \n",
    "    correct = 0    \n",
    "    with torch.no_grad():\n",
    "        for x,y in vdl:\n",
    "            # x,y = x.to(device = device, dtype = torch.float),y.to(device = device)\n",
    "            z = sag_rocket_model(x.cuda().float())\n",
    "            val_loss = loss_fn(z,y.cuda())\n",
    "            loss_sublist.append(val_loss.data.item())\n",
    "\n",
    "            _,yhat = torch.max(z.data,1)\n",
    "            correct +=(yhat.cpu()==y).sum().item()\n",
    "        val_accuracy=correct/(N_valid)\n",
    "        \n",
    "    valid_acc.append(val_accuracy)    \n",
    "    valid_loss.append(np.mean(loss_sublist))\n",
    "    \n",
    "    lr_scheduler.step()\n",
    "\n",
    "    print_metrics({'Accuracy':[train_acc[-1],valid_acc[-1]],'Loss':[train_loss[-1],valid_loss[-1]]})\n",
    "    print(\"Time taken for Epoch %3d : %.3f minutes\"%(epoch+1,(time.time()-stime)/60))\n",
    "    print(\"Saving Model...\")\n",
    "    if valid_loss[-1] <= min_loss:\n",
    "        min_loss = valid_loss[-1]\n",
    "        min_val_path = save_model(epoch+1,sag_rocket_model,optimizer,train_acc,train_loss,valid_acc,valid_loss,'SKIDv1_MRNet_',save_model_PATH,1)"
   ]
  },
  {
   "cell_type": "code",
   "execution_count": 77,
   "metadata": {
    "ExecuteTime": {
     "end_time": "2021-09-28T15:10:56.456093Z",
     "start_time": "2021-09-28T15:10:56.452268Z"
    },
    "scrolled": true
   },
   "outputs": [
    {
     "name": "stdout",
     "output_type": "stream",
     "text": [
      "Wed Aug 24 19:58:12 2022       \n",
      "+-----------------------------------------------------------------------------+\n",
      "| NVIDIA-SMI 512.15       Driver Version: 512.15       CUDA Version: 11.6     |\n",
      "|-------------------------------+----------------------+----------------------+\n",
      "| GPU  Name            TCC/WDDM | Bus-Id        Disp.A | Volatile Uncorr. ECC |\n",
      "| Fan  Temp  Perf  Pwr:Usage/Cap|         Memory-Usage | GPU-Util  Compute M. |\n",
      "|                               |                      |               MIG M. |\n",
      "|===============================+======================+======================|\n",
      "|   0  NVIDIA RTX A5000   WDDM  | 00000000:01:00.0  On |                  Off |\n",
      "| 30%   41C    P8    13W / 230W |  19735MiB / 24564MiB |      0%      Default |\n",
      "|                               |                      |                  N/A |\n",
      "+-------------------------------+----------------------+----------------------+\n",
      "                                                                               \n",
      "+-----------------------------------------------------------------------------+\n",
      "| Processes:                                                                  |\n",
      "|  GPU   GI   CI        PID   Type   Process name                  GPU Memory |\n",
      "|        ID   ID                                                   Usage      |\n",
      "|=============================================================================|\n",
      "|    0   N/A  N/A      1048    C+G   ...8bbwe\\WindowsTerminal.exe    N/A      |\n",
      "|    0   N/A  N/A      1296    C+G                                   N/A      |\n",
      "|    0   N/A  N/A      2632    C+G   ...y\\ShellExperienceHost.exe    N/A      |\n",
      "|    0   N/A  N/A      7276    C+G   C:\\Windows\\explorer.exe         N/A      |\n",
      "|    0   N/A  N/A      8888    C+G   ...5n1h2txyewy\\SearchApp.exe    N/A      |\n",
      "|    0   N/A  N/A      9168    C+G                                   N/A      |\n",
      "|    0   N/A  N/A      9716    C+G   ...5n1h2txyewy\\SearchApp.exe    N/A      |\n",
      "|    0   N/A  N/A      9736    C+G   ...me\\Application\\chrome.exe    N/A      |\n",
      "|    0   N/A  N/A      9996    C+G   ...2txyewy\\TextInputHost.exe    N/A      |\n",
      "|    0   N/A  N/A     11060    C+G   ...ernet\\7.0.4\\Betternet.exe    N/A      |\n",
      "|    0   N/A  N/A     14676    C+G   ...ge\\Application\\msedge.exe    N/A      |\n",
      "|    0   N/A  N/A     14748    C+G   ...(x86)\\AnyDesk\\AnyDesk.exe    N/A      |\n",
      "|    0   N/A  N/A     16988      C   ..._UTS\\anaconda3\\python.exe    N/A      |\n",
      "+-----------------------------------------------------------------------------+\n"
     ]
    }
   ],
   "source": [
    "!nvidia-smi"
   ]
  },
  {
   "cell_type": "code",
   "execution_count": 56,
   "metadata": {
    "ExecuteTime": {
     "end_time": "2021-09-09T10:16:35.182819Z",
     "start_time": "2021-09-09T10:16:32.221351Z"
    },
    "scrolled": true
   },
   "outputs": [],
   "source": [
    "# save_model(epoch+1,sag_rocket_model,optimizer,train_acc,train_loss,valid_acc,valid_loss,'Sagittal_JPOP_Net',save_model_PATH)"
   ]
  },
  {
   "cell_type": "code",
   "execution_count": null,
   "metadata": {
    "ExecuteTime": {
     "end_time": "2021-09-30T03:37:48.424578Z",
     "start_time": "2021-09-30T03:37:48.273845Z"
    },
    "scrolled": true
   },
   "outputs": [],
   "source": [
    "plt.plot([t for t in train_acc])\n",
    "plt.plot([v for v in valid_acc])\n",
    "plt.show()"
   ]
  },
  {
   "cell_type": "code",
   "execution_count": null,
   "metadata": {
    "ExecuteTime": {
     "end_time": "2021-09-30T03:32:52.734230Z",
     "start_time": "2021-09-30T03:32:52.643697Z"
    }
   },
   "outputs": [],
   "source": [
    "plt.plot(train_loss)\n",
    "plt.plot(valid_loss)\n",
    "plt.show()"
   ]
  },
  {
   "cell_type": "markdown",
   "metadata": {
    "id": "fqMynglocLvO"
   },
   "source": [
    "# Downstream"
   ]
  },
  {
   "cell_type": "markdown",
   "metadata": {
    "id": "wb8ZxkOGwlxF"
   },
   "source": [
    "### ConvLSTM"
   ]
  },
  {
   "cell_type": "code",
   "execution_count": null,
   "metadata": {
    "ExecuteTime": {
     "end_time": "2021-10-02T14:42:20.241031Z",
     "start_time": "2021-10-02T14:42:20.235590Z"
    },
    "id": "0VJrBGUKTJ0u",
    "scrolled": true
   },
   "outputs": [],
   "source": [
    "class ConvLSTMCell(nn.Module):\n",
    "\n",
    "    def __init__(self, input_dim, hidden_dim, kernel_size, bias):\n",
    "        \"\"\"\n",
    "        Initialize ConvLSTM cell.\n",
    "        Parameters\n",
    "        ----------\n",
    "        input_dim: int\n",
    "            Number of channels of input tensor.\n",
    "        hidden_dim: int\n",
    "            Number of channels of hidden state.\n",
    "        kernel_size: (int, int)\n",
    "            Size of the convolutional kernel.\n",
    "        bias: bool\n",
    "            Whether or not to add the bias.\n",
    "        \"\"\"\n",
    "\n",
    "        super(ConvLSTMCell, self).__init__()\n",
    "\n",
    "        self.input_dim = input_dim\n",
    "        self.hidden_dim = hidden_dim\n",
    "\n",
    "        self.kernel_size = kernel_size\n",
    "        self.padding = kernel_size[0] // 2, kernel_size[1] // 2\n",
    "        self.bias = bias\n",
    "\n",
    "        self.conv = nn.Conv2d(in_channels=self.input_dim + self.hidden_dim,\n",
    "                              out_channels=4 * self.hidden_dim,\n",
    "                              kernel_size=self.kernel_size,\n",
    "                              padding=self.padding,\n",
    "                              bias=self.bias)\n",
    "        \n",
    "\n",
    "    def forward(self, input_tensor, cur_state):\n",
    "        h_cur, c_cur = cur_state\n",
    "\n",
    "        combined = torch.cat([input_tensor, h_cur], dim=1)  # concatenate along channel axis\n",
    "\n",
    "        combined_conv = self.conv(combined)\n",
    "        cc_i, cc_f, cc_o, cc_g = torch.split(combined_conv, self.hidden_dim, dim=1)\n",
    "        i = torch.sigmoid(cc_i)\n",
    "        f = torch.sigmoid(cc_f)\n",
    "        o = torch.sigmoid(cc_o)\n",
    "        g = torch.tanh(cc_g)\n",
    "\n",
    "        c_next = f * c_cur + i * g\n",
    "        h_next = o * torch.tanh(c_next)\n",
    "\n",
    "        return h_next, c_next\n",
    "\n",
    "    def init_hidden(self, batch_size, image_size):\n",
    "        height, width = image_size\n",
    "        return (torch.zeros(batch_size, self.hidden_dim, height, width, device=self.conv.weight.device),\n",
    "                torch.zeros(batch_size, self.hidden_dim, height, width, device=self.conv.weight.device))"
   ]
  },
  {
   "cell_type": "code",
   "execution_count": null,
   "metadata": {
    "ExecuteTime": {
     "end_time": "2021-10-02T14:42:22.856683Z",
     "start_time": "2021-10-02T14:42:22.854895Z"
    },
    "id": "AYHcd9qAwqXs",
    "scrolled": true
   },
   "outputs": [],
   "source": [
    "# for p in sag_rocket_model.parameters():\n",
    "#     p.requires_grad = False\n",
    "\n",
    "# sag_rocket_model.globalavgpool = nn.Identity()\n",
    "# sag_rocket_model.projector = nn.Sequential([ConvLSTM(4096, 512, 3, 1, True, True, True), ConvLSTM(512, 512, 3, 1 ,True)])\n"
   ]
  },
  {
   "cell_type": "code",
   "execution_count": null,
   "metadata": {
    "ExecuteTime": {
     "end_time": "2021-10-02T14:42:23.040150Z",
     "start_time": "2021-10-02T14:42:23.030451Z"
    },
    "id": "8iIBPE6RcKUu",
    "scrolled": true
   },
   "outputs": [],
   "source": [
    "class ConvLSTM(nn.Module):\n",
    "\n",
    "    \"\"\"\n",
    "    Parameters:\n",
    "        input_dim: Number of channels in input\n",
    "        hidden_dim: Number of hidden channels\n",
    "        kernel_size: Size of kernel in convolutions\n",
    "        num_layers: Number of LSTM layers stacked on each other\n",
    "        batch_first: Whether or not dimension 0 is the batch or not\n",
    "        bias: Bias or no bias in Convolution\n",
    "        return_all_layers: Return the list of computations for all layers\n",
    "        Note: Will do same padding.\n",
    "    Input:\n",
    "        A tensor of size B, T, C, H, W or T, B, C, H, W\n",
    "    Output:\n",
    "        A tuple of two lists of length num_layers (or length 1 if return_all_layers is False).\n",
    "            0 - layer_output_list is the list of lists of length T of each output\n",
    "            1 - last_state_list is the list of last states\n",
    "                    each element of the list is a tuple (h, c) for hidden state and memory\n",
    "    Example:\n",
    "        >> x = torch.rand((32, 10, 64, 128, 128))\n",
    "        >> convlstm = ConvLSTM(64, 16, 3, 1, True, True, False)\n",
    "        >> _, last_states = convlstm(x)\n",
    "        >> h = last_states[0][0]  # 0 for layer index, 0 for h index\n",
    "    \"\"\"\n",
    "\n",
    "    def __init__(self, input_dim, hidden_dim, kernel_size, num_layers,\n",
    "                 batch_first=False, bias=True, return_all_layers=False):\n",
    "        super(ConvLSTM, self).__init__()\n",
    "\n",
    "        self._check_kernel_size_consistency(kernel_size)\n",
    "\n",
    "        # Make sure that both `kernel_size` and `hidden_dim` are lists having len == num_layers\n",
    "        kernel_size = self._extend_for_multilayer(kernel_size, num_layers)\n",
    "        hidden_dim = self._extend_for_multilayer(hidden_dim, num_layers)\n",
    "        if not len(kernel_size) == len(hidden_dim) == num_layers:\n",
    "            raise ValueError('Inconsistent list length.')\n",
    "\n",
    "        self.input_dim = input_dim\n",
    "        self.hidden_dim = hidden_dim\n",
    "        self.kernel_size = kernel_size\n",
    "        self.num_layers = num_layers\n",
    "        self.batch_first = batch_first\n",
    "        self.bias = bias\n",
    "        self.return_all_layers = return_all_layers\n",
    "\n",
    "        cell_list = []\n",
    "        for i in range(0, self.num_layers):\n",
    "            cur_input_dim = self.input_dim if i == 0 else self.hidden_dim[i - 1]\n",
    "\n",
    "            cell_list.append(ConvLSTMCell(input_dim=cur_input_dim,\n",
    "                                          hidden_dim=self.hidden_dim[i],\n",
    "                                          kernel_size=self.kernel_size[i],\n",
    "                                          bias=self.bias))\n",
    "\n",
    "        self.cell_list = nn.ModuleList(cell_list)\n",
    "\n",
    "    def forward(self, input_tensor, hidden_state=None):\n",
    "        \"\"\"\n",
    "        Parameters\n",
    "        ----------\n",
    "        input_tensor: todo\n",
    "            5-D Tensor either of shape (t, b, c, h, w) or (b, t, c, h, w)\n",
    "        hidden_state: todo\n",
    "            None. todo implement stateful\n",
    "        Returns\n",
    "        -------\n",
    "        last_state_list, layer_output\n",
    "        \"\"\"\n",
    "        if not self.batch_first:\n",
    "            # (t, b, c, h, w) -> (b, t, c, h, w)\n",
    "            input_tensor = input_tensor.permute(1, 0, 2, 3, 4)\n",
    "\n",
    "        b, _, _, h, w = input_tensor.size()\n",
    "\n",
    "        # Implement stateful ConvLSTM\n",
    "        if hidden_state is not None:\n",
    "            raise NotImplementedError()\n",
    "        else:\n",
    "            # Since the init is done in forward. Can send image size here\n",
    "            hidden_state = self._init_hidden(batch_size=b,\n",
    "                                             image_size=(h, w))\n",
    "\n",
    "        layer_output_list = []\n",
    "        last_state_list = []\n",
    "\n",
    "        seq_len = input_tensor.size(1)\n",
    "        cur_layer_input = input_tensor\n",
    "\n",
    "        for layer_idx in range(self.num_layers):\n",
    "\n",
    "            h, c = hidden_state[layer_idx]\n",
    "            output_inner = []\n",
    "            for t in range(seq_len):\n",
    "                h, c = self.cell_list[layer_idx](input_tensor=cur_layer_input[:, t, :, :, :],\n",
    "                                                 cur_state=[h, c])\n",
    "                output_inner.append(h)\n",
    "\n",
    "            layer_output = torch.stack(output_inner, dim=1)\n",
    "            cur_layer_input = layer_output\n",
    "\n",
    "            layer_output_list.append(layer_output)\n",
    "            last_state_list.append([h, c])\n",
    "\n",
    "        if not self.return_all_layers:\n",
    "            layer_output_list = layer_output_list[-1:]\n",
    "            last_state_list = last_state_list[-1:]\n",
    "\n",
    "        return layer_output_list, last_state_list\n",
    "\n",
    "    def _init_hidden(self, batch_size, image_size):\n",
    "        init_states = []\n",
    "        for i in range(self.num_layers):\n",
    "            init_states.append(self.cell_list[i].init_hidden(batch_size, image_size))\n",
    "        return init_states\n",
    "\n",
    "    @staticmethod\n",
    "    def _check_kernel_size_consistency(kernel_size):\n",
    "        if not (isinstance(kernel_size, tuple) or\n",
    "                (isinstance(kernel_size, list) and all([isinstance(elem, tuple) for elem in kernel_size]))):\n",
    "            raise ValueError('`kernel_size` must be tuple or list of tuples')\n",
    "\n",
    "    @staticmethod\n",
    "    def _extend_for_multilayer(param, num_layers):\n",
    "        if not isinstance(param, list):\n",
    "            param = [param] * num_layers\n",
    "        return param"
   ]
  },
  {
   "cell_type": "markdown",
   "metadata": {
    "id": "g1gis8YIwoOB"
   },
   "source": [
    "### DS Model"
   ]
  },
  {
   "cell_type": "code",
   "execution_count": null,
   "metadata": {
    "ExecuteTime": {
     "end_time": "2021-10-02T14:42:30.231543Z",
     "start_time": "2021-10-02T14:42:30.227427Z"
    },
    "scrolled": true
   },
   "outputs": [],
   "source": [
    "class DSModel(nn.Module):\n",
    "    def __init__(self, premodel, num_classes):\n",
    "        super().__init__()\n",
    "        self.premodel = premodel.cuda()\n",
    "        for p in self.premodel.parameters():\n",
    "            p.requires_grad = False\n",
    "        \n",
    "        self.num_classes = num_classes\n",
    "        \n",
    "        self.premodel.globalavgpool = nn.Identity()\n",
    "        self.premodel.projector = nn.Identity()\n",
    "\n",
    "        self.convlstm2d_1 = ConvLSTM(4096, 512, (3,3), 1, True).cuda()\n",
    "        self.convlstm2d_2 = ConvLSTM(512, 512, (3,3), 1 ,True).cuda()\n",
    "        self.gap = nn.AdaptiveAvgPool2d(1).cuda()\n",
    "        self.fc = nn.Linear(512,self.num_classes).cuda()\n",
    "        #self.relu = nn.ReLU().to('cuda:1')\n",
    "        #self.sigmoid = nn.Sigmoid().to('cuda:1')\n",
    "\n",
    "    def forward(self,x):\n",
    "        x = self.premodel(x)\n",
    "        #print(x.shape)\n",
    "        x = x.unsqueeze(0)\n",
    "        #print(x.shape)\n",
    "        x,_ = self.convlstm2d_1(x)\n",
    "        x,_ = self.convlstm2d_2(x[0])\n",
    "        #print(len(x),x[0].shape)\n",
    "        x = x[0][-1][-1]\n",
    "        #print(x.shape, x[-1].shape)\n",
    "        #print(x.shape)\n",
    "        x = torch.squeeze(self.gap(x)).unsqueeze(0)\n",
    "        x = self.fc(x)\n",
    "        #x = self.sigmoid(x)\n",
    "        return x"
   ]
  },
  {
   "cell_type": "code",
   "execution_count": null,
   "metadata": {
    "ExecuteTime": {
     "end_time": "2021-09-17T11:53:25.959610Z",
     "start_time": "2021-09-17T11:53:25.937733Z"
    },
    "scrolled": true
   },
   "outputs": [],
   "source": [
    "# for n, p in dsmodel.premodel.module.named_parameters():\n",
    "#     print(n, p.requires_grad)\n",
    "    "
   ]
  },
  {
   "cell_type": "code",
   "execution_count": null,
   "metadata": {
    "ExecuteTime": {
     "end_time": "2021-09-09T11:41:09.803127Z",
     "start_time": "2021-09-09T11:41:09.798989Z"
    },
    "scrolled": true
   },
   "outputs": [],
   "source": [
    "# dsmodel.premodel.module"
   ]
  },
  {
   "cell_type": "markdown",
   "metadata": {
    "id": "Z7lcjU9qcdDo"
   },
   "source": [
    "### Class weights"
   ]
  },
  {
   "cell_type": "code",
   "execution_count": null,
   "metadata": {
    "ExecuteTime": {
     "end_time": "2021-09-24T09:56:40.607468Z",
     "start_time": "2021-09-24T09:56:40.602802Z"
    },
    "scrolled": true
   },
   "outputs": [],
   "source": [
    "# #np.unique(inference_df['aclDiagnosis'].values)\n",
    "# kneemri2 = np.count_nonzero(train_df['aclDiagnosis'].values==2)\n",
    "# kneemri1 = np.count_nonzero(train_df['aclDiagnosis'].values==1)\n",
    "# kneemri0 = np.count_nonzero(train_df['aclDiagnosis'].values==0)\n",
    "# print(kneemri2, kneemri1, kneemri0)\n",
    "\n",
    "# cw = np.array([[kneemri0, kneemri1, kneemri2]])\n",
    "# cw = cw/np.sum(cw,axis =1 , keepdims = True)\n",
    "# cw = 1/cw\n",
    "# cw = cw/np.min(cw, axis = 1, keepdims = True)\n",
    "# print(cw)"
   ]
  },
  {
   "cell_type": "code",
   "execution_count": null,
   "metadata": {},
   "outputs": [],
   "source": []
  },
  {
   "cell_type": "code",
   "execution_count": null,
   "metadata": {
    "ExecuteTime": {
     "end_time": "2021-09-21T15:39:27.621264Z",
     "start_time": "2021-09-21T15:39:27.369933Z"
    },
    "id": "7UUBtcBhcdDo",
    "outputId": "2c82e70f-5976-44a3-d476-cd57212af125",
    "scrolled": true
   },
   "outputs": [],
   "source": [
    "abnNUM_1 = np.count_nonzero(tr_multilabel['abn']==1)\n",
    "abnNUM_0 = np.count_nonzero(tr_multilabel['abn']==0)\n",
    "print(abnNUM_1,abnNUM_0)\n",
    "aclNUM_1 = np.count_nonzero(tr_multilabel['acl']==1)\n",
    "aclNUM_0 = np.count_nonzero(tr_multilabel['acl']==0)\n",
    "print(aclNUM_1,aclNUM_0)\n",
    "menNUM_1 = np.count_nonzero(tr_multilabel['men']==1)\n",
    "menNUM_0 = np.count_nonzero(tr_multilabel['men']==0)\n",
    "print(menNUM_1,menNUM_0)"
   ]
  },
  {
   "cell_type": "code",
   "execution_count": null,
   "metadata": {
    "ExecuteTime": {
     "end_time": "2021-09-21T13:14:23.481487Z",
     "start_time": "2021-09-21T13:14:23.477996Z"
    },
    "id": "zPZ8BJPqcdDo",
    "outputId": "b4bcde0f-32d5-40ad-f75b-7d004a9667e6",
    "scrolled": true
   },
   "outputs": [],
   "source": [
    "cw = np.array([[abnNUM_1,abnNUM_0],[aclNUM_1,aclNUM_0],[menNUM_1,menNUM_0]])\n",
    "cw = cw/np.sum(cw,axis=1,keepdims=True)\n",
    "#cw *= 2\n",
    "cw = 1/cw\n",
    "cw = cw/np.min(cw,axis=1,keepdims=True)\n",
    "print(cw)"
   ]
  },
  {
   "cell_type": "code",
   "execution_count": 96,
   "metadata": {
    "ExecuteTime": {
     "end_time": "2021-09-21T13:14:25.663115Z",
     "start_time": "2021-09-21T13:14:25.660323Z"
    },
    "scrolled": true
   },
   "outputs": [],
   "source": [
    "# cw = cw[1,:]\n",
    "# print(cw)"
   ]
  },
  {
   "cell_type": "code",
   "execution_count": 97,
   "metadata": {
    "ExecuteTime": {
     "end_time": "2021-09-21T13:14:26.667253Z",
     "start_time": "2021-09-21T13:14:26.184331Z"
    },
    "id": "d_BOF1WZcdDp",
    "outputId": "29ffb564-6f84-4949-eeac-a5b1eda89d09",
    "scrolled": true
   },
   "outputs": [
    {
     "name": "stdout",
     "output_type": "stream",
     "text": [
      "0.1\n"
     ]
    },
    {
     "data": {
      "text/plain": [
       "<matplotlib.legend.Legend at 0x21accb0cca0>"
      ]
     },
     "execution_count": 97,
     "metadata": {},
     "output_type": "execute_result"
    },
    {
     "data": {
      "image/png": "[encoded data removed]",
      "text/plain": [
       "<Figure size 432x288 with 1 Axes>"
      ]
     },
     "metadata": {
      "needs_background": "light"
     },
     "output_type": "display_data"
    }
   ],
   "source": [
    "fig, ax = plt.subplots()\n",
    "\n",
    "abn_heights, abn_bins = np.histogram(tr_multilabel['abn'],bins=[-0.5,0.5,1.5])\n",
    "acl_heights, acl_bins = np.histogram(tr_multilabel['acl'], bins=abn_bins)\n",
    "men_heights, men_bins = np.histogram(tr_multilabel['men'], bins=acl_bins)\n",
    "\n",
    "width = (abn_bins[1] - abn_bins[0])/10.0\n",
    "print(width)\n",
    "\n",
    "ax.bar(abn_bins[:-1]-width+0.5, abn_heights, width=width, facecolor='red')\n",
    "ax.bar(acl_bins[:-1]+0.5, acl_heights, width=width, facecolor='blue')\n",
    "ax.bar(men_bins[:-1]+width+0.5, men_heights, width=width, facecolor='yellow')\n",
    "\n",
    "ax.legend(['Abnormality','ACL Tear','Meniscus Tear'])"
   ]
  },
  {
   "cell_type": "markdown",
   "metadata": {
    "id": "Xc58ht7sklB0"
   },
   "source": [
    "## DS Datagen"
   ]
  },
  {
   "cell_type": "code",
   "execution_count": 76,
   "metadata": {
    "ExecuteTime": {
     "end_time": "2021-10-02T14:42:43.995668Z",
     "start_time": "2021-10-02T14:42:43.993791Z"
    },
    "id": "bda9I7udcdDp",
    "scrolled": true
   },
   "outputs": [],
   "source": [
    "NUM_FRAMES = 16\n",
    "NUM_CLASSES = 3"
   ]
  },
  {
   "cell_type": "code",
   "execution_count": 77,
   "metadata": {
    "ExecuteTime": {
     "end_time": "2021-10-02T14:42:44.717778Z",
     "start_time": "2021-10-02T14:42:44.716008Z"
    },
    "scrolled": true
   },
   "outputs": [],
   "source": [
    "# filepath = inference_df['volumeFilepath'].iloc[0]\n",
    "# with open(filepath,'rb') as file_handler:\n",
    "#     npy_file = pickle.load(file_handler)\n",
    "#     print(npy_file.shape)"
   ]
  },
  {
   "cell_type": "code",
   "execution_count": null,
   "metadata": {
    "ExecuteTime": {
     "end_time": "2021-10-02T14:42:44.962776Z",
     "start_time": "2021-10-02T14:42:44.945866Z"
    },
    "id": "G5WZEdA3nOOu",
    "scrolled": true
   },
   "outputs": [],
   "source": [
    "def ppi_irv2(x):\n",
    "    x /= 127.5\n",
    "    x -= 1.\n",
    "    return x\n",
    "\n",
    "class DSDataGen(Dataset):\n",
    "    def __init__(self, phase, injury, mode, base_dir, labs_df, filenames_df, preprocess_input = None, \n",
    "                 batch_size=1, data_aug = True, num_frames = NUM_FRAMES, num_classes=NUM_CLASSES, mrnet = True):\n",
    "        self.base_dir = base_dir\n",
    "        self.ph_mode_dir = base_dir +'/'+phase\n",
    "        #self.filenames = os.listdir(self.ph_mode_dir)\n",
    "        self.phase = phase\n",
    "        self.batch_size = batch_size\n",
    "        self.num_frames = num_frames\n",
    "        self.num_classes = num_classes\n",
    "        self.filenames_df = filenames_df\n",
    "        self.preprocess_input = preprocess_input\n",
    "        #self.pretext_model = pretext_model\n",
    "        self.MAX_FRAMES = num_frames #NUM_FRAMES\n",
    "         \n",
    "        self.mode = mode #['sagittal','coronal','axial']\n",
    "\n",
    "        self.mllabs = labs_df\n",
    "\n",
    "        self.indices = list(range(self.filenames_df.shape[0]))\n",
    "        \n",
    "        self.data_aug = data_aug\n",
    "        \n",
    "        self.startind = 0\n",
    "        self.endind = self.startind + self.batch_size\n",
    "        \n",
    "        self.invGamma100 = 1.0 \n",
    "        self.invGamma115 = 1.0/1.15\n",
    "        self.invGamma085 = 1.0/0.85\n",
    "        self.table100 = np.array([((k / 255.0) ** self.invGamma100) * 255 for k in np.arange(0, 256)]).astype(\"uint8\")\n",
    "        self.table115 = np.array([((k / 255.0) ** self.invGamma115) * 255 for k in np.arange(0, 256)]).astype(\"uint8\")\n",
    "        self.table085 = np.array([((k / 255.0) ** self.invGamma085) * 255 for k in np.arange(0, 256)]).astype(\"uint8\")\n",
    "        self.gamma_dict100 = dict(zip(range(256),self.table100))\n",
    "        self.gamma_dict115 = dict(zip(range(256),self.table115))\n",
    "        self.gamma_dict085 = dict(zip(range(256),self.table085))\n",
    "        \n",
    "        self.mrnet = mrnet\n",
    "        \n",
    "        if self.mrnet:\n",
    "            self.injury = injury #['abn','acl','men']\n",
    "        else:\n",
    "            self.injury = injury #['aclDiagnosis']\n",
    "\n",
    "    def get_random_shuffle_order(self,batch_sz):\n",
    "        blist = list(range(batch_sz))\n",
    "        random.shuffle(blist)\n",
    "        #print(blist)\n",
    "        return blist\n",
    "    \n",
    "    def load_volume(self,mode,file_idx):\n",
    "        \n",
    "        if self.mrnet:\n",
    "            filePoolLen = self.filenames_df.shape[0]\n",
    "            #print(file_idx)\n",
    "            #file_idx = file_idx%filePoolLen \n",
    "            npy_file = np.load(self.ph_mode_dir+'/'+mode+'/'+self.filenames_df['filename'].iloc[file_idx])\n",
    "        \n",
    "        else:\n",
    "            filepath = self.filenames_df['volumeFilepath'].iloc[file_idx]\n",
    "            #self.ph_mode_dir+'/'+self.filenames_df['volumeFilename'].iloc[file_idx]\n",
    "            with open(filepath,'rb') as file_handler:\n",
    "                npy_file = pickle.load(file_handler)\n",
    "        \n",
    "        return npy_file\n",
    "    \n",
    "    def get_frames(self,mode,idx):\n",
    "        image_volume = self.load_volume(mode,idx)\n",
    "        tot_frames = image_volume.shape[0]\n",
    "        #print(tot_frames)\n",
    "        if tot_frames < self.MAX_FRAMES:\n",
    "            self.num_frames = tot_frames\n",
    "            frame_idxs = np.array(list(range(self.num_frames)))\n",
    "        else:\n",
    "            self.num_frames = self.MAX_FRAMES\n",
    "            #self.num_frames = 9*int(np.floor(self.num_frames/9.))\n",
    "            #print(frame_idxs.shape)\n",
    "            lnum_frames = int(self.num_frames//3)//2\n",
    "            rnum_frames = int(self.num_frames//3)//2\n",
    "            mnum_frames = int(2*self.num_frames//3)\n",
    "            ltot_frames = int(tot_frames//3)//2\n",
    "            rtot_frames = int(tot_frames//3)//2\n",
    "            mtot_frames = int(2*tot_frames//3)\n",
    "\n",
    "            #print(lnum_frames,mnum_frames,rnum_frames)\n",
    "            #print(ltot_frames,mtot_frames,rtot_frames)\n",
    "\n",
    "            frame_idxs = random.sample(list(range(ltot_frames)),lnum_frames)\\\n",
    "                        +random.sample(list(range(ltot_frames,ltot_frames+mtot_frames)),mnum_frames)\\\n",
    "                        +random.sample(list(range(ltot_frames+mtot_frames,ltot_frames+mtot_frames+rtot_frames)),rnum_frames)\n",
    "\n",
    "            #print(frame_idxs)\n",
    "            #ONLY FOR STANFORD MODEL\n",
    "            frame_idxs = np.array(sorted(frame_idxs))\n",
    "\n",
    "        frames = np.array([]).reshape((0,256,256,3))\n",
    "        for n in range(frame_idxs.shape[0]):\n",
    "            frame_idx = frame_idxs[n]\n",
    "            frame = np.array(image_volume[frame_idx,:,:])\n",
    "            \n",
    "            if not self.mrnet:\n",
    "                if np.max(frame) > 0.0:\n",
    "                    frame = 255*(frame/np.max(frame))\n",
    "                else:\n",
    "                    frame = np.zeros(frame.shape, dtype = np.float32)\n",
    "                #print(frame)\n",
    "                frame = resize(frame, (256,256), preserve_range = True)\n",
    "                \n",
    "            frame = np.expand_dims(frame,axis=2)\n",
    "            frame = np.append(frame,np.append(frame,frame,axis=2),axis=2)\n",
    "            \n",
    "            frames = np.append(frames,np.expand_dims(frame,axis=0),axis=0)\n",
    "        #print(frames.shape)\n",
    "        return frames\n",
    "    \n",
    "    def __len__(self):\n",
    "        return len(self.filenames_df)\n",
    "    \n",
    "    def __getitem__(self,idx):\n",
    "        \n",
    "        #DECLARE VARIABLES\n",
    "        # idx = idx%8\n",
    "        batch_imgs = np.array([]).reshape((0,256,256,3))\n",
    "        \n",
    "        ds_batch_labs = self.mllabs[self.injury].iloc[idx].values.reshape(-1)\n",
    "        \n",
    "        #GET CLIP FRAMES\n",
    "        batch_imgs = np.append(batch_imgs,self.get_frames(self.mode,idx),axis=0)\n",
    "\n",
    "        sind = 0\n",
    "        eind = 0\n",
    "        tot_frames = batch_imgs.shape[0]\n",
    "\n",
    "        #AUGMENT FRAMES\n",
    "        if self.data_aug and self.phase == 'train':\n",
    "            batch_imgs = self.__augment(batch_imgs)\n",
    "\n",
    "        #PREPROCESS FRAMES\n",
    "        batch_imgs = self.preprocess_input(batch_imgs)\n",
    "        batch_imgs = np.transpose(batch_imgs,(0,3,1,2))\n",
    "        #sagittal_rocket_imgs[i] = np.clip(sagittal_rocket_imgs[i] + np.random.normal(0,0.01,sagittal_rocket_imgs[i].shape),0,1.0)\n",
    "        pre_inputs = np.repeat(np.expand_dims(batch_imgs,1),9,1)\n",
    "        #inputs = self.pretext_model(pre_inputs)\n",
    "        #inputs = tf.reshape(inputs,(1,16,16,16,256))\n",
    "                    \n",
    "        return pre_inputs, ds_batch_labs \n",
    "    \n",
    "    def on_epoch_end(self):\n",
    "        idx = np.random.permutation(self.filenames_df.index.values)\n",
    "        self.mllabs = self.mllabs.reindex(idx)\n",
    "        self.filenames_df = self.filenames_df.reindex(idx)\n",
    "        self.mllabs = self.mllabs.reset_index(drop=True)\n",
    "        self.filenames_df = self.filenames_df.reset_index(drop=True)\n",
    "        \n",
    "    def gamma_correction(self,temp_patch):\n",
    "        \n",
    "        gamma_val = np.random.choice([0,1,2])\n",
    "        if gamma_val == 0:\n",
    "            temp_patch = np.vectorize(self.gamma_dict100.get)(temp_patch.astype('int'))\n",
    "        if gamma_val == 1:\n",
    "            temp_patch = np.vectorize(self.gamma_dict115.get)(temp_patch.astype('int'))\n",
    "        if gamma_val == 2:\n",
    "            temp_patch = np.vectorize(self.gamma_dict085.get)(temp_patch.astype('int'))\n",
    "\n",
    "        return temp_patch\n",
    "    \n",
    "    def __augment(self,batch_imgs):\n",
    "        num_imgs = batch_imgs.shape[0]\n",
    "        #rotang = np.random.choice([-20,0,20])\n",
    "        scale = np.random.choice([1,1.15])\n",
    "        transformation_matrix=np.array([[scale,           0,             np.random.choice([-15,0,15])],\n",
    "                                        [0,               scale,         np.random.choice([-15,0,15])],\n",
    "                                        [0,               0,                       1                 ]])\n",
    "        for i in range(num_imgs):\n",
    "            #batch_imgs[i] = rotate(batch_imgs[i],rotang,preserve_range=True)\n",
    "            batch_imgs[i] = warp(batch_imgs[i], AffineTransform(matrix=transformation_matrix).inverse, preserve_range=True)\n",
    "            #print(batch_labs)\n",
    "                \n",
    "        return batch_imgs"
   ]
  },
  {
   "cell_type": "code",
   "execution_count": 79,
   "metadata": {
    "ExecuteTime": {
     "end_time": "2021-09-25T04:29:47.369720Z",
     "start_time": "2021-09-25T04:29:47.367386Z"
    }
   },
   "outputs": [],
   "source": [
    "# NUM_1 = np.count_nonzero(tr_multilabel['acl']==1)\n",
    "# NUM_0 = np.count_nonzero(tr_multilabel['acl']==0)\n",
    "# min_class = np.argmin(np.array([NUM_0,NUM_1]))\n",
    "# if int(min_class) == 0:\n",
    "#     gapnum = (1130-NUM_0)-NUM_0\n",
    "#     INDICES = tr_multilabel[tr_multilabel['acl']==0].index.values\n",
    "#     INDICES = np.random.choice(list(INDICES),gapnum)\n",
    "# else:\n",
    "#     gapnum = (1130-NUM_1)-NUM_1\n",
    "#     INDICES = tr_multilabel[tr_multilabel['acl']==1].index.values\n",
    "#     INDICES = np.random.choice(list(INDICES),gapnum)\n",
    "    \n",
    "# tr_acl_multilabel = tr_multilabel.append(tr_multilabel.iloc[INDICES,:],ignore_index=True)\n",
    "# tr_acl_filenames_df = tr_filenames_df.append(tr_filenames_df.iloc[INDICES,:],ignore_index=True)\n",
    "\n",
    "# idx = np.random.permutation(tr_acl_filenames_df.index.values)\n",
    "# tr_acl_multilabel = tr_acl_multilabel.reindex(idx)\n",
    "# tr_acl_filenames_df = tr_acl_filenames_df.reindex(idx)\n",
    "# tr_acl_multilabel = tr_acl_multilabel.reset_index(drop=True)\n",
    "# tr_acl_filenames_df = tr_acl_filenames_df.reset_index(drop=True)\n",
    "\n",
    "# print(len(tr_acl_multilabel))\n",
    "# print(len(tr_acl_filenames_df))"
   ]
  },
  {
   "cell_type": "code",
   "execution_count": 80,
   "metadata": {
    "ExecuteTime": {
     "end_time": "2021-09-25T04:29:47.666239Z",
     "start_time": "2021-09-25T04:29:47.664196Z"
    }
   },
   "outputs": [],
   "source": [
    "# NUM_1 = np.count_nonzero(train_df['aclDiagnosis']==1)\n",
    "# NUM_0 = np.count_nonzero(train_df['aclDiagnosis']==0)\n",
    "# min_class = np.argmin(np.array([NUM_0,NUM_1]))\n",
    "# if int(min_class) == 0:\n",
    "#     gapnum = (len(train_df)-NUM_0)-NUM_0\n",
    "#     INDICES = train_df[train_df['aclDiagnosis']==0].index.values\n",
    "#     INDICES = np.random.choice(list(INDICES),gapnum)\n",
    "# else:\n",
    "#     gapnum = (len(train_df)-NUM_1)-NUM_1\n",
    "#     INDICES = train_df[train_df['aclDiagnosis']==1].index.values\n",
    "#     INDICES = np.random.choice(list(INDICES),gapnum)\n",
    "    \n",
    "# train_acl_df = train_df.append(train_df.iloc[INDICES,:],ignore_index=True)\n",
    "# train_acl_df = train_df.append(train_df.iloc[INDICES,:],ignore_index=True)\n",
    "\n",
    "# idx = np.random.permutation(train_acl_df.index.values)\n",
    "# train_acl_df = train_acl_df.reindex(idx)\n",
    "# #train_acl_df = train_acl_df.reindex(idx)\n",
    "# train_acl_df = train_acl_df.reset_index(drop=True)\n",
    "# #tr_acl_filenames_df = tr_acl_filenames_df.reset_index(drop=True)\n",
    "\n",
    "# #print(len(tr_acl_multilabel))\n",
    "# print(len(train_acl_df))"
   ]
  },
  {
   "cell_type": "code",
   "execution_count": 81,
   "metadata": {
    "ExecuteTime": {
     "end_time": "2021-10-02T14:43:19.594410Z",
     "start_time": "2021-10-02T14:43:19.585380Z"
    }
   },
   "outputs": [],
   "source": [
    "# #NUM_2 = np.count_nonzero(train_df['aclDiagnosis']==2)\n",
    "# NUM_1 = np.count_nonzero(train_df['aclDiagnosis']==1)\n",
    "# NUM_0 = np.count_nonzero(train_df['aclDiagnosis']==0)\n",
    "# max_class = np.argmin(np.array([NUM_0,NUM_1])) #,NUM_2]))\n",
    "\n",
    "# gapnum = NUM_0-NUM_1\n",
    "# INDICES = train_df[train_df['aclDiagnosis']==1].index.values\n",
    "# INDICES = np.random.choice(list(INDICES),gapnum)\n",
    "# train_acl_df = train_df.append(train_df.iloc[INDICES,:],ignore_index=True)\n",
    "# train_acl_df = train_df.append(train_df.iloc[INDICES,:],ignore_index=True)\n",
    "\n",
    "# # gapnum = NUM_0-NUM_2\n",
    "# # INDICES = train_df[train_df['aclDiagnosis']==2].index.values\n",
    "# # INDICES = np.random.choice(list(INDICES),gapnum)\n",
    "# # train_acl_df = train_acl_df.append(train_df.iloc[INDICES,:],ignore_index=True)\n",
    "# # train_acl_df = train_acl_df.append(train_df.iloc[INDICES,:],ignore_index=True)\n",
    "\n",
    "# idx = np.random.permutation(train_acl_df.index.values)\n",
    "# train_acl_df = train_acl_df.reindex(idx)\n",
    "# #train_acl_df = train_acl_df.reindex(idx)\n",
    "# train_acl_df = train_acl_df.reset_index(drop=True)\n",
    "# #tr_acl_filenames_df = tr_acl_filenames_df.reset_index(drop=True)\n",
    "\n",
    "# #print(len(tr_acl_multilabel))\n",
    "# print(len(train_acl_df))"
   ]
  },
  {
   "cell_type": "code",
   "execution_count": 82,
   "metadata": {
    "ExecuteTime": {
     "end_time": "2021-10-02T14:44:11.890904Z",
     "start_time": "2021-10-02T14:44:11.699747Z"
    }
   },
   "outputs": [
    {
     "ename": "NameError",
     "evalue": "name 'train_acl_df' is not defined",
     "output_type": "error",
     "traceback": [
      "\u001b[1;31m---------------------------------------------------------------------------\u001b[0m",
      "\u001b[1;31mNameError\u001b[0m                                 Traceback (most recent call last)",
      "\u001b[1;32m~\\AppData\\Local\\Temp/ipykernel_7324/2177811609.py\u001b[0m in \u001b[0;36m<module>\u001b[1;34m\u001b[0m\n\u001b[1;32m----> 1\u001b[1;33m \u001b[0mplt\u001b[0m\u001b[1;33m.\u001b[0m\u001b[0mhist\u001b[0m\u001b[1;33m(\u001b[0m\u001b[0mtrain_acl_df\u001b[0m\u001b[1;33m[\u001b[0m\u001b[1;34m'aclDiagnosis'\u001b[0m\u001b[1;33m]\u001b[0m\u001b[1;33m.\u001b[0m\u001b[0mvalues\u001b[0m\u001b[1;33m)\u001b[0m\u001b[1;33m\u001b[0m\u001b[1;33m\u001b[0m\u001b[0m\n\u001b[0m",
      "\u001b[1;31mNameError\u001b[0m: name 'train_acl_df' is not defined"
     ]
    }
   ],
   "source": [
    "# plt.hist(train_acl_df['aclDiagnosis'].values)"
   ]
  },
  {
   "cell_type": "code",
   "execution_count": null,
   "metadata": {
    "ExecuteTime": {
     "end_time": "2021-10-02T14:45:03.442240Z",
     "start_time": "2021-10-02T14:45:03.434825Z"
    },
    "id": "1Xn-q91tk2X5",
    "scrolled": true
   },
   "outputs": [],
   "source": [
    "mrnetclasses = ['abn','acl','men']\n",
    "kneemriclasses = ['aclDiagnosis']\n",
    "tdg = DSDataGen('train', mrnetclasses, 'sagittal',\n",
    "                mrnet_path, tr_multilabel, tr_filenames_df, \n",
    "                preprocess_input = ppi_irv2,\n",
    "                batch_size=1, num_frames = 16,\n",
    "                num_classes=NUM_CLASSES,\n",
    "                data_aug = True, mrnet = True)\n",
    "vdg = DSDataGen('valid', mrnetclasses, 'sagittal',\n",
    "                mrnet_path, val_multilabel, val_filenames_df,\n",
    "                preprocess_input = ppi_irv2,\n",
    "                batch_size=1, num_frames = 16,\n",
    "                num_classes=NUM_CLASSES,\n",
    "                data_aug = False, mrnet = True)"
   ]
  },
  {
   "cell_type": "code",
   "execution_count": null,
   "metadata": {
    "ExecuteTime": {
     "end_time": "2021-10-02T14:45:06.089291Z",
     "start_time": "2021-10-02T14:45:06.086777Z"
    },
    "id": "14VsHtCucKXk",
    "scrolled": true
   },
   "outputs": [],
   "source": [
    "tdl = DataLoader(tdg, batch_size = 1)\n",
    "vdl = DataLoader(vdg, batch_size = 1)"
   ]
  },
  {
   "cell_type": "code",
   "execution_count": null,
   "metadata": {
    "ExecuteTime": {
     "end_time": "2021-10-02T14:45:06.290042Z",
     "start_time": "2021-10-02T14:45:06.287507Z"
    },
    "scrolled": false
   },
   "outputs": [],
   "source": [
    "N_train = len(tdl)\n",
    "N_valid = len(vdl)"
   ]
  },
  {
   "cell_type": "code",
   "execution_count": null,
   "metadata": {
    "ExecuteTime": {
     "end_time": "2021-10-02T14:45:08.514857Z",
     "start_time": "2021-10-02T14:45:08.512884Z"
    },
    "scrolled": true
   },
   "outputs": [],
   "source": [
    "# sag_rocket_model"
   ]
  },
  {
   "cell_type": "code",
   "execution_count": null,
   "metadata": {
    "ExecuteTime": {
     "end_time": "2021-10-02T14:45:12.922296Z",
     "start_time": "2021-10-02T14:45:10.074237Z"
    },
    "scrolled": true
   },
   "outputs": [],
   "source": [
    "sag_rocket_model.load_state_dict(torch.load(min_val_path)['model_state_dict'], strict = False)"
   ]
  },
  {
   "cell_type": "code",
   "execution_count": null,
   "metadata": {},
   "outputs": [],
   "source": [
    "dsmodel = DSModel(sag_rocket_model, 3)"
   ]
  },
  {
   "cell_type": "code",
   "execution_count": null,
   "metadata": {},
   "outputs": [],
   "source": [
    "cw"
   ]
  },
  {
   "cell_type": "code",
   "execution_count": null,
   "metadata": {
    "ExecuteTime": {
     "end_time": "2021-09-20T06:55:36.811661Z",
     "start_time": "2021-09-20T06:55:36.710524Z"
    },
    "scrolled": true
   },
   "outputs": [],
   "source": [
    "pos_wts = torch.from_numpy(np.array(cw[:,0]).reshape((-1,1))).to('cuda:0')\n",
    "pos_wts.requires_grad = False\n",
    "neg_wts = torch.from_numpy(np.array(cw[:,1]).reshape((-1,1))).to('cuda:0')\n",
    "neg_wts.requires_grad = False"
   ]
  },
  {
   "cell_type": "code",
   "execution_count": null,
   "metadata": {
    "ExecuteTime": {
     "end_time": "2021-09-20T06:55:36.919527Z",
     "start_time": "2021-09-20T06:55:36.812873Z"
    },
    "scrolled": true
   },
   "outputs": [],
   "source": [
    "def weighted_bce_loss(y_pred, y_true):\n",
    "    \n",
    "    #print(pos_wts, neg_wts)\n",
    "    loss = - torch.mul(torch.mul(pos_wts, y_true), torch.log(y_pred))\n",
    "    loss = loss - torch.mul(torch.mul(neg_wts, 1 - y_true), torch.log(1 - y_pred))\n",
    "    loss = loss.sum()\n",
    "    return loss\n",
    "\n",
    "loss_fn = weighted_bce_loss"
   ]
  },
  {
   "cell_type": "code",
   "execution_count": null,
   "metadata": {
    "ExecuteTime": {
     "end_time": "2021-09-24T09:57:54.586058Z",
     "start_time": "2021-09-24T09:57:54.583521Z"
    },
    "scrolled": true
   },
   "outputs": [],
   "source": [
    "cw = torch.from_numpy(cw).reshape((-1,3)).to(device = 'cuda:0', dtype = torch.float)\n",
    "cw.requires_grad = False"
   ]
  },
  {
   "cell_type": "code",
   "execution_count": null,
   "metadata": {
    "ExecuteTime": {
     "end_time": "2021-09-24T09:57:55.380420Z",
     "start_time": "2021-09-24T09:57:55.375845Z"
    }
   },
   "outputs": [],
   "source": [
    "cw"
   ]
  },
  {
   "cell_type": "code",
   "execution_count": null,
   "metadata": {
    "ExecuteTime": {
     "end_time": "2021-10-02T14:45:21.069298Z",
     "start_time": "2021-10-02T14:45:21.065826Z"
    },
    "id": "HZ3MaMpFcKan",
    "scrolled": true
   },
   "outputs": [],
   "source": [
    "loss_fn = nn.BCEWithLogitsLoss().to('cuda:0') #nn.CrossEntropyLoss().to('cuda:1') #\n",
    "\n",
    "optimizer = torch.optim.RMSprop([params for params in dsmodel.parameters() if params.requires_grad],lr=0.00001)\n",
    "\n",
    "lr_scheduler = torch.optim.lr_scheduler.StepLR(optimizer,step_size=1,gamma=0.95,last_epoch=-1)"
   ]
  },
  {
   "cell_type": "code",
   "execution_count": 112,
   "metadata": {},
   "outputs": [],
   "source": [
    "import torchinfo"
   ]
  },
  {
   "cell_type": "code",
   "execution_count": 115,
   "metadata": {},
   "outputs": [],
   "source": [
    "# torchinfo.summary(dsmodel, (16, 9, 3, 64, 64))"
   ]
  },
  {
   "cell_type": "code",
   "execution_count": null,
   "metadata": {},
   "outputs": [],
   "source": [
    "train_loss = []\n",
    "valid_loss = []\n",
    "train_acc = []\n",
    "valid_acc = []"
   ]
  },
  {
   "cell_type": "code",
   "execution_count": 132,
   "metadata": {},
   "outputs": [
    {
     "data": {
      "text/plain": [
       "960"
      ]
     },
     "execution_count": 132,
     "metadata": {},
     "output_type": "execute_result"
    }
   ],
   "source": [
    "N_valid"
   ]
  },
  {
   "cell_type": "code",
   "execution_count": null,
   "metadata": {},
   "outputs": [],
   "source": [
    "save_model_PATH = 'C:/Users/ISI_UTS/Siladittya/IEEE TAI/saved_models/'"
   ]
  },
  {
   "cell_type": "code",
   "execution_count": null,
   "metadata": {},
   "outputs": [],
   "source": [
    "min_loss = np.Inf"
   ]
  },
  {
   "cell_type": "code",
   "execution_count": null,
   "metadata": {
    "ExecuteTime": {
     "end_time": "2021-10-03T06:38:26.210854Z",
     "start_time": "2021-10-02T16:44:52.770679Z"
    },
    "id": "fb7R1gapcKdf",
    "scrolled": true
   },
   "outputs": [],
   "source": [
    "for epoch in range(20):\n",
    "    stime = time.time()\n",
    "    print(\"============= Epoch : %3d =============\"%(epoch+1))\n",
    "    loss_sublist = []\n",
    "    acc_sublist = []\n",
    "    yhats = 0\n",
    "    correct = 0\n",
    "    #sag_rocket_model.train()\n",
    "    for x,y in tdl:\n",
    "        #print(y)\n",
    "        dsmodel.train()\n",
    "        x,y = x.to(device = 'cuda:0', dtype = torch.float),y.to(device = 'cuda:0', dtype = torch.float)\n",
    "        x = x.squeeze(0)\n",
    "        optimizer.zero_grad(set_to_none = True)\n",
    "        z = dsmodel(x)\n",
    "        #print(z,y)\n",
    "        tr_loss = loss_fn(z,y)#.view(-1))\n",
    "        #print(tr_loss)\n",
    "        tr_loss.backward()\n",
    "        optimizer.step()\n",
    "        loss_sublist.append(tr_loss.data.item())\n",
    "         \n",
    "    train_loss.append(np.mean(loss_sublist))\n",
    "    \n",
    "    loss_sublist = []\n",
    "    acc_sublist = []\n",
    "    correct = 0\n",
    "    dsmodel.eval()\n",
    "    with torch.no_grad():\n",
    "        for x,y in tdl:\n",
    "            x,y = x.to(device = 'cuda:0', dtype = torch.float),y.to(device = 'cuda:0', dtype = torch.float)\n",
    "            x = x.squeeze(0)\n",
    "            z = dsmodel(x)\n",
    "            tr_loss = loss_fn(z,y)#.view(-1))\n",
    "            loss_sublist.append(tr_loss.data.item())\n",
    "\n",
    "            #_,yhat = torch.max(z.data,1)\n",
    "            yhat = (z.data>=0.5)\n",
    "            correct +=(yhat==y).sum().item()\n",
    "        accuracy=correct/(3*N_train)\n",
    "        \n",
    "    train_acc.append(accuracy)\n",
    "        \n",
    "    loss_sublist = []\n",
    "    acc_sublist = []\n",
    "    correct = 0\n",
    "    with torch.no_grad():\n",
    "        for x,y in vdl:\n",
    "            x,y = x.to(device = 'cuda:0', dtype = torch.float),y.to(device = 'cuda:0', dtype = torch.float)\n",
    "            x = x.squeeze(0)\n",
    "            z = dsmodel(x)\n",
    "            val_loss = loss_fn(z,y)#.view(-1))\n",
    "            loss_sublist.append(val_loss.data.item())\n",
    "\n",
    "            #_,yhat = torch.max(z.data,1)\n",
    "            yhat = (z.data>=0.5)\n",
    "            correct +=(yhat==y).sum().item()\n",
    "        accuracy=correct/(3*N_valid)\n",
    "        \n",
    "    valid_acc.append(accuracy)    \n",
    "    valid_loss.append(np.mean(loss_sublist))\n",
    "    \n",
    "    lr_scheduler.step()\n",
    "    \n",
    "    tdg.on_epoch_end()\n",
    "\n",
    "    print_metrics({'Accuracy':[train_acc[-1],valid_acc[-1]],'Loss':[train_loss[-1],valid_loss[-1]]})\n",
    "    print(\"Time taken for Epoch %3d : %.3f minutes\"%(epoch+1,(time.time()-stime)/60))\n",
    "    print(\"Saving Model...\")\n",
    "    if valid_loss[-1] <= min_loss:\n",
    "        min_loss = valid_loss[-1]\n",
    "        min_val_path = save_model(epoch+1,dsmodel,optimizer,train_acc,train_loss,valid_acc,valid_loss,'SKIDv1_MRNet_DS_',save_model_PATH+'/',1)"
   ]
  },
  {
   "cell_type": "code",
   "execution_count": 60,
   "metadata": {
    "ExecuteTime": {
     "end_time": "2021-09-25T02:06:45.718996Z",
     "start_time": "2021-09-25T02:06:45.710782Z"
    },
    "scrolled": true
   },
   "outputs": [
    {
     "data": {
      "text/plain": [
       "tensor([[3.9177]], device='cuda:1', grad_fn=<AddmmBackward>)"
      ]
     },
     "execution_count": 60,
     "metadata": {},
     "output_type": "execute_result"
    }
   ],
   "source": [
    "z"
   ]
  },
  {
   "cell_type": "code",
   "execution_count": 122,
   "metadata": {},
   "outputs": [],
   "source": [
    "# save_model(epoch+1,dsmodel,optimizer,train_acc,train_loss,valid_acc,valid_loss,'SKIDv1_MRNet_DS_',save_model_PATH+'/',1)"
   ]
  },
  {
   "cell_type": "code",
   "execution_count": 146,
   "metadata": {
    "ExecuteTime": {
     "end_time": "2021-10-03T06:49:28.722533Z",
     "start_time": "2021-10-03T06:49:28.611667Z"
    },
    "scrolled": false
   },
   "outputs": [
    {
     "data": {
      "text/plain": [
       "<matplotlib.legend.Legend at 0x21acca06c40>"
      ]
     },
     "execution_count": 146,
     "metadata": {},
     "output_type": "execute_result"
    },
    {
     "data": {
      "image/png": "[encoded data removed]",
      "text/plain": [
       "<Figure size 432x288 with 1 Axes>"
      ]
     },
     "metadata": {
      "needs_background": "light"
     },
     "output_type": "display_data"
    }
   ],
   "source": [
    "plt.plot([t for t in train_loss])\n",
    "plt.plot([v for v in valid_loss])\n",
    "plt.legend(['train','valid'])"
   ]
  },
  {
   "cell_type": "code",
   "execution_count": null,
   "metadata": {
    "ExecuteTime": {
     "end_time": "2021-10-03T06:53:07.803476Z",
     "start_time": "2021-10-03T06:53:06.685443Z"
    },
    "scrolled": true
   },
   "outputs": [],
   "source": [
    "dsmodel.load_state_dict(torch.load(min_val_path)['model_state_dict'])"
   ]
  },
  {
   "cell_type": "code",
   "execution_count": null,
   "metadata": {
    "ExecuteTime": {
     "end_time": "2021-09-23T07:56:33.748393Z",
     "start_time": "2021-09-23T07:36:08.989224Z"
    },
    "id": "rV_Z0DgrcKgW",
    "scrolled": true
   },
   "outputs": [],
   "source": [
    "preds = np.zeros((120,3))#.reshape((0,3))\n",
    "gt = val_multilabel[['abn','acl','men']].values#np.array([]).reshape((0,3))\n",
    "correct = 0\n",
    "dsmodel.eval()\n",
    "with torch.no_grad():\n",
    "    for i in range(8):\n",
    "        j=0\n",
    "        for x,y in vdl:\n",
    "            x,y = x.to(device = 'cuda:0', dtype = torch.float),y.to(device = 'cuda:0', dtype = torch.float)\n",
    "            x = x.squeeze(0)\n",
    "            z = dsmodel(x)\n",
    "            preds[j] = preds[j] + z.detach().cpu().numpy() #p.append(preds,z.detach().cpu().numpy(), axis = 0)\n",
    "            j+=1\n",
    "            #gt = np.append(gt,y.cpu().numpy(), axis = 0)\n",
    "            #val_loss = loss_fn(z,y)"
   ]
  },
  {
   "cell_type": "code",
   "execution_count": null,
   "metadata": {
    "ExecuteTime": {
     "end_time": "2021-09-23T07:56:33.751526Z",
     "start_time": "2021-09-23T07:56:33.749800Z"
    },
    "scrolled": true
   },
   "outputs": [],
   "source": [
    "preds = preds/8"
   ]
  },
  {
   "cell_type": "code",
   "execution_count": null,
   "metadata": {
    "ExecuteTime": {
     "end_time": "2021-09-23T07:56:33.841808Z",
     "start_time": "2021-09-23T07:56:33.752901Z"
    },
    "scrolled": true
   },
   "outputs": [],
   "source": [
    "#preds"
   ]
  },
  {
   "cell_type": "code",
   "execution_count": null,
   "metadata": {
    "ExecuteTime": {
     "end_time": "2021-09-23T07:56:34.156998Z",
     "start_time": "2021-09-23T07:56:33.843301Z"
    },
    "id": "9P7oZq1ZcKjC",
    "scrolled": true
   },
   "outputs": [],
   "source": [
    "get_performance_metrics(gt, preds, ['ABN','ACL','MEN'])"
   ]
  },
  {
   "cell_type": "code",
   "execution_count": null,
   "metadata": {
    "ExecuteTime": {
     "end_time": "2021-09-23T07:56:34.696988Z",
     "start_time": "2021-09-23T07:56:34.158439Z"
    },
    "scrolled": true
   },
   "outputs": [],
   "source": [
    "get_confidence_intervals(gt,preds, ['ABN','ACL','MEN'])"
   ]
  },
  {
   "cell_type": "code",
   "execution_count": null,
   "metadata": {
    "ExecuteTime": {
     "end_time": "2021-09-23T07:56:34.842301Z",
     "start_time": "2021-09-23T07:56:34.698137Z"
    },
    "id": "pdDhuXZbcKnV",
    "scrolled": true
   },
   "outputs": [],
   "source": [
    "get_roc_curve(gt, preds, ['ABN','ACL','MEN'])"
   ]
  },
  {
   "cell_type": "code",
   "execution_count": 63,
   "metadata": {
    "ExecuteTime": {
     "end_time": "2021-09-12T03:51:08.353130Z",
     "start_time": "2021-09-12T03:51:08.350680Z"
    },
    "scrolled": true
   },
   "outputs": [],
   "source": [
    "np.save('mm_sagittal_preds.npy', preds)"
   ]
  },
  {
   "cell_type": "code",
   "execution_count": 61,
   "metadata": {
    "ExecuteTime": {
     "end_time": "2021-10-03T06:53:22.474288Z",
     "start_time": "2021-10-03T06:53:22.469883Z"
    },
    "scrolled": true
   },
   "outputs": [],
   "source": [
    "tsdg = DSDataGen('', kneemriclasses, 'sagittal',\n",
    "                kneemri_path, test_df, test_df,\n",
    "                preprocess_input = ppi_irv2,\n",
    "                batch_size=1, num_frames = 16,\n",
    "                num_classes=NUM_CLASSES,\n",
    "                data_aug = False,\n",
    "                mrnet = False)\n",
    "tsdl = DataLoader(tsdg, batch_size = 1)"
   ]
  },
  {
   "cell_type": "code",
   "execution_count": 62,
   "metadata": {
    "ExecuteTime": {
     "end_time": "2021-10-03T07:29:30.480797Z",
     "start_time": "2021-10-03T06:54:34.039019Z"
    }
   },
   "outputs": [],
   "source": [
    "preds = np.zeros((len(test_df),1)) #3))#.reshape((0,3))\n",
    "gt = test_df[['aclDiagnosis']].values \n",
    "#nn.functional.one_hot(torch.from_numpy(test_df[['aclDiagnosis']].values),3)#np.array([]).reshape((0,3))\n",
    "correct = 0\n",
    "softmax = nn.Sigmoid().to('cuda:1') #nn.Softmax(dim=1).to('cuda:1') #\n",
    "dsmodel.eval()\n",
    "with torch.no_grad():\n",
    "    for i in range(8):\n",
    "        j=0\n",
    "        for x,y in tsdl:\n",
    "            x,y = x.to(device = 'cuda:0', dtype = torch.float),y.to(device = 'cuda:1', dtype = torch.float)\n",
    "            x = x.squeeze(0)\n",
    "            z = dsmodel(x)\n",
    "            z = softmax(z)\n",
    "            preds[j] = preds[j] + z.detach().cpu().numpy() #p.append(preds,z.detach().cpu().numpy(), axis = 0)\n",
    "            j+=1\n",
    "            #gt = np.append(gt,y.cpu().numpy(), axis = 0)\n",
    "            #val_loss = loss_fn(z,y)\n",
    "    preds = preds/8\n",
    "    #_, preds = torch.max(preds, 1)"
   ]
  },
  {
   "cell_type": "code",
   "execution_count": 105,
   "metadata": {
    "ExecuteTime": {
     "end_time": "2021-10-02T09:06:19.352492Z",
     "start_time": "2021-10-02T09:06:19.350114Z"
    }
   },
   "outputs": [],
   "source": [
    "_, preds = torch.max(torch.from_numpy(preds), 1)"
   ]
  },
  {
   "cell_type": "code",
   "execution_count": 98,
   "metadata": {
    "ExecuteTime": {
     "end_time": "2021-10-02T08:23:23.021100Z",
     "start_time": "2021-10-02T08:23:23.016718Z"
    }
   },
   "outputs": [
    {
     "data": {
      "text/plain": [
       "tensor([0, 0, 0, 0, 0, 0, 0, 0, 1, 0, 0, 0, 0, 0, 0, 0, 0, 0, 0, 0, 0, 1, 0, 1,\n",
       "        1, 0, 0, 0, 1, 0, 2, 0, 2, 0, 0, 0, 0, 0, 0, 0, 0, 0, 0, 2, 0, 0, 0, 0,\n",
       "        0, 0, 2, 2, 0, 0, 0, 0, 0, 0, 1, 0, 0, 0, 0, 0, 0, 0, 0, 1, 1, 0, 0, 1,\n",
       "        0, 0, 0, 0, 0, 1, 2, 0, 0, 0, 0, 1, 0, 1, 0, 0, 1, 0, 0, 0, 0, 0, 0, 0,\n",
       "        0, 0, 0, 0, 2, 0, 0, 0, 0, 1, 0, 0, 0, 0, 0, 0, 0, 2, 0, 1, 0, 0, 0, 0,\n",
       "        0, 0, 0, 0, 0, 0, 0, 0, 0, 2, 0, 0, 0, 1, 0, 0, 0, 0, 0, 0, 0, 0, 0, 0,\n",
       "        0, 0, 0, 0, 0, 0, 0, 0, 0, 0, 0, 0, 0, 1, 0, 0, 0, 0, 0, 0, 0, 2, 0, 1,\n",
       "        0, 2, 0, 0, 0, 0, 0, 0, 0, 0, 0, 2, 1, 0, 0, 0, 0, 0, 0, 1])"
      ]
     },
     "execution_count": 98,
     "metadata": {},
     "output_type": "execute_result"
    }
   ],
   "source": [
    "preds"
   ]
  },
  {
   "cell_type": "code",
   "execution_count": 100,
   "metadata": {
    "ExecuteTime": {
     "end_time": "2021-10-02T08:23:41.849520Z",
     "start_time": "2021-10-02T08:23:41.844606Z"
    }
   },
   "outputs": [
    {
     "data": {
      "text/plain": [
       "array([[0],\n",
       "       [1],\n",
       "       [0],\n",
       "       [1],\n",
       "       [0],\n",
       "       [0],\n",
       "       [0],\n",
       "       [0],\n",
       "       [2],\n",
       "       [0],\n",
       "       [0],\n",
       "       [0],\n",
       "       [0],\n",
       "       [0],\n",
       "       [1],\n",
       "       [1],\n",
       "       [0],\n",
       "       [2],\n",
       "       [0],\n",
       "       [0],\n",
       "       [1],\n",
       "       [1],\n",
       "       [0],\n",
       "       [1],\n",
       "       [2],\n",
       "       [0],\n",
       "       [0],\n",
       "       [0],\n",
       "       [0],\n",
       "       [0],\n",
       "       [1],\n",
       "       [0],\n",
       "       [2],\n",
       "       [0],\n",
       "       [0],\n",
       "       [0],\n",
       "       [0],\n",
       "       [0],\n",
       "       [1],\n",
       "       [0],\n",
       "       [0],\n",
       "       [0],\n",
       "       [0],\n",
       "       [1],\n",
       "       [0],\n",
       "       [0],\n",
       "       [1],\n",
       "       [0],\n",
       "       [0],\n",
       "       [1],\n",
       "       [1],\n",
       "       [0],\n",
       "       [0],\n",
       "       [0],\n",
       "       [0],\n",
       "       [1],\n",
       "       [0],\n",
       "       [0],\n",
       "       [2],\n",
       "       [1],\n",
       "       [0],\n",
       "       [0],\n",
       "       [0],\n",
       "       [1],\n",
       "       [0],\n",
       "       [0],\n",
       "       [0],\n",
       "       [0],\n",
       "       [0],\n",
       "       [0],\n",
       "       [0],\n",
       "       [2],\n",
       "       [0],\n",
       "       [0],\n",
       "       [1],\n",
       "       [2],\n",
       "       [0],\n",
       "       [1],\n",
       "       [0],\n",
       "       [0],\n",
       "       [1],\n",
       "       [0],\n",
       "       [0],\n",
       "       [0],\n",
       "       [1],\n",
       "       [0],\n",
       "       [0],\n",
       "       [0],\n",
       "       [0],\n",
       "       [0],\n",
       "       [0],\n",
       "       [2],\n",
       "       [0],\n",
       "       [0],\n",
       "       [0],\n",
       "       [1],\n",
       "       [0],\n",
       "       [0],\n",
       "       [0],\n",
       "       [0],\n",
       "       [1],\n",
       "       [0],\n",
       "       [1],\n",
       "       [0],\n",
       "       [0],\n",
       "       [1],\n",
       "       [2],\n",
       "       [0],\n",
       "       [0],\n",
       "       [0],\n",
       "       [1],\n",
       "       [0],\n",
       "       [1],\n",
       "       [0],\n",
       "       [0],\n",
       "       [0],\n",
       "       [1],\n",
       "       [0],\n",
       "       [0],\n",
       "       [0],\n",
       "       [0],\n",
       "       [0],\n",
       "       [1],\n",
       "       [0],\n",
       "       [0],\n",
       "       [0],\n",
       "       [0],\n",
       "       [0],\n",
       "       [0],\n",
       "       [0],\n",
       "       [0],\n",
       "       [0],\n",
       "       [0],\n",
       "       [1],\n",
       "       [0],\n",
       "       [0],\n",
       "       [0],\n",
       "       [1],\n",
       "       [1],\n",
       "       [0],\n",
       "       [0],\n",
       "       [1],\n",
       "       [0],\n",
       "       [0],\n",
       "       [0],\n",
       "       [0],\n",
       "       [0],\n",
       "       [1],\n",
       "       [0],\n",
       "       [0],\n",
       "       [0],\n",
       "       [0],\n",
       "       [0],\n",
       "       [0],\n",
       "       [0],\n",
       "       [0],\n",
       "       [0],\n",
       "       [0],\n",
       "       [0],\n",
       "       [2],\n",
       "       [0],\n",
       "       [0],\n",
       "       [0],\n",
       "       [0],\n",
       "       [0],\n",
       "       [0],\n",
       "       [1],\n",
       "       [0],\n",
       "       [0],\n",
       "       [2],\n",
       "       [0],\n",
       "       [0],\n",
       "       [0],\n",
       "       [0],\n",
       "       [0],\n",
       "       [1],\n",
       "       [1],\n",
       "       [0],\n",
       "       [1],\n",
       "       [1],\n",
       "       [0],\n",
       "       [0],\n",
       "       [0],\n",
       "       [0],\n",
       "       [2],\n",
       "       [0],\n",
       "       [0],\n",
       "       [0]])"
      ]
     },
     "execution_count": 100,
     "metadata": {},
     "output_type": "execute_result"
    }
   ],
   "source": [
    "test_df[['aclDiagnosis']].values"
   ]
  },
  {
   "cell_type": "code",
   "execution_count": 106,
   "metadata": {
    "ExecuteTime": {
     "end_time": "2021-10-02T09:06:19.544471Z",
     "start_time": "2021-10-02T09:06:19.353878Z"
    }
   },
   "outputs": [
    {
     "name": "stdout",
     "output_type": "stream",
     "text": [
      "0.574468085106383\n"
     ]
    }
   ],
   "source": [
    "correct = 0\n",
    "for i in range(len(test_df)):\n",
    "    if test_df[['aclDiagnosis']].values[i,0] == preds[i]:\n",
    "        correct+=1\n",
    "correct /= len(test_df)\n",
    "print(correct)"
   ]
  },
  {
   "cell_type": "code",
   "execution_count": 63,
   "metadata": {
    "ExecuteTime": {
     "end_time": "2021-10-03T07:55:11.094415Z",
     "start_time": "2021-10-03T07:55:11.016356Z"
    }
   },
   "outputs": [
    {
     "data": {
      "text/html": [
       "<div>\n",
       "<style scoped>\n",
       "    .dataframe tbody tr th:only-of-type {\n",
       "        vertical-align: middle;\n",
       "    }\n",
       "\n",
       "    .dataframe tbody tr th {\n",
       "        vertical-align: top;\n",
       "    }\n",
       "\n",
       "    .dataframe thead th {\n",
       "        text-align: right;\n",
       "    }\n",
       "</style>\n",
       "<table border=\"1\" class=\"dataframe\">\n",
       "  <thead>\n",
       "    <tr style=\"text-align: right;\">\n",
       "      <th></th>\n",
       "      <th>TP</th>\n",
       "      <th>TN</th>\n",
       "      <th>FP</th>\n",
       "      <th>FN</th>\n",
       "      <th>Accuracy</th>\n",
       "      <th>Prevalence</th>\n",
       "      <th>Sensitivity</th>\n",
       "      <th>Specificity</th>\n",
       "      <th>PPV</th>\n",
       "      <th>NPV</th>\n",
       "      <th>AUC</th>\n",
       "      <th>F1</th>\n",
       "      <th>Threshold</th>\n",
       "    </tr>\n",
       "    <tr>\n",
       "      <th>Injury</th>\n",
       "      <th></th>\n",
       "      <th></th>\n",
       "      <th></th>\n",
       "      <th></th>\n",
       "      <th></th>\n",
       "      <th></th>\n",
       "      <th></th>\n",
       "      <th></th>\n",
       "      <th></th>\n",
       "      <th></th>\n",
       "      <th></th>\n",
       "      <th></th>\n",
       "      <th></th>\n",
       "    </tr>\n",
       "  </thead>\n",
       "  <tbody>\n",
       "    <tr>\n",
       "      <th>ACL</th>\n",
       "      <td>1</td>\n",
       "      <td>169</td>\n",
       "      <td>7</td>\n",
       "      <td>11</td>\n",
       "      <td>0.904</td>\n",
       "      <td>0.064</td>\n",
       "      <td>0.083</td>\n",
       "      <td>0.96</td>\n",
       "      <td>0.125</td>\n",
       "      <td>0.939</td>\n",
       "      <td>0.741</td>\n",
       "      <td>0.1</td>\n",
       "      <td>0.5</td>\n",
       "    </tr>\n",
       "  </tbody>\n",
       "</table>\n",
       "</div>"
      ],
      "text/plain": [
       "       TP   TN FP  FN  Accuracy  Prevalence  Sensitivity  Specificity    PPV  \\\n",
       "Injury                                                                         \n",
       "ACL     1  169  7  11     0.904       0.064        0.083         0.96  0.125   \n",
       "\n",
       "          NPV    AUC   F1  Threshold  \n",
       "Injury                                \n",
       "ACL     0.939  0.741  0.1        0.5  "
      ]
     },
     "execution_count": 63,
     "metadata": {},
     "output_type": "execute_result"
    }
   ],
   "source": [
    "get_performance_metrics(test_df[['aclDiagnosis']].values, preds, ['ACL']) #['ABN','ACL','MEN'])"
   ]
  },
  {
   "cell_type": "code",
   "execution_count": 71,
   "metadata": {
    "ExecuteTime": {
     "end_time": "2021-09-25T03:54:53.694881Z",
     "start_time": "2021-09-25T03:54:53.692190Z"
    }
   },
   "outputs": [
    {
     "data": {
      "text/plain": [
       "torch.Size([188, 1, 3])"
      ]
     },
     "execution_count": 71,
     "metadata": {},
     "output_type": "execute_result"
    }
   ],
   "source": [
    "gt.shape"
   ]
  },
  {
   "cell_type": "code",
   "execution_count": 73,
   "metadata": {
    "ExecuteTime": {
     "end_time": "2021-09-25T03:55:14.351061Z",
     "start_time": "2021-09-25T03:55:14.044963Z"
    }
   },
   "outputs": [
    {
     "data": {
      "text/plain": [
       "{'AUC':     Mean AUC (CI 5%-95%)\n",
       " ACL     0.76 (0.72-0.80),\n",
       " 'Sensitivity':     Mean Sensitivity (CI 5%-95%)\n",
       " ACL             0.00 (0.00-0.00),\n",
       " 'Specificity':     Mean Specificity (CI 5%-95%)\n",
       " ACL             0.99 (0.98-0.99),\n",
       " 'Accuracy':     Mean Accuracy (CI 5%-95%)\n",
       " ACL          0.93 (0.92-0.93)}"
      ]
     },
     "execution_count": 73,
     "metadata": {},
     "output_type": "execute_result"
    }
   ],
   "source": [
    "get_confidence_intervals(test_df[['aclDiagnosis']].values,preds, ['ACL']) #['ABN','ACL','MEN'])"
   ]
  },
  {
   "cell_type": "code",
   "execution_count": 67,
   "metadata": {
    "ExecuteTime": {
     "end_time": "2021-09-25T03:03:49.552283Z",
     "start_time": "2021-09-25T03:03:49.540924Z"
    }
   },
   "outputs": [
    {
     "data": {
      "text/plain": [
       "tensor([[1.]], device='cuda:1')"
      ]
     },
     "execution_count": 67,
     "metadata": {},
     "output_type": "execute_result"
    }
   ],
   "source": [
    "z"
   ]
  },
  {
   "cell_type": "code",
   "execution_count": null,
   "metadata": {},
   "outputs": [],
   "source": []
  }
 ],
 "metadata": {
  "colab": {
   "collapsed_sections": [
    "8Q4ocHEjkUGy",
    "9E8t_MKiTlz6",
    "yzDaX73PhzXv",
    "8c44LNulTb8i",
    "42RiWwJZkUH5",
    "qQJUoL4zuNYJ",
    "wkLyllF2kUH8",
    "aI_hg4wXkUH-",
    "Bopi6WMmkUIA",
    "DBxj7WvNkUIC",
    "sz7kNHQxkUIE",
    "AZTz4lvkkUII",
    "-D-yr5UshiFM",
    "8iThsv9s0Y1P",
    "7ZSnUdyK0H7T",
    "FC0dXhyiqdF8",
    "Z7lcjU9qcdDo"
   ],
   "name": "Models for TMI Reviewers Comments - ROCKET_MODEL_PyTorch.ipynb",
   "provenance": []
  },
  "kernelspec": {
   "display_name": "Python 3 (ipykernel)",
   "language": "python",
   "name": "python3"
  },
  "language_info": {
   "codemirror_mode": {
    "name": "ipython",
    "version": 3
   },
   "file_extension": ".py",
   "mimetype": "text/x-python",
   "name": "python",
   "nbconvert_exporter": "python",
   "pygments_lexer": "ipython3",
   "version": "3.9.7"
  }
 },
 "nbformat": 4,
 "nbformat_minor": 1
}
